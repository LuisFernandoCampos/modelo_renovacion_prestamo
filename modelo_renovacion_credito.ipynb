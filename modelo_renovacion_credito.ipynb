{
  "nbformat": 4,
  "nbformat_minor": 0,
  "metadata": {
    "colab": {
      "provenance": [],
      "collapsed_sections": [
        "D_VjXX4d3zOp",
        "G41qhNxBm7f5",
        "KAZFpxvRnIPW",
        "3E0y6YuX0cBd",
        "4xejJeAN5iS6",
        "xLrpj0o1B1gu"
      ],
      "mount_file_id": "1sVuIbXaz_vrRUgekrcMrT1H1WpFGDUGH",
      "authorship_tag": "ABX9TyNXMVjodwXlVDiIfwEP6jxF",
      "include_colab_link": true
    },
    "kernelspec": {
      "name": "python3",
      "display_name": "Python 3"
    },
    "language_info": {
      "name": "python"
    }
  },
  "cells": [
    {
      "cell_type": "markdown",
      "metadata": {
        "id": "view-in-github",
        "colab_type": "text"
      },
      "source": [
        "<a href=\"https://colab.research.google.com/github/LuisFernandoCampos/modelo_renovacion_prestamo/blob/main/modelo_renovacion_credito.ipynb\" target=\"_parent\"><img src=\"https://colab.research.google.com/assets/colab-badge.svg\" alt=\"Open In Colab\"/></a>"
      ]
    },
    {
      "cell_type": "code",
      "source": [
        "import pandas as pd\n",
        "import seaborn as sns\n",
        "import matplotlib.pyplot as plt\n",
        "from sklearn.preprocessing import LabelEncoder\n",
        "from sklearn.ensemble import RandomForestClassifier\n",
        "from sklearn.model_selection import train_test_split\n",
        "from sklearn.ensemble import GradientBoostingClassifier\n",
        "from sklearn import metrics\n",
        "from sklearn.metrics import confusion_matrix"
      ],
      "metadata": {
        "id": "Rl0Ok-EgQ_U-"
      },
      "execution_count": 2,
      "outputs": []
    },
    {
      "cell_type": "code",
      "source": [
        "rp=pd.read_csv(\"/content/renovacion_prestamo.csv\", sep=\";\")"
      ],
      "metadata": {
        "id": "0A-XGbGvQ_RZ"
      },
      "execution_count": null,
      "outputs": []
    },
    {
      "cell_type": "markdown",
      "source": [
        "# 1.- ANALISIS EXPLORATORIO DE DATOS"
      ],
      "metadata": {
        "id": "D_VjXX4d3zOp"
      }
    },
    {
      "cell_type": "code",
      "source": [
        "rp.head(2)"
      ],
      "metadata": {
        "colab": {
          "base_uri": "https://localhost:8080/"
        },
        "id": "Fv2hXaYPQ_Na",
        "outputId": "6ec9a8af-6790-43e7-e1b5-7d7fa289416c"
      },
      "execution_count": null,
      "outputs": [
        {
          "output_type": "execute_result",
          "data": {
            "text/plain": [
              "      MES  CLIENTE  LINEA_RENOVADO  PLAZO_RENOVADO  FLAG_VENTA  \\\n",
              "0  201506        1            3770              12           0   \n",
              "1  201506        2            1300               6           0   \n",
              "\n",
              "   USO_LINEA_TOTAL_TC_T2  USO_TRIM_LINEA_BBVA  NR_ENTIDADES_TOTAL_T2  \\\n",
              "0                    0.0                  0.0                      1   \n",
              "1                    0.0                  0.0                      1   \n",
              "\n",
              "   DIFF_NRO_ENTIDA_TOTALES_T2_T12  SDO_CONSUMO_T2  ...  PConsumo_Sldo_Bco_T1  \\\n",
              "0                              -1          271.12  ...                   457   \n",
              "1                               0        11200.00  ...                 11200   \n",
              "\n",
              "   SDO_BCO_tot_sm_pasivo_Bco_6M  EDAD  SEXO  EST_CIVIL ANTIGUEDAD_MES  \\\n",
              "0                   3754.333333  25.0     M          S           23.0   \n",
              "1                   1581.333333  33.0     M          S           56.0   \n",
              "\n",
              "       REGION  FLAG_LIMA_PROVINCIA SUELDO_ESTIMADO  \\\n",
              "0  LIMA NORTE                    1          3531.0   \n",
              "1   LIMA ESTE                    1          1322.0   \n",
              "\n",
              "   CUBRIR_DEUDA_CONSUMO_SF_RENOVA_PLD  \n",
              "0                            0.071915  \n",
              "1                            8.615380  \n",
              "\n",
              "[2 rows x 22 columns]"
            ],
            "text/html": [
              "\n",
              "  <div id=\"df-8cd3ba2a-bca6-484e-afb6-588923082b6b\" class=\"colab-df-container\">\n",
              "    <div>\n",
              "<style scoped>\n",
              "    .dataframe tbody tr th:only-of-type {\n",
              "        vertical-align: middle;\n",
              "    }\n",
              "\n",
              "    .dataframe tbody tr th {\n",
              "        vertical-align: top;\n",
              "    }\n",
              "\n",
              "    .dataframe thead th {\n",
              "        text-align: right;\n",
              "    }\n",
              "</style>\n",
              "<table border=\"1\" class=\"dataframe\">\n",
              "  <thead>\n",
              "    <tr style=\"text-align: right;\">\n",
              "      <th></th>\n",
              "      <th>MES</th>\n",
              "      <th>CLIENTE</th>\n",
              "      <th>LINEA_RENOVADO</th>\n",
              "      <th>PLAZO_RENOVADO</th>\n",
              "      <th>FLAG_VENTA</th>\n",
              "      <th>USO_LINEA_TOTAL_TC_T2</th>\n",
              "      <th>USO_TRIM_LINEA_BBVA</th>\n",
              "      <th>NR_ENTIDADES_TOTAL_T2</th>\n",
              "      <th>DIFF_NRO_ENTIDA_TOTALES_T2_T12</th>\n",
              "      <th>SDO_CONSUMO_T2</th>\n",
              "      <th>...</th>\n",
              "      <th>PConsumo_Sldo_Bco_T1</th>\n",
              "      <th>SDO_BCO_tot_sm_pasivo_Bco_6M</th>\n",
              "      <th>EDAD</th>\n",
              "      <th>SEXO</th>\n",
              "      <th>EST_CIVIL</th>\n",
              "      <th>ANTIGUEDAD_MES</th>\n",
              "      <th>REGION</th>\n",
              "      <th>FLAG_LIMA_PROVINCIA</th>\n",
              "      <th>SUELDO_ESTIMADO</th>\n",
              "      <th>CUBRIR_DEUDA_CONSUMO_SF_RENOVA_PLD</th>\n",
              "    </tr>\n",
              "  </thead>\n",
              "  <tbody>\n",
              "    <tr>\n",
              "      <th>0</th>\n",
              "      <td>201506</td>\n",
              "      <td>1</td>\n",
              "      <td>3770</td>\n",
              "      <td>12</td>\n",
              "      <td>0</td>\n",
              "      <td>0.0</td>\n",
              "      <td>0.0</td>\n",
              "      <td>1</td>\n",
              "      <td>-1</td>\n",
              "      <td>271.12</td>\n",
              "      <td>...</td>\n",
              "      <td>457</td>\n",
              "      <td>3754.333333</td>\n",
              "      <td>25.0</td>\n",
              "      <td>M</td>\n",
              "      <td>S</td>\n",
              "      <td>23.0</td>\n",
              "      <td>LIMA NORTE</td>\n",
              "      <td>1</td>\n",
              "      <td>3531.0</td>\n",
              "      <td>0.071915</td>\n",
              "    </tr>\n",
              "    <tr>\n",
              "      <th>1</th>\n",
              "      <td>201506</td>\n",
              "      <td>2</td>\n",
              "      <td>1300</td>\n",
              "      <td>6</td>\n",
              "      <td>0</td>\n",
              "      <td>0.0</td>\n",
              "      <td>0.0</td>\n",
              "      <td>1</td>\n",
              "      <td>0</td>\n",
              "      <td>11200.00</td>\n",
              "      <td>...</td>\n",
              "      <td>11200</td>\n",
              "      <td>1581.333333</td>\n",
              "      <td>33.0</td>\n",
              "      <td>M</td>\n",
              "      <td>S</td>\n",
              "      <td>56.0</td>\n",
              "      <td>LIMA ESTE</td>\n",
              "      <td>1</td>\n",
              "      <td>1322.0</td>\n",
              "      <td>8.615380</td>\n",
              "    </tr>\n",
              "  </tbody>\n",
              "</table>\n",
              "<p>2 rows × 22 columns</p>\n",
              "</div>\n",
              "    <div class=\"colab-df-buttons\">\n",
              "\n",
              "  <div class=\"colab-df-container\">\n",
              "    <button class=\"colab-df-convert\" onclick=\"convertToInteractive('df-8cd3ba2a-bca6-484e-afb6-588923082b6b')\"\n",
              "            title=\"Convert this dataframe to an interactive table.\"\n",
              "            style=\"display:none;\">\n",
              "\n",
              "  <svg xmlns=\"http://www.w3.org/2000/svg\" height=\"24px\" viewBox=\"0 -960 960 960\">\n",
              "    <path d=\"M120-120v-720h720v720H120Zm60-500h600v-160H180v160Zm220 220h160v-160H400v160Zm0 220h160v-160H400v160ZM180-400h160v-160H180v160Zm440 0h160v-160H620v160ZM180-180h160v-160H180v160Zm440 0h160v-160H620v160Z\"/>\n",
              "  </svg>\n",
              "    </button>\n",
              "\n",
              "  <style>\n",
              "    .colab-df-container {\n",
              "      display:flex;\n",
              "      gap: 12px;\n",
              "    }\n",
              "\n",
              "    .colab-df-convert {\n",
              "      background-color: #E8F0FE;\n",
              "      border: none;\n",
              "      border-radius: 50%;\n",
              "      cursor: pointer;\n",
              "      display: none;\n",
              "      fill: #1967D2;\n",
              "      height: 32px;\n",
              "      padding: 0 0 0 0;\n",
              "      width: 32px;\n",
              "    }\n",
              "\n",
              "    .colab-df-convert:hover {\n",
              "      background-color: #E2EBFA;\n",
              "      box-shadow: 0px 1px 2px rgba(60, 64, 67, 0.3), 0px 1px 3px 1px rgba(60, 64, 67, 0.15);\n",
              "      fill: #174EA6;\n",
              "    }\n",
              "\n",
              "    .colab-df-buttons div {\n",
              "      margin-bottom: 4px;\n",
              "    }\n",
              "\n",
              "    [theme=dark] .colab-df-convert {\n",
              "      background-color: #3B4455;\n",
              "      fill: #D2E3FC;\n",
              "    }\n",
              "\n",
              "    [theme=dark] .colab-df-convert:hover {\n",
              "      background-color: #434B5C;\n",
              "      box-shadow: 0px 1px 3px 1px rgba(0, 0, 0, 0.15);\n",
              "      filter: drop-shadow(0px 1px 2px rgba(0, 0, 0, 0.3));\n",
              "      fill: #FFFFFF;\n",
              "    }\n",
              "  </style>\n",
              "\n",
              "    <script>\n",
              "      const buttonEl =\n",
              "        document.querySelector('#df-8cd3ba2a-bca6-484e-afb6-588923082b6b button.colab-df-convert');\n",
              "      buttonEl.style.display =\n",
              "        google.colab.kernel.accessAllowed ? 'block' : 'none';\n",
              "\n",
              "      async function convertToInteractive(key) {\n",
              "        const element = document.querySelector('#df-8cd3ba2a-bca6-484e-afb6-588923082b6b');\n",
              "        const dataTable =\n",
              "          await google.colab.kernel.invokeFunction('convertToInteractive',\n",
              "                                                    [key], {});\n",
              "        if (!dataTable) return;\n",
              "\n",
              "        const docLinkHtml = 'Like what you see? Visit the ' +\n",
              "          '<a target=\"_blank\" href=https://colab.research.google.com/notebooks/data_table.ipynb>data table notebook</a>'\n",
              "          + ' to learn more about interactive tables.';\n",
              "        element.innerHTML = '';\n",
              "        dataTable['output_type'] = 'display_data';\n",
              "        await google.colab.output.renderOutput(dataTable, element);\n",
              "        const docLink = document.createElement('div');\n",
              "        docLink.innerHTML = docLinkHtml;\n",
              "        element.appendChild(docLink);\n",
              "      }\n",
              "    </script>\n",
              "  </div>\n",
              "\n",
              "\n",
              "<div id=\"df-c3655f92-3069-4137-b737-d197f77171fb\">\n",
              "  <button class=\"colab-df-quickchart\" onclick=\"quickchart('df-c3655f92-3069-4137-b737-d197f77171fb')\"\n",
              "            title=\"Suggest charts\"\n",
              "            style=\"display:none;\">\n",
              "\n",
              "<svg xmlns=\"http://www.w3.org/2000/svg\" height=\"24px\"viewBox=\"0 0 24 24\"\n",
              "     width=\"24px\">\n",
              "    <g>\n",
              "        <path d=\"M19 3H5c-1.1 0-2 .9-2 2v14c0 1.1.9 2 2 2h14c1.1 0 2-.9 2-2V5c0-1.1-.9-2-2-2zM9 17H7v-7h2v7zm4 0h-2V7h2v10zm4 0h-2v-4h2v4z\"/>\n",
              "    </g>\n",
              "</svg>\n",
              "  </button>\n",
              "\n",
              "<style>\n",
              "  .colab-df-quickchart {\n",
              "      --bg-color: #E8F0FE;\n",
              "      --fill-color: #1967D2;\n",
              "      --hover-bg-color: #E2EBFA;\n",
              "      --hover-fill-color: #174EA6;\n",
              "      --disabled-fill-color: #AAA;\n",
              "      --disabled-bg-color: #DDD;\n",
              "  }\n",
              "\n",
              "  [theme=dark] .colab-df-quickchart {\n",
              "      --bg-color: #3B4455;\n",
              "      --fill-color: #D2E3FC;\n",
              "      --hover-bg-color: #434B5C;\n",
              "      --hover-fill-color: #FFFFFF;\n",
              "      --disabled-bg-color: #3B4455;\n",
              "      --disabled-fill-color: #666;\n",
              "  }\n",
              "\n",
              "  .colab-df-quickchart {\n",
              "    background-color: var(--bg-color);\n",
              "    border: none;\n",
              "    border-radius: 50%;\n",
              "    cursor: pointer;\n",
              "    display: none;\n",
              "    fill: var(--fill-color);\n",
              "    height: 32px;\n",
              "    padding: 0;\n",
              "    width: 32px;\n",
              "  }\n",
              "\n",
              "  .colab-df-quickchart:hover {\n",
              "    background-color: var(--hover-bg-color);\n",
              "    box-shadow: 0 1px 2px rgba(60, 64, 67, 0.3), 0 1px 3px 1px rgba(60, 64, 67, 0.15);\n",
              "    fill: var(--button-hover-fill-color);\n",
              "  }\n",
              "\n",
              "  .colab-df-quickchart-complete:disabled,\n",
              "  .colab-df-quickchart-complete:disabled:hover {\n",
              "    background-color: var(--disabled-bg-color);\n",
              "    fill: var(--disabled-fill-color);\n",
              "    box-shadow: none;\n",
              "  }\n",
              "\n",
              "  .colab-df-spinner {\n",
              "    border: 2px solid var(--fill-color);\n",
              "    border-color: transparent;\n",
              "    border-bottom-color: var(--fill-color);\n",
              "    animation:\n",
              "      spin 1s steps(1) infinite;\n",
              "  }\n",
              "\n",
              "  @keyframes spin {\n",
              "    0% {\n",
              "      border-color: transparent;\n",
              "      border-bottom-color: var(--fill-color);\n",
              "      border-left-color: var(--fill-color);\n",
              "    }\n",
              "    20% {\n",
              "      border-color: transparent;\n",
              "      border-left-color: var(--fill-color);\n",
              "      border-top-color: var(--fill-color);\n",
              "    }\n",
              "    30% {\n",
              "      border-color: transparent;\n",
              "      border-left-color: var(--fill-color);\n",
              "      border-top-color: var(--fill-color);\n",
              "      border-right-color: var(--fill-color);\n",
              "    }\n",
              "    40% {\n",
              "      border-color: transparent;\n",
              "      border-right-color: var(--fill-color);\n",
              "      border-top-color: var(--fill-color);\n",
              "    }\n",
              "    60% {\n",
              "      border-color: transparent;\n",
              "      border-right-color: var(--fill-color);\n",
              "    }\n",
              "    80% {\n",
              "      border-color: transparent;\n",
              "      border-right-color: var(--fill-color);\n",
              "      border-bottom-color: var(--fill-color);\n",
              "    }\n",
              "    90% {\n",
              "      border-color: transparent;\n",
              "      border-bottom-color: var(--fill-color);\n",
              "    }\n",
              "  }\n",
              "</style>\n",
              "\n",
              "  <script>\n",
              "    async function quickchart(key) {\n",
              "      const quickchartButtonEl =\n",
              "        document.querySelector('#' + key + ' button');\n",
              "      quickchartButtonEl.disabled = true;  // To prevent multiple clicks.\n",
              "      quickchartButtonEl.classList.add('colab-df-spinner');\n",
              "      try {\n",
              "        const charts = await google.colab.kernel.invokeFunction(\n",
              "            'suggestCharts', [key], {});\n",
              "      } catch (error) {\n",
              "        console.error('Error during call to suggestCharts:', error);\n",
              "      }\n",
              "      quickchartButtonEl.classList.remove('colab-df-spinner');\n",
              "      quickchartButtonEl.classList.add('colab-df-quickchart-complete');\n",
              "    }\n",
              "    (() => {\n",
              "      let quickchartButtonEl =\n",
              "        document.querySelector('#df-c3655f92-3069-4137-b737-d197f77171fb button');\n",
              "      quickchartButtonEl.style.display =\n",
              "        google.colab.kernel.accessAllowed ? 'block' : 'none';\n",
              "    })();\n",
              "  </script>\n",
              "</div>\n",
              "    </div>\n",
              "  </div>\n"
            ]
          },
          "metadata": {},
          "execution_count": 155
        }
      ]
    },
    {
      "cell_type": "code",
      "source": [
        "rp[\"FLAG_VENTA\"].value_counts()/len(rp)*100"
      ],
      "metadata": {
        "colab": {
          "base_uri": "https://localhost:8080/"
        },
        "id": "aQIvwWj6zRJj",
        "outputId": "a4c106e3-6931-4047-ed56-6221e5cc26ee"
      },
      "execution_count": null,
      "outputs": [
        {
          "output_type": "execute_result",
          "data": {
            "text/plain": [
              "0    96.011695\n",
              "1     3.988305\n",
              "Name: FLAG_VENTA, dtype: float64"
            ]
          },
          "metadata": {},
          "execution_count": 156
        }
      ]
    },
    {
      "cell_type": "code",
      "source": [
        "rp[\"CLIENTE\"].count()"
      ],
      "metadata": {
        "colab": {
          "base_uri": "https://localhost:8080/"
        },
        "id": "ndyodAwVYCm6",
        "outputId": "431312ef-ddbf-4b8f-c098-1522248273fa"
      },
      "execution_count": null,
      "outputs": [
        {
          "output_type": "execute_result",
          "data": {
            "text/plain": [
              "87556"
            ]
          },
          "metadata": {},
          "execution_count": 157
        }
      ]
    },
    {
      "cell_type": "code",
      "source": [
        "print(\"tamaño: \",rp.shape)"
      ],
      "metadata": {
        "colab": {
          "base_uri": "https://localhost:8080/"
        },
        "id": "f2pNp4DwW1aP",
        "outputId": "aa0bab93-a4b2-4c91-81f3-d7de8adab7f1"
      },
      "execution_count": null,
      "outputs": [
        {
          "output_type": "stream",
          "name": "stdout",
          "text": [
            "tamaño:  (87556, 22)\n"
          ]
        }
      ]
    },
    {
      "cell_type": "code",
      "source": [
        "rp.info()"
      ],
      "metadata": {
        "colab": {
          "base_uri": "https://localhost:8080/"
        },
        "id": "EQ4733jhW1Va",
        "outputId": "68f83130-98e8-4453-e0f3-cccf0fa846f7"
      },
      "execution_count": null,
      "outputs": [
        {
          "output_type": "stream",
          "name": "stdout",
          "text": [
            "<class 'pandas.core.frame.DataFrame'>\n",
            "RangeIndex: 87556 entries, 0 to 87555\n",
            "Data columns (total 22 columns):\n",
            " #   Column                              Non-Null Count  Dtype  \n",
            "---  ------                              --------------  -----  \n",
            " 0   MES                                 87556 non-null  int64  \n",
            " 1   CLIENTE                             87556 non-null  int64  \n",
            " 2   LINEA_RENOVADO                      87556 non-null  int64  \n",
            " 3   PLAZO_RENOVADO                      87556 non-null  int64  \n",
            " 4   FLAG_VENTA                          87556 non-null  int64  \n",
            " 5   USO_LINEA_TOTAL_TC_T2               68364 non-null  float64\n",
            " 6   USO_TRIM_LINEA_BBVA                 68364 non-null  float64\n",
            " 7   NR_ENTIDADES_TOTAL_T2               87556 non-null  int64  \n",
            " 8   DIFF_NRO_ENTIDA_TOTALES_T2_T12      87556 non-null  int64  \n",
            " 9   SDO_CONSUMO_T2                      82370 non-null  float64\n",
            " 10  RESENCIA_OFERTA_PLD_RENOVADO        73700 non-null  float64\n",
            " 11  Ahorro_Sldo_Bco_T1                  87556 non-null  int64  \n",
            " 12  PConsumo_Sldo_Bco_T1                87556 non-null  int64  \n",
            " 13  SDO_BCO_tot_sm_pasivo_Bco_6M        87556 non-null  float64\n",
            " 14  EDAD                                87555 non-null  float64\n",
            " 15  SEXO                                87555 non-null  object \n",
            " 16  EST_CIVIL                           87555 non-null  object \n",
            " 17  ANTIGUEDAD_MES                      87555 non-null  float64\n",
            " 18  REGION                              87538 non-null  object \n",
            " 19  FLAG_LIMA_PROVINCIA                 87556 non-null  int64  \n",
            " 20  SUELDO_ESTIMADO                     87519 non-null  float64\n",
            " 21  CUBRIR_DEUDA_CONSUMO_SF_RENOVA_PLD  87556 non-null  float64\n",
            "dtypes: float64(9), int64(10), object(3)\n",
            "memory usage: 14.7+ MB\n"
          ]
        }
      ]
    },
    {
      "cell_type": "code",
      "source": [
        "rp.isna().sum()"
      ],
      "metadata": {
        "colab": {
          "base_uri": "https://localhost:8080/"
        },
        "id": "kFWJk43Hoxkp",
        "outputId": "4bcfb8e6-1af9-4b74-aba3-97f13b4f1e8c"
      },
      "execution_count": null,
      "outputs": [
        {
          "output_type": "execute_result",
          "data": {
            "text/plain": [
              "MES                                       0\n",
              "CLIENTE                                   0\n",
              "LINEA_RENOVADO                            0\n",
              "PLAZO_RENOVADO                            0\n",
              "FLAG_VENTA                                0\n",
              "USO_LINEA_TOTAL_TC_T2                 19192\n",
              "USO_TRIM_LINEA_BBVA                   19192\n",
              "NR_ENTIDADES_TOTAL_T2                     0\n",
              "DIFF_NRO_ENTIDA_TOTALES_T2_T12            0\n",
              "SDO_CONSUMO_T2                         5186\n",
              "RESENCIA_OFERTA_PLD_RENOVADO          13856\n",
              "Ahorro_Sldo_Bco_T1                        0\n",
              "PConsumo_Sldo_Bco_T1                      0\n",
              "SDO_BCO_tot_sm_pasivo_Bco_6M              0\n",
              "EDAD                                      1\n",
              "SEXO                                      1\n",
              "EST_CIVIL                                 1\n",
              "ANTIGUEDAD_MES                            1\n",
              "REGION                                   18\n",
              "FLAG_LIMA_PROVINCIA                       0\n",
              "SUELDO_ESTIMADO                          37\n",
              "CUBRIR_DEUDA_CONSUMO_SF_RENOVA_PLD        0\n",
              "dtype: int64"
            ]
          },
          "metadata": {},
          "execution_count": 160
        }
      ]
    },
    {
      "cell_type": "code",
      "source": [
        "# Filtrar columnas con valores nulos\n",
        "columnas_con_nulos = rp.columns[rp.isna().sum() > 0]\n",
        "p50=lambda x: x.quantile(0.50)\n",
        "p99=lambda x: x.quantile(0.99)\n",
        "p95=lambda x: x.quantile(0.95)\n",
        "coeficiente_variabilidad= (rp[columnas_con_nulos].std() / rp[columnas_con_nulos].mean())*100"
      ],
      "metadata": {
        "colab": {
          "base_uri": "https://localhost:8080/"
        },
        "id": "nh2NnYcQoxee",
        "outputId": "a0ded84b-1fa4-44fd-d958-cd6001c67291"
      },
      "execution_count": null,
      "outputs": [
        {
          "output_type": "stream",
          "name": "stderr",
          "text": [
            "<ipython-input-161-cc6be0556025>:6: FutureWarning: The default value of numeric_only in DataFrame.std is deprecated. In a future version, it will default to False. In addition, specifying 'numeric_only=None' is deprecated. Select only valid columns or specify the value of numeric_only to silence this warning.\n",
            "  coeficiente_variabilidad= (rp[columnas_con_nulos].std() / rp[columnas_con_nulos].mean())*100\n",
            "<ipython-input-161-cc6be0556025>:6: FutureWarning: The default value of numeric_only in DataFrame.mean is deprecated. In a future version, it will default to False. In addition, specifying 'numeric_only=None' is deprecated. Select only valid columns or specify the value of numeric_only to silence this warning.\n",
            "  coeficiente_variabilidad= (rp[columnas_con_nulos].std() / rp[columnas_con_nulos].mean())*100\n"
          ]
        }
      ]
    },
    {
      "cell_type": "code",
      "source": [
        "coeficiente_variabilidad.sort_values(ascending=False)"
      ],
      "metadata": {
        "colab": {
          "base_uri": "https://localhost:8080/"
        },
        "id": "o9Z1lM2se6NQ",
        "outputId": "25abcde6-bc6b-4618-fa73-9ba8c0709f19"
      },
      "execution_count": null,
      "outputs": [
        {
          "output_type": "execute_result",
          "data": {
            "text/plain": [
              "USO_TRIM_LINEA_BBVA             211.180842\n",
              "SDO_CONSUMO_T2                  149.946500\n",
              "USO_LINEA_TOTAL_TC_T2           149.463004\n",
              "SUELDO_ESTIMADO                 125.966387\n",
              "ANTIGUEDAD_MES                   60.225762\n",
              "RESENCIA_OFERTA_PLD_RENOVADO     40.323096\n",
              "EDAD                             24.697052\n",
              "dtype: float64"
            ]
          },
          "metadata": {},
          "execution_count": 162
        }
      ]
    },
    {
      "cell_type": "code",
      "source": [
        "rp[columnas_con_nulos].agg([\"mean\", p50, \"min\", \"max\",p95,p99]).T\n"
      ],
      "metadata": {
        "colab": {
          "base_uri": "https://localhost:8080/"
        },
        "id": "1Pjjk-GZu4cq",
        "outputId": "4ddb86d5-c2b7-4cb4-94da-8707946d6ef8"
      },
      "execution_count": null,
      "outputs": [
        {
          "output_type": "stream",
          "name": "stderr",
          "text": [
            "<ipython-input-163-62699aac1bf3>:1: FutureWarning: ['SEXO', 'EST_CIVIL', 'REGION'] did not aggregate successfully. If any error is raised this will raise in a future version of pandas. Drop these columns/ops to avoid this warning.\n",
            "  rp[columnas_con_nulos].agg([\"mean\", p50, \"min\", \"max\",p95,p99]).T\n"
          ]
        },
        {
          "output_type": "execute_result",
          "data": {
            "text/plain": [
              "                                      mean     <lambda>   min            max  \\\n",
              "USO_LINEA_TOTAL_TC_T2             0.128593     0.030634   0.0       1.466976   \n",
              "USO_TRIM_LINEA_BBVA               0.096935     0.000000   0.0       1.666666   \n",
              "SDO_CONSUMO_T2                14385.172299  8368.145000   0.0  722781.090000   \n",
              "RESENCIA_OFERTA_PLD_RENOVADO     14.704464    15.000000   1.0      21.000000   \n",
              "EDAD                             43.820753    43.000000  21.0      72.000000   \n",
              "ANTIGUEDAD_MES                  124.336508   106.000000   3.0     561.000000   \n",
              "SUELDO_ESTIMADO                4766.287255  3178.120000   0.0  240909.000000   \n",
              "\n",
              "                                  <lambda>       <lambda>  \n",
              "USO_LINEA_TOTAL_TC_T2             0.556814       0.809457  \n",
              "USO_TRIM_LINEA_BBVA               0.605864       0.900713  \n",
              "SDO_CONSUMO_T2                48501.905000  107020.912400  \n",
              "RESENCIA_OFERTA_PLD_RENOVADO     21.000000      21.000000  \n",
              "EDAD                             62.000000      65.000000  \n",
              "ANTIGUEDAD_MES                  241.000000     294.000000  \n",
              "SUELDO_ESTIMADO               12746.300000   24750.000000  "
            ],
            "text/html": [
              "\n",
              "  <div id=\"df-02e37543-b1c4-4206-8faf-f88ae0e0fc71\" class=\"colab-df-container\">\n",
              "    <div>\n",
              "<style scoped>\n",
              "    .dataframe tbody tr th:only-of-type {\n",
              "        vertical-align: middle;\n",
              "    }\n",
              "\n",
              "    .dataframe tbody tr th {\n",
              "        vertical-align: top;\n",
              "    }\n",
              "\n",
              "    .dataframe thead th {\n",
              "        text-align: right;\n",
              "    }\n",
              "</style>\n",
              "<table border=\"1\" class=\"dataframe\">\n",
              "  <thead>\n",
              "    <tr style=\"text-align: right;\">\n",
              "      <th></th>\n",
              "      <th>mean</th>\n",
              "      <th>&lt;lambda&gt;</th>\n",
              "      <th>min</th>\n",
              "      <th>max</th>\n",
              "      <th>&lt;lambda&gt;</th>\n",
              "      <th>&lt;lambda&gt;</th>\n",
              "    </tr>\n",
              "  </thead>\n",
              "  <tbody>\n",
              "    <tr>\n",
              "      <th>USO_LINEA_TOTAL_TC_T2</th>\n",
              "      <td>0.128593</td>\n",
              "      <td>0.030634</td>\n",
              "      <td>0.0</td>\n",
              "      <td>1.466976</td>\n",
              "      <td>0.556814</td>\n",
              "      <td>0.809457</td>\n",
              "    </tr>\n",
              "    <tr>\n",
              "      <th>USO_TRIM_LINEA_BBVA</th>\n",
              "      <td>0.096935</td>\n",
              "      <td>0.000000</td>\n",
              "      <td>0.0</td>\n",
              "      <td>1.666666</td>\n",
              "      <td>0.605864</td>\n",
              "      <td>0.900713</td>\n",
              "    </tr>\n",
              "    <tr>\n",
              "      <th>SDO_CONSUMO_T2</th>\n",
              "      <td>14385.172299</td>\n",
              "      <td>8368.145000</td>\n",
              "      <td>0.0</td>\n",
              "      <td>722781.090000</td>\n",
              "      <td>48501.905000</td>\n",
              "      <td>107020.912400</td>\n",
              "    </tr>\n",
              "    <tr>\n",
              "      <th>RESENCIA_OFERTA_PLD_RENOVADO</th>\n",
              "      <td>14.704464</td>\n",
              "      <td>15.000000</td>\n",
              "      <td>1.0</td>\n",
              "      <td>21.000000</td>\n",
              "      <td>21.000000</td>\n",
              "      <td>21.000000</td>\n",
              "    </tr>\n",
              "    <tr>\n",
              "      <th>EDAD</th>\n",
              "      <td>43.820753</td>\n",
              "      <td>43.000000</td>\n",
              "      <td>21.0</td>\n",
              "      <td>72.000000</td>\n",
              "      <td>62.000000</td>\n",
              "      <td>65.000000</td>\n",
              "    </tr>\n",
              "    <tr>\n",
              "      <th>ANTIGUEDAD_MES</th>\n",
              "      <td>124.336508</td>\n",
              "      <td>106.000000</td>\n",
              "      <td>3.0</td>\n",
              "      <td>561.000000</td>\n",
              "      <td>241.000000</td>\n",
              "      <td>294.000000</td>\n",
              "    </tr>\n",
              "    <tr>\n",
              "      <th>SUELDO_ESTIMADO</th>\n",
              "      <td>4766.287255</td>\n",
              "      <td>3178.120000</td>\n",
              "      <td>0.0</td>\n",
              "      <td>240909.000000</td>\n",
              "      <td>12746.300000</td>\n",
              "      <td>24750.000000</td>\n",
              "    </tr>\n",
              "  </tbody>\n",
              "</table>\n",
              "</div>\n",
              "    <div class=\"colab-df-buttons\">\n",
              "\n",
              "  <div class=\"colab-df-container\">\n",
              "    <button class=\"colab-df-convert\" onclick=\"convertToInteractive('df-02e37543-b1c4-4206-8faf-f88ae0e0fc71')\"\n",
              "            title=\"Convert this dataframe to an interactive table.\"\n",
              "            style=\"display:none;\">\n",
              "\n",
              "  <svg xmlns=\"http://www.w3.org/2000/svg\" height=\"24px\" viewBox=\"0 -960 960 960\">\n",
              "    <path d=\"M120-120v-720h720v720H120Zm60-500h600v-160H180v160Zm220 220h160v-160H400v160Zm0 220h160v-160H400v160ZM180-400h160v-160H180v160Zm440 0h160v-160H620v160ZM180-180h160v-160H180v160Zm440 0h160v-160H620v160Z\"/>\n",
              "  </svg>\n",
              "    </button>\n",
              "\n",
              "  <style>\n",
              "    .colab-df-container {\n",
              "      display:flex;\n",
              "      gap: 12px;\n",
              "    }\n",
              "\n",
              "    .colab-df-convert {\n",
              "      background-color: #E8F0FE;\n",
              "      border: none;\n",
              "      border-radius: 50%;\n",
              "      cursor: pointer;\n",
              "      display: none;\n",
              "      fill: #1967D2;\n",
              "      height: 32px;\n",
              "      padding: 0 0 0 0;\n",
              "      width: 32px;\n",
              "    }\n",
              "\n",
              "    .colab-df-convert:hover {\n",
              "      background-color: #E2EBFA;\n",
              "      box-shadow: 0px 1px 2px rgba(60, 64, 67, 0.3), 0px 1px 3px 1px rgba(60, 64, 67, 0.15);\n",
              "      fill: #174EA6;\n",
              "    }\n",
              "\n",
              "    .colab-df-buttons div {\n",
              "      margin-bottom: 4px;\n",
              "    }\n",
              "\n",
              "    [theme=dark] .colab-df-convert {\n",
              "      background-color: #3B4455;\n",
              "      fill: #D2E3FC;\n",
              "    }\n",
              "\n",
              "    [theme=dark] .colab-df-convert:hover {\n",
              "      background-color: #434B5C;\n",
              "      box-shadow: 0px 1px 3px 1px rgba(0, 0, 0, 0.15);\n",
              "      filter: drop-shadow(0px 1px 2px rgba(0, 0, 0, 0.3));\n",
              "      fill: #FFFFFF;\n",
              "    }\n",
              "  </style>\n",
              "\n",
              "    <script>\n",
              "      const buttonEl =\n",
              "        document.querySelector('#df-02e37543-b1c4-4206-8faf-f88ae0e0fc71 button.colab-df-convert');\n",
              "      buttonEl.style.display =\n",
              "        google.colab.kernel.accessAllowed ? 'block' : 'none';\n",
              "\n",
              "      async function convertToInteractive(key) {\n",
              "        const element = document.querySelector('#df-02e37543-b1c4-4206-8faf-f88ae0e0fc71');\n",
              "        const dataTable =\n",
              "          await google.colab.kernel.invokeFunction('convertToInteractive',\n",
              "                                                    [key], {});\n",
              "        if (!dataTable) return;\n",
              "\n",
              "        const docLinkHtml = 'Like what you see? Visit the ' +\n",
              "          '<a target=\"_blank\" href=https://colab.research.google.com/notebooks/data_table.ipynb>data table notebook</a>'\n",
              "          + ' to learn more about interactive tables.';\n",
              "        element.innerHTML = '';\n",
              "        dataTable['output_type'] = 'display_data';\n",
              "        await google.colab.output.renderOutput(dataTable, element);\n",
              "        const docLink = document.createElement('div');\n",
              "        docLink.innerHTML = docLinkHtml;\n",
              "        element.appendChild(docLink);\n",
              "      }\n",
              "    </script>\n",
              "  </div>\n",
              "\n",
              "\n",
              "<div id=\"df-ea3287ed-48c7-4b51-a12a-ac2f9b90a89e\">\n",
              "  <button class=\"colab-df-quickchart\" onclick=\"quickchart('df-ea3287ed-48c7-4b51-a12a-ac2f9b90a89e')\"\n",
              "            title=\"Suggest charts\"\n",
              "            style=\"display:none;\">\n",
              "\n",
              "<svg xmlns=\"http://www.w3.org/2000/svg\" height=\"24px\"viewBox=\"0 0 24 24\"\n",
              "     width=\"24px\">\n",
              "    <g>\n",
              "        <path d=\"M19 3H5c-1.1 0-2 .9-2 2v14c0 1.1.9 2 2 2h14c1.1 0 2-.9 2-2V5c0-1.1-.9-2-2-2zM9 17H7v-7h2v7zm4 0h-2V7h2v10zm4 0h-2v-4h2v4z\"/>\n",
              "    </g>\n",
              "</svg>\n",
              "  </button>\n",
              "\n",
              "<style>\n",
              "  .colab-df-quickchart {\n",
              "      --bg-color: #E8F0FE;\n",
              "      --fill-color: #1967D2;\n",
              "      --hover-bg-color: #E2EBFA;\n",
              "      --hover-fill-color: #174EA6;\n",
              "      --disabled-fill-color: #AAA;\n",
              "      --disabled-bg-color: #DDD;\n",
              "  }\n",
              "\n",
              "  [theme=dark] .colab-df-quickchart {\n",
              "      --bg-color: #3B4455;\n",
              "      --fill-color: #D2E3FC;\n",
              "      --hover-bg-color: #434B5C;\n",
              "      --hover-fill-color: #FFFFFF;\n",
              "      --disabled-bg-color: #3B4455;\n",
              "      --disabled-fill-color: #666;\n",
              "  }\n",
              "\n",
              "  .colab-df-quickchart {\n",
              "    background-color: var(--bg-color);\n",
              "    border: none;\n",
              "    border-radius: 50%;\n",
              "    cursor: pointer;\n",
              "    display: none;\n",
              "    fill: var(--fill-color);\n",
              "    height: 32px;\n",
              "    padding: 0;\n",
              "    width: 32px;\n",
              "  }\n",
              "\n",
              "  .colab-df-quickchart:hover {\n",
              "    background-color: var(--hover-bg-color);\n",
              "    box-shadow: 0 1px 2px rgba(60, 64, 67, 0.3), 0 1px 3px 1px rgba(60, 64, 67, 0.15);\n",
              "    fill: var(--button-hover-fill-color);\n",
              "  }\n",
              "\n",
              "  .colab-df-quickchart-complete:disabled,\n",
              "  .colab-df-quickchart-complete:disabled:hover {\n",
              "    background-color: var(--disabled-bg-color);\n",
              "    fill: var(--disabled-fill-color);\n",
              "    box-shadow: none;\n",
              "  }\n",
              "\n",
              "  .colab-df-spinner {\n",
              "    border: 2px solid var(--fill-color);\n",
              "    border-color: transparent;\n",
              "    border-bottom-color: var(--fill-color);\n",
              "    animation:\n",
              "      spin 1s steps(1) infinite;\n",
              "  }\n",
              "\n",
              "  @keyframes spin {\n",
              "    0% {\n",
              "      border-color: transparent;\n",
              "      border-bottom-color: var(--fill-color);\n",
              "      border-left-color: var(--fill-color);\n",
              "    }\n",
              "    20% {\n",
              "      border-color: transparent;\n",
              "      border-left-color: var(--fill-color);\n",
              "      border-top-color: var(--fill-color);\n",
              "    }\n",
              "    30% {\n",
              "      border-color: transparent;\n",
              "      border-left-color: var(--fill-color);\n",
              "      border-top-color: var(--fill-color);\n",
              "      border-right-color: var(--fill-color);\n",
              "    }\n",
              "    40% {\n",
              "      border-color: transparent;\n",
              "      border-right-color: var(--fill-color);\n",
              "      border-top-color: var(--fill-color);\n",
              "    }\n",
              "    60% {\n",
              "      border-color: transparent;\n",
              "      border-right-color: var(--fill-color);\n",
              "    }\n",
              "    80% {\n",
              "      border-color: transparent;\n",
              "      border-right-color: var(--fill-color);\n",
              "      border-bottom-color: var(--fill-color);\n",
              "    }\n",
              "    90% {\n",
              "      border-color: transparent;\n",
              "      border-bottom-color: var(--fill-color);\n",
              "    }\n",
              "  }\n",
              "</style>\n",
              "\n",
              "  <script>\n",
              "    async function quickchart(key) {\n",
              "      const quickchartButtonEl =\n",
              "        document.querySelector('#' + key + ' button');\n",
              "      quickchartButtonEl.disabled = true;  // To prevent multiple clicks.\n",
              "      quickchartButtonEl.classList.add('colab-df-spinner');\n",
              "      try {\n",
              "        const charts = await google.colab.kernel.invokeFunction(\n",
              "            'suggestCharts', [key], {});\n",
              "      } catch (error) {\n",
              "        console.error('Error during call to suggestCharts:', error);\n",
              "      }\n",
              "      quickchartButtonEl.classList.remove('colab-df-spinner');\n",
              "      quickchartButtonEl.classList.add('colab-df-quickchart-complete');\n",
              "    }\n",
              "    (() => {\n",
              "      let quickchartButtonEl =\n",
              "        document.querySelector('#df-ea3287ed-48c7-4b51-a12a-ac2f9b90a89e button');\n",
              "      quickchartButtonEl.style.display =\n",
              "        google.colab.kernel.accessAllowed ? 'block' : 'none';\n",
              "    })();\n",
              "  </script>\n",
              "</div>\n",
              "    </div>\n",
              "  </div>\n"
            ]
          },
          "metadata": {},
          "execution_count": 163
        }
      ]
    },
    {
      "cell_type": "markdown",
      "source": [
        "# 2.- PREPROCESAMIENTO"
      ],
      "metadata": {
        "id": "5R-j14ro4RUM"
      }
    },
    {
      "cell_type": "markdown",
      "source": [
        "  # 2.1.- LIMPIEZA DE DATOS"
      ],
      "metadata": {
        "id": "eDF9dsZ54nny"
      }
    },
    {
      "cell_type": "markdown",
      "source": [
        "# COLUMNAS NUMERICAS\n"
      ],
      "metadata": {
        "id": "G41qhNxBm7f5"
      }
    },
    {
      "cell_type": "markdown",
      "source": [
        "**USO_LINEA_TOTAL_TC_T2**"
      ],
      "metadata": {
        "id": "Iah3aYxC7Jeo"
      }
    },
    {
      "cell_type": "code",
      "source": [
        "sns.boxplot(rp[\"USO_LINEA_TOTAL_TC_T2\"])"
      ],
      "metadata": {
        "colab": {
          "base_uri": "https://localhost:8080/"
        },
        "id": "HlCElH-xjBWR",
        "outputId": "c5fe5102-5a3f-4eef-9c95-9a2862cd0f80"
      },
      "execution_count": null,
      "outputs": [
        {
          "output_type": "execute_result",
          "data": {
            "text/plain": [
              "<Axes: >"
            ]
          },
          "metadata": {},
          "execution_count": 164
        },
        {
          "output_type": "display_data",
          "data": {
            "text/plain": [
              "<Figure size 640x480 with 1 Axes>"
            ],
            "image/png": "[encoded data removed]"
          },
          "metadata": {}
        }
      ]
    },
    {
      "cell_type": "code",
      "source": [
        "# Calcular el límite superior del boxplot\n",
        "q3 = rp[\"USO_LINEA_TOTAL_TC_T2\"].quantile(0.75)\n",
        "q1=rp[\"USO_LINEA_TOTAL_TC_T2\"].quantile(0.25)\n",
        "iqr = q3 - q1\n",
        "limite_superior_1 = q3 + 1.5 * iqr\n",
        "limite_superior_1"
      ],
      "metadata": {
        "colab": {
          "base_uri": "https://localhost:8080/"
        },
        "id": "YJnpnV8nkfaQ",
        "outputId": "485faeb1-07e8-48cc-86d3-48066503c819"
      },
      "execution_count": null,
      "outputs": [
        {
          "output_type": "execute_result",
          "data": {
            "text/plain": [
              "0.478155625"
            ]
          },
          "metadata": {},
          "execution_count": 165
        }
      ]
    },
    {
      "cell_type": "code",
      "source": [
        "# Remplazamos los outliers por el limite superior de su boxplot\n",
        "rp[\"USO_LINEA_TOTAL_TC_T2_ls\"]=rp[\"USO_LINEA_TOTAL_TC_T2\"]\n",
        "rp.loc[rp[\"USO_LINEA_TOTAL_TC_T2_ls\"]>limite_superior_1,\"USO_LINEA_TOTAL_TC_T2_ls\"]=limite_superior_1"
      ],
      "metadata": {
        "id": "f5BtWDruu2-V"
      },
      "execution_count": null,
      "outputs": []
    },
    {
      "cell_type": "code",
      "source": [
        "media=rp[\"USO_LINEA_TOTAL_TC_T2_ls\"].mean()\n",
        "print(\"mean: \",media)\n",
        "mediana=rp[\"USO_LINEA_TOTAL_TC_T2_ls\"].median()\n",
        "print(\"mediana: \", mediana)"
      ],
      "metadata": {
        "colab": {
          "base_uri": "https://localhost:8080/"
        },
        "id": "8kmh0Nc34Iq0",
        "outputId": "c2cfd543-ad9d-4c4e-c2b5-5be2dd44105a"
      },
      "execution_count": null,
      "outputs": [
        {
          "output_type": "stream",
          "name": "stdout",
          "text": [
            "mean:  0.11634711234165641\n",
            "mediana:  0.0306335\n"
          ]
        }
      ]
    },
    {
      "cell_type": "code",
      "source": [
        "\n",
        "# Reemplaza los valores faltantes con la media\n",
        "rp[\"USO_LINEA_TOTAL_TC_T2_ls\"].fillna(media,inplace=True)"
      ],
      "metadata": {
        "id": "2TjUyeiE9-MP"
      },
      "execution_count": null,
      "outputs": []
    },
    {
      "cell_type": "code",
      "source": [
        "sns.histplot(rp[\"USO_LINEA_TOTAL_TC_T2\"])"
      ],
      "metadata": {
        "colab": {
          "base_uri": "https://localhost:8080/"
        },
        "id": "B1qm9D2amgxX",
        "outputId": "b6197303-c495-4bb0-823a-d22a396cabeb"
      },
      "execution_count": null,
      "outputs": [
        {
          "output_type": "execute_result",
          "data": {
            "text/plain": [
              "<Axes: xlabel='USO_LINEA_TOTAL_TC_T2', ylabel='Count'>"
            ]
          },
          "metadata": {},
          "execution_count": 169
        },
        {
          "output_type": "display_data",
          "data": {
            "text/plain": [
              "<Figure size 640x480 with 1 Axes>"
            ],
            "image/png": "[encoded data removed]"
          },
          "metadata": {}
        }
      ]
    },
    {
      "cell_type": "code",
      "source": [
        "sns.histplot(rp[\"USO_LINEA_TOTAL_TC_T2_ls\"]) #bins=5, color='orange'"
      ],
      "metadata": {
        "colab": {
          "base_uri": "https://localhost:8080/"
        },
        "id": "_q2MKK81CCWk",
        "outputId": "047785a0-56b0-437a-d06f-9d3c4754bf86"
      },
      "execution_count": null,
      "outputs": [
        {
          "output_type": "execute_result",
          "data": {
            "text/plain": [
              "<Axes: xlabel='USO_LINEA_TOTAL_TC_T2_ls', ylabel='Count'>"
            ]
          },
          "metadata": {},
          "execution_count": 170
        },
        {
          "output_type": "display_data",
          "data": {
            "text/plain": [
              "<Figure size 640x480 with 1 Axes>"
            ],
            "image/png": "[encoded data removed]"
          },
          "metadata": {}
        }
      ]
    },
    {
      "cell_type": "code",
      "source": [
        "sns.kdeplot(rp, x=\"USO_LINEA_TOTAL_TC_T2\",hue=\"FLAG_VENTA\",fill=True,common_norm=False,alpha=0.1)"
      ],
      "metadata": {
        "colab": {
          "base_uri": "https://localhost:8080/"
        },
        "id": "oPpOtCAA3WZY",
        "outputId": "3d982a15-0cf5-45c8-a5e2-8b2164209043"
      },
      "execution_count": null,
      "outputs": [
        {
          "output_type": "execute_result",
          "data": {
            "text/plain": [
              "<Axes: xlabel='USO_LINEA_TOTAL_TC_T2', ylabel='Density'>"
            ]
          },
          "metadata": {},
          "execution_count": 171
        },
        {
          "output_type": "display_data",
          "data": {
            "text/plain": [
              "<Figure size 640x480 with 1 Axes>"
            ],
            "image/png": "[encoded data removed]"
          },
          "metadata": {}
        }
      ]
    },
    {
      "cell_type": "markdown",
      "source": [
        "**USO_TRIM_LINEA_BBVA**"
      ],
      "metadata": {
        "id": "-Cn3E35hY1FA"
      }
    },
    {
      "cell_type": "code",
      "source": [
        "# Calcular el límite superior del boxplot\n",
        "q3 = rp[\"USO_TRIM_LINEA_BBVA\"].quantile(0.75)\n",
        "q1=rp[\"USO_TRIM_LINEA_BBVA\"].quantile(0.25)\n",
        "iqr = q3 - q1\n",
        "limite_superior_2 = q3 + 1.5 * iqr\n",
        "limite_superior_2"
      ],
      "metadata": {
        "colab": {
          "base_uri": "https://localhost:8080/"
        },
        "id": "J-LknoL3Yzyi",
        "outputId": "921382ed-3c2b-4fb7-cba3-3bc71bed6ef4"
      },
      "execution_count": null,
      "outputs": [
        {
          "output_type": "execute_result",
          "data": {
            "text/plain": [
              "0.17281250000000004"
            ]
          },
          "metadata": {},
          "execution_count": 172
        }
      ]
    },
    {
      "cell_type": "code",
      "source": [
        "# Remplazamos los outliers por el limite superior de su boxplot\n",
        "rp[\"USO_TRIM_LINEA_BBVA_ls\"]=rp[\"USO_TRIM_LINEA_BBVA\"]\n",
        "rp.loc[rp[\"USO_TRIM_LINEA_BBVA_ls\"]>limite_superior_2,\"USO_TRIM_LINEA_BBVA_ls\"]=limite_superior_2"
      ],
      "metadata": {
        "id": "avJ3KAg8ZSTQ"
      },
      "execution_count": null,
      "outputs": []
    },
    {
      "cell_type": "code",
      "source": [
        "media=rp[\"USO_TRIM_LINEA_BBVA_ls\"].mean()\n",
        "print(\"mean: \",media)\n",
        "mediana=rp[\"USO_TRIM_LINEA_BBVA_ls\"].median()\n",
        "print(\"mediana: \", mediana)"
      ],
      "metadata": {
        "colab": {
          "base_uri": "https://localhost:8080/"
        },
        "id": "rvkeoNEdZwNT",
        "outputId": "f420f670-d503-44f7-931f-6b0b2cd58c18"
      },
      "execution_count": null,
      "outputs": [
        {
          "output_type": "stream",
          "name": "stdout",
          "text": [
            "mean:  0.04199524512170149\n",
            "mediana:  0.0\n"
          ]
        }
      ]
    },
    {
      "cell_type": "code",
      "source": [
        "\n",
        "# Reemplaza los valores faltantes con la media\n",
        "rp[\"USO_TRIM_LINEA_BBVA_ls\"].fillna(media,inplace=True)"
      ],
      "metadata": {
        "id": "LG45tzUNZoIy"
      },
      "execution_count": null,
      "outputs": []
    },
    {
      "cell_type": "markdown",
      "source": [
        "**SDO_CONSUMO_T2**"
      ],
      "metadata": {
        "id": "Et10V1rnbiGQ"
      }
    },
    {
      "cell_type": "code",
      "source": [
        "# Calcular el límite superior del boxplot\n",
        "q3 = rp[\"SDO_CONSUMO_T2\"].quantile(0.75)\n",
        "q1=rp[\"SDO_CONSUMO_T2\"].quantile(0.25)\n",
        "iqr = q3 - q1\n",
        "limite_superior_3 = q3 + 1.5 * iqr\n",
        "limite_superior_3"
      ],
      "metadata": {
        "colab": {
          "base_uri": "https://localhost:8080/"
        },
        "id": "FjLLIXcZYzlo",
        "outputId": "f08b67f5-dfc9-488f-db6b-1c35e5e5ec4b"
      },
      "execution_count": null,
      "outputs": [
        {
          "output_type": "execute_result",
          "data": {
            "text/plain": [
              "33311.99249999999"
            ]
          },
          "metadata": {},
          "execution_count": 176
        }
      ]
    },
    {
      "cell_type": "code",
      "source": [
        "# Remplazamos los outliers por el limite superior de su boxplot\n",
        "rp[\"SDO_CONSUMO_T2_ls\"]=rp[\"SDO_CONSUMO_T2\"]\n",
        "rp.loc[rp[\"SDO_CONSUMO_T2_ls\"]>limite_superior_3,\"SDO_CONSUMO_T2_ls\"]=limite_superior_3"
      ],
      "metadata": {
        "id": "foOVKbzdb4No"
      },
      "execution_count": null,
      "outputs": []
    },
    {
      "cell_type": "code",
      "source": [
        "media=rp[\"SDO_CONSUMO_T2_ls\"].mean()\n",
        "print(\"mean: \",media)\n",
        "mediana=rp[\"SDO_CONSUMO_T2_ls\"].median()\n",
        "print(\"mediana: \", mediana)"
      ],
      "metadata": {
        "colab": {
          "base_uri": "https://localhost:8080/"
        },
        "id": "wBzrnLa5cExT",
        "outputId": "4d8d84eb-d4b9-466a-84e7-6f6e04b6a5de"
      },
      "execution_count": null,
      "outputs": [
        {
          "output_type": "stream",
          "name": "stdout",
          "text": [
            "mean:  11493.351276435595\n",
            "mediana:  8368.145\n"
          ]
        }
      ]
    },
    {
      "cell_type": "code",
      "source": [
        "# Reemplaza los valores faltantes con la media\n",
        "rp[\"SDO_CONSUMO_T2_ls\"].fillna(media,inplace=True)"
      ],
      "metadata": {
        "id": "rB0vniuVb1Vq"
      },
      "execution_count": null,
      "outputs": []
    },
    {
      "cell_type": "markdown",
      "source": [
        "**ANTIGUEDAD_MES**"
      ],
      "metadata": {
        "id": "ptXZCoW9como"
      }
    },
    {
      "cell_type": "code",
      "source": [
        "# Calcular el límite superior del boxplot\n",
        "q3 = rp[\"ANTIGUEDAD_MES\"].quantile(0.75)\n",
        "q1=rp[\"ANTIGUEDAD_MES\"].quantile(0.25)\n",
        "iqr = q3 - q1\n",
        "limite_superior_4 = q3 + 1.5 * iqr\n",
        "limite_superior_4"
      ],
      "metadata": {
        "colab": {
          "base_uri": "https://localhost:8080/"
        },
        "id": "RpzFF0iacoLA",
        "outputId": "956f931c-3059-47c0-93f5-37b8f6d43e08"
      },
      "execution_count": null,
      "outputs": [
        {
          "output_type": "execute_result",
          "data": {
            "text/plain": [
              "384.0"
            ]
          },
          "metadata": {},
          "execution_count": 180
        }
      ]
    },
    {
      "cell_type": "code",
      "source": [
        "# Remplazamos los outliers por el limite superior de su boxplot\n",
        "rp[\"ANTIGUEDAD_MES_ls\"]=rp[\"ANTIGUEDAD_MES\"]\n",
        "rp.loc[rp[\"ANTIGUEDAD_MES_ls\"]>limite_superior_4,\"ANTIGUEDAD_MES_ls\"]=limite_superior_4"
      ],
      "metadata": {
        "id": "0HLmoLZDc0S1"
      },
      "execution_count": null,
      "outputs": []
    },
    {
      "cell_type": "code",
      "source": [
        "media=rp[\"ANTIGUEDAD_MES_ls\"].mean()\n",
        "print(\"mean: \",media)\n",
        "mediana=rp[\"ANTIGUEDAD_MES_ls\"].median()\n",
        "print(\"mediana: \", mediana)"
      ],
      "metadata": {
        "colab": {
          "base_uri": "https://localhost:8080/"
        },
        "id": "aJhi9DKxc3S1",
        "outputId": "d8bfaf78-b2b7-43aa-8b38-813b2d391fa3"
      },
      "execution_count": null,
      "outputs": [
        {
          "output_type": "stream",
          "name": "stdout",
          "text": [
            "mean:  124.29818970932557\n",
            "mediana:  106.0\n"
          ]
        }
      ]
    },
    {
      "cell_type": "code",
      "source": [
        "# Reemplaza los valores faltantes con la media\n",
        "rp[\"ANTIGUEDAD_MES_ls\"].fillna(media,inplace=True)"
      ],
      "metadata": {
        "id": "878z8lwAcQut"
      },
      "execution_count": null,
      "outputs": []
    },
    {
      "cell_type": "markdown",
      "source": [
        "**SUELDO_ESTIMADO**"
      ],
      "metadata": {
        "id": "wq2F69K9crVk"
      }
    },
    {
      "cell_type": "code",
      "source": [
        "# Calcular el límite superior del boxplot\n",
        "q3 = rp[\"SUELDO_ESTIMADO\"].quantile(0.75)\n",
        "q1=rp[\"SUELDO_ESTIMADO\"].quantile(0.25)\n",
        "iqr = q3 - q1\n",
        "limite_superior_5 = q3 + 1.5 * iqr\n",
        "limite_superior_5"
      ],
      "metadata": {
        "colab": {
          "base_uri": "https://localhost:8080/"
        },
        "id": "PV_lxnjedVqC",
        "outputId": "cdb6ff21-6115-4b6f-f6b3-26ef106085c4"
      },
      "execution_count": null,
      "outputs": [
        {
          "output_type": "execute_result",
          "data": {
            "text/plain": [
              "10722.265"
            ]
          },
          "metadata": {},
          "execution_count": 184
        }
      ]
    },
    {
      "cell_type": "code",
      "source": [
        "# Remplazamos los outliers por el limite superior de su boxplot\n",
        "rp[\"SUELDO_ESTIMADO_ls\"]=rp[\"SUELDO_ESTIMADO\"]\n",
        "rp.loc[rp[\"SUELDO_ESTIMADO_ls\"]>limite_superior_5,\"SUELDO_ESTIMADO_ls\"]=limite_superior_5"
      ],
      "metadata": {
        "id": "C_8_LRs2dVgL"
      },
      "execution_count": null,
      "outputs": []
    },
    {
      "cell_type": "code",
      "source": [
        "media=rp[\"SUELDO_ESTIMADO_ls\"].mean()\n",
        "print(\"mean: \",media)\n",
        "mediana=rp[\"SUELDO_ESTIMADO_ls\"].median()\n",
        "print(\"mediana: \", mediana)"
      ],
      "metadata": {
        "colab": {
          "base_uri": "https://localhost:8080/"
        },
        "id": "z45AeUs6dnIG",
        "outputId": "cc33102c-13ad-43db-d465-b24409212f1c"
      },
      "execution_count": null,
      "outputs": [
        {
          "output_type": "stream",
          "name": "stdout",
          "text": [
            "mean:  4187.895008032541\n",
            "mediana:  3178.12\n"
          ]
        }
      ]
    },
    {
      "cell_type": "code",
      "source": [
        "# Reemplaza los valores faltantes con la media\n",
        "rp[\"SUELDO_ESTIMADO_ls\"].fillna(media,inplace=True)"
      ],
      "metadata": {
        "id": "r8nNlRuQephA"
      },
      "execution_count": null,
      "outputs": []
    },
    {
      "cell_type": "markdown",
      "source": [
        "**RESENCIA_OFERTA_PLD_RENOVADO**"
      ],
      "metadata": {
        "id": "LeQ7Wb-Hed6J"
      }
    },
    {
      "cell_type": "code",
      "source": [
        "# Su coefeciente de variabilidad es menor al 50%\n",
        "\n",
        "media=rp[\"RESENCIA_OFERTA_PLD_RENOVADO\"].mean()\n",
        "rp[\"RESENCIA_OFERTA_PLD_RENOVADO_ls\"]=rp[\"RESENCIA_OFERTA_PLD_RENOVADO\"]\n",
        "rp[\"RESENCIA_OFERTA_PLD_RENOVADO_ls\"].fillna(media,inplace=True)"
      ],
      "metadata": {
        "id": "lQEf4lIdeg4F"
      },
      "execution_count": null,
      "outputs": []
    },
    {
      "cell_type": "markdown",
      "source": [
        "**EDAD**"
      ],
      "metadata": {
        "id": "9XH9EwE_fP5j"
      }
    },
    {
      "cell_type": "code",
      "source": [
        "# Su coefeciente de variabilidad es menor al 50%\n",
        "\n",
        "media=rp[\"EDAD\"].mean()\n",
        "rp[\"EDAD_ls\"]=rp[\"EDAD\"]\n",
        "rp[\"EDAD_ls\"].fillna(media,inplace=True)"
      ],
      "metadata": {
        "id": "p1CAiAGhenmW"
      },
      "execution_count": null,
      "outputs": []
    },
    {
      "cell_type": "code",
      "source": [],
      "metadata": {
        "id": "dr5om_i5mu6J"
      },
      "execution_count": null,
      "outputs": []
    },
    {
      "cell_type": "code",
      "source": [
        "rp.isna().sum()"
      ],
      "metadata": {
        "colab": {
          "base_uri": "https://localhost:8080/"
        },
        "id": "Ahve2IGbd9iM",
        "outputId": "42d2ff64-75d2-425f-91c0-a26c95adafdf"
      },
      "execution_count": null,
      "outputs": [
        {
          "output_type": "execute_result",
          "data": {
            "text/plain": [
              "MES                                       0\n",
              "CLIENTE                                   0\n",
              "LINEA_RENOVADO                            0\n",
              "PLAZO_RENOVADO                            0\n",
              "FLAG_VENTA                                0\n",
              "USO_LINEA_TOTAL_TC_T2                 19192\n",
              "USO_TRIM_LINEA_BBVA                   19192\n",
              "NR_ENTIDADES_TOTAL_T2                     0\n",
              "DIFF_NRO_ENTIDA_TOTALES_T2_T12            0\n",
              "SDO_CONSUMO_T2                         5186\n",
              "RESENCIA_OFERTA_PLD_RENOVADO          13856\n",
              "Ahorro_Sldo_Bco_T1                        0\n",
              "PConsumo_Sldo_Bco_T1                      0\n",
              "SDO_BCO_tot_sm_pasivo_Bco_6M              0\n",
              "EDAD                                      1\n",
              "SEXO                                      1\n",
              "EST_CIVIL                                 1\n",
              "ANTIGUEDAD_MES                            1\n",
              "REGION                                   18\n",
              "FLAG_LIMA_PROVINCIA                       0\n",
              "SUELDO_ESTIMADO                          37\n",
              "CUBRIR_DEUDA_CONSUMO_SF_RENOVA_PLD        0\n",
              "USO_LINEA_TOTAL_TC_T2_ls                  0\n",
              "USO_TRIM_LINEA_BBVA_ls                    0\n",
              "SDO_CONSUMO_T2_ls                         0\n",
              "ANTIGUEDAD_MES_ls                         0\n",
              "SUELDO_ESTIMADO_ls                        0\n",
              "RESENCIA_OFERTA_PLD_RENOVADO_ls           0\n",
              "EDAD_ls                                   0\n",
              "dtype: int64"
            ]
          },
          "metadata": {},
          "execution_count": 190
        }
      ]
    },
    {
      "cell_type": "markdown",
      "source": [
        "# COLUMNAS CATEGORICAS"
      ],
      "metadata": {
        "id": "KAZFpxvRnIPW"
      }
    },
    {
      "cell_type": "markdown",
      "source": [
        "**sexo**"
      ],
      "metadata": {
        "id": "rCz85P23oDcb"
      }
    },
    {
      "cell_type": "code",
      "source": [
        "rp[\"SEXO_ls\"] = rp[\"SEXO\"]\n",
        "rp.dropna(subset=[\"SEXO_ls\"], inplace=True)\n",
        "print(rp[\"SEXO_ls\"].isna().sum())"
      ],
      "metadata": {
        "colab": {
          "base_uri": "https://localhost:8080/"
        },
        "id": "lyReS8YfnSMl",
        "outputId": "449f3dfa-6c3d-4e37-8f29-1bdbd5d38ba7"
      },
      "execution_count": null,
      "outputs": [
        {
          "output_type": "stream",
          "name": "stdout",
          "text": [
            "0\n"
          ]
        }
      ]
    },
    {
      "cell_type": "markdown",
      "source": [
        "**EST_CIVIL**"
      ],
      "metadata": {
        "id": "ak4BOpwIoKdZ"
      }
    },
    {
      "cell_type": "code",
      "source": [
        "rp[\"EST_CIVIL_ls\"] = rp[\"EST_CIVIL\"]\n",
        "rp.dropna(subset=[\"EST_CIVIL_ls\"], inplace=True)\n",
        "print(rp[\"EST_CIVIL_ls\"].isna().sum())"
      ],
      "metadata": {
        "colab": {
          "base_uri": "https://localhost:8080/"
        },
        "id": "Pk7p6JzJoOt4",
        "outputId": "5e3ea012-b7a3-43cf-c188-6fe1107f7d87"
      },
      "execution_count": null,
      "outputs": [
        {
          "output_type": "stream",
          "name": "stdout",
          "text": [
            "0\n"
          ]
        }
      ]
    },
    {
      "cell_type": "markdown",
      "source": [
        "**REGION**"
      ],
      "metadata": {
        "id": "yN3eyslvs1qz"
      }
    },
    {
      "cell_type": "code",
      "source": [
        "rp[\"REGION_ls\"] = rp[\"REGION\"]\n",
        "rp.dropna(subset=[\"REGION_ls\"], inplace=True)\n",
        "print(rp[\"REGION_ls\"].isna().sum())"
      ],
      "metadata": {
        "colab": {
          "base_uri": "https://localhost:8080/"
        },
        "id": "SCU29VN2s0jv",
        "outputId": "aca2f0ca-8ca4-4741-f728-48a763165d74"
      },
      "execution_count": null,
      "outputs": [
        {
          "output_type": "stream",
          "name": "stdout",
          "text": [
            "0\n"
          ]
        }
      ]
    },
    {
      "cell_type": "code",
      "source": [
        "rp.isna().sum()"
      ],
      "metadata": {
        "colab": {
          "base_uri": "https://localhost:8080/"
        },
        "id": "C2MhuNBOtA11",
        "outputId": "4ceda95b-8913-4013-bb21-b0976217a2ee"
      },
      "execution_count": null,
      "outputs": [
        {
          "output_type": "execute_result",
          "data": {
            "text/plain": [
              "MES                                       0\n",
              "CLIENTE                                   0\n",
              "LINEA_RENOVADO                            0\n",
              "PLAZO_RENOVADO                            0\n",
              "FLAG_VENTA                                0\n",
              "USO_LINEA_TOTAL_TC_T2                 19189\n",
              "USO_TRIM_LINEA_BBVA                   19189\n",
              "NR_ENTIDADES_TOTAL_T2                     0\n",
              "DIFF_NRO_ENTIDA_TOTALES_T2_T12            0\n",
              "SDO_CONSUMO_T2                         5186\n",
              "RESENCIA_OFERTA_PLD_RENOVADO          13855\n",
              "Ahorro_Sldo_Bco_T1                        0\n",
              "PConsumo_Sldo_Bco_T1                      0\n",
              "SDO_BCO_tot_sm_pasivo_Bco_6M              0\n",
              "EDAD                                      0\n",
              "SEXO                                      0\n",
              "EST_CIVIL                                 0\n",
              "ANTIGUEDAD_MES                            0\n",
              "REGION                                    0\n",
              "FLAG_LIMA_PROVINCIA                       0\n",
              "SUELDO_ESTIMADO                          37\n",
              "CUBRIR_DEUDA_CONSUMO_SF_RENOVA_PLD        0\n",
              "USO_LINEA_TOTAL_TC_T2_ls                  0\n",
              "USO_TRIM_LINEA_BBVA_ls                    0\n",
              "SDO_CONSUMO_T2_ls                         0\n",
              "ANTIGUEDAD_MES_ls                         0\n",
              "SUELDO_ESTIMADO_ls                        0\n",
              "RESENCIA_OFERTA_PLD_RENOVADO_ls           0\n",
              "EDAD_ls                                   0\n",
              "SEXO_ls                                   0\n",
              "EST_CIVIL_ls                              0\n",
              "REGION_ls                                 0\n",
              "dtype: int64"
            ]
          },
          "metadata": {},
          "execution_count": 194
        }
      ]
    },
    {
      "cell_type": "markdown",
      "source": [
        "# GUARDAR COLUMNAS LIMPIAS"
      ],
      "metadata": {
        "id": "3E0y6YuX0cBd"
      }
    },
    {
      "cell_type": "code",
      "source": [
        "rp.columns"
      ],
      "metadata": {
        "colab": {
          "base_uri": "https://localhost:8080/"
        },
        "id": "A4O96gQP5pNl",
        "outputId": "6390dc69-8404-47fa-86e8-1df6d43816fa"
      },
      "execution_count": null,
      "outputs": [
        {
          "output_type": "execute_result",
          "data": {
            "text/plain": [
              "Index(['MES', 'CLIENTE', 'LINEA_RENOVADO', 'PLAZO_RENOVADO', 'FLAG_VENTA',\n",
              "       'USO_LINEA_TOTAL_TC_T2', 'USO_TRIM_LINEA_BBVA', 'NR_ENTIDADES_TOTAL_T2',\n",
              "       'DIFF_NRO_ENTIDA_TOTALES_T2_T12', 'SDO_CONSUMO_T2',\n",
              "       'RESENCIA_OFERTA_PLD_RENOVADO', 'Ahorro_Sldo_Bco_T1',\n",
              "       'PConsumo_Sldo_Bco_T1', 'SDO_BCO_tot_sm_pasivo_Bco_6M', 'EDAD', 'SEXO',\n",
              "       'EST_CIVIL', 'ANTIGUEDAD_MES', 'REGION', 'FLAG_LIMA_PROVINCIA',\n",
              "       'SUELDO_ESTIMADO', 'CUBRIR_DEUDA_CONSUMO_SF_RENOVA_PLD',\n",
              "       'USO_LINEA_TOTAL_TC_T2_ls', 'USO_TRIM_LINEA_BBVA_ls',\n",
              "       'SDO_CONSUMO_T2_ls', 'ANTIGUEDAD_MES_ls', 'SUELDO_ESTIMADO_ls',\n",
              "       'RESENCIA_OFERTA_PLD_RENOVADO_ls', 'EDAD_ls', 'SEXO_ls', 'EST_CIVIL_ls',\n",
              "       'REGION_ls'],\n",
              "      dtype='object')"
            ]
          },
          "metadata": {},
          "execution_count": 195
        }
      ]
    },
    {
      "cell_type": "code",
      "source": [
        "columnas_limp=['MES', 'CLIENTE', 'LINEA_RENOVADO', 'PLAZO_RENOVADO', 'FLAG_VENTA',\n",
        "               'NR_ENTIDADES_TOTAL_T2','DIFF_NRO_ENTIDA_TOTALES_T2_T12', 'Ahorro_Sldo_Bco_T1',\n",
        "               'PConsumo_Sldo_Bco_T1', 'SDO_BCO_tot_sm_pasivo_Bco_6M', 'FLAG_LIMA_PROVINCIA', 'CUBRIR_DEUDA_CONSUMO_SF_RENOVA_PLD',\n",
        "               'USO_LINEA_TOTAL_TC_T2_ls', 'USO_TRIM_LINEA_BBVA_ls','SDO_CONSUMO_T2_ls',\n",
        "               'ANTIGUEDAD_MES_ls', 'SUELDO_ESTIMADO_ls','RESENCIA_OFERTA_PLD_RENOVADO_ls', 'EDAD_ls',\n",
        "               'SEXO_ls','EST_CIVIL_ls','REGION_ls']"
      ],
      "metadata": {
        "id": "9u3mpqhTnuqO"
      },
      "execution_count": null,
      "outputs": []
    },
    {
      "cell_type": "code",
      "source": [
        "rp2=rp[columnas_limp]"
      ],
      "metadata": {
        "id": "4FkI0GJUzjtd"
      },
      "execution_count": null,
      "outputs": []
    },
    {
      "cell_type": "code",
      "source": [
        "rp2.to_excel('rp2.xlsx', index=False)"
      ],
      "metadata": {
        "id": "10Zz7Aa2zZNl"
      },
      "execution_count": null,
      "outputs": []
    },
    {
      "cell_type": "markdown",
      "source": [
        "# 2.2.- TRANSFORMACION DE DATOS"
      ],
      "metadata": {
        "id": "4xejJeAN5iS6"
      }
    },
    {
      "cell_type": "code",
      "source": [
        "rp_=pd.read_excel(\"/content/rp2.xlsx\")"
      ],
      "metadata": {
        "id": "hAKTnLPV9HUm"
      },
      "execution_count": null,
      "outputs": []
    },
    {
      "cell_type": "code",
      "source": [
        "le = LabelEncoder()\n",
        "\n",
        "rp_[\"SEXO_ls\"] = le.fit_transform(rp_[\"SEXO_ls\"])\n",
        "rp_[\"EST_CIVIL_ls\"] = le.fit_transform(rp_[\"EST_CIVIL_ls\"])\n",
        "rp_[\"REGION_ls\"] = le.fit_transform(rp_[\"REGION_ls\"])\n",
        "\n",
        "rp_.head()"
      ],
      "metadata": {
        "colab": {
          "base_uri": "https://localhost:8080/"
        },
        "id": "i-frj__fNv0K",
        "outputId": "7ab4c1d6-cf18-48c4-e6a4-8d7ce242a042"
      },
      "execution_count": null,
      "outputs": [
        {
          "output_type": "execute_result",
          "data": {
            "text/plain": [
              "      MES  CLIENTE  LINEA_RENOVADO  PLAZO_RENOVADO  FLAG_VENTA  \\\n",
              "0  201506        1            3770              12           0   \n",
              "1  201506        2            1300               6           0   \n",
              "2  201506        3            7800              36           0   \n",
              "3  201506        4            6630              12           0   \n",
              "4  201506        5           15497              36           1   \n",
              "\n",
              "   NR_ENTIDADES_TOTAL_T2  DIFF_NRO_ENTIDA_TOTALES_T2_T12  Ahorro_Sldo_Bco_T1  \\\n",
              "0                      1                              -1                1850   \n",
              "1                      1                               0                2093   \n",
              "2                      5                              -2               16208   \n",
              "3                      1                               1                1531   \n",
              "4                      1                               0                 308   \n",
              "\n",
              "   PConsumo_Sldo_Bco_T1  SDO_BCO_tot_sm_pasivo_Bco_6M  ...  \\\n",
              "0                   457                   3754.333333  ...   \n",
              "1                 11200                   1581.333333  ...   \n",
              "2                  4778                  10241.000000  ...   \n",
              "3                     0                   5797.333333  ...   \n",
              "4                  1935                  16755.333330  ...   \n",
              "\n",
              "   USO_LINEA_TOTAL_TC_T2_ls  USO_TRIM_LINEA_BBVA_ls  SDO_CONSUMO_T2_ls  \\\n",
              "0                  0.000000                0.000000             271.12   \n",
              "1                  0.000000                0.000000           11200.00   \n",
              "2                  0.429507                0.172813           20156.45   \n",
              "3                  0.000000                0.000000           20485.14   \n",
              "4                  0.116347                0.041995            1682.83   \n",
              "\n",
              "   ANTIGUEDAD_MES_ls  SUELDO_ESTIMADO_ls  RESENCIA_OFERTA_PLD_RENOVADO_ls  \\\n",
              "0                 23              3531.0                        21.000000   \n",
              "1                 56              1322.0                         9.000000   \n",
              "2                 20              4234.0                        14.704464   \n",
              "3                166              6647.0                        20.000000   \n",
              "4                 55              2094.0                        11.000000   \n",
              "\n",
              "   EDAD_ls  SEXO_ls  EST_CIVIL_ls  REGION_ls  \n",
              "0       25        1             2          6  \n",
              "1       33        1             2          4  \n",
              "2       26        1             2          5  \n",
              "3       51        1             2          9  \n",
              "4       35        1             0          9  \n",
              "\n",
              "[5 rows x 22 columns]"
            ],
            "text/html": [
              "\n",
              "  <div id=\"df-290a99c2-7cbf-42b7-94ea-318a98f9bb0d\" class=\"colab-df-container\">\n",
              "    <div>\n",
              "<style scoped>\n",
              "    .dataframe tbody tr th:only-of-type {\n",
              "        vertical-align: middle;\n",
              "    }\n",
              "\n",
              "    .dataframe tbody tr th {\n",
              "        vertical-align: top;\n",
              "    }\n",
              "\n",
              "    .dataframe thead th {\n",
              "        text-align: right;\n",
              "    }\n",
              "</style>\n",
              "<table border=\"1\" class=\"dataframe\">\n",
              "  <thead>\n",
              "    <tr style=\"text-align: right;\">\n",
              "      <th></th>\n",
              "      <th>MES</th>\n",
              "      <th>CLIENTE</th>\n",
              "      <th>LINEA_RENOVADO</th>\n",
              "      <th>PLAZO_RENOVADO</th>\n",
              "      <th>FLAG_VENTA</th>\n",
              "      <th>NR_ENTIDADES_TOTAL_T2</th>\n",
              "      <th>DIFF_NRO_ENTIDA_TOTALES_T2_T12</th>\n",
              "      <th>Ahorro_Sldo_Bco_T1</th>\n",
              "      <th>PConsumo_Sldo_Bco_T1</th>\n",
              "      <th>SDO_BCO_tot_sm_pasivo_Bco_6M</th>\n",
              "      <th>...</th>\n",
              "      <th>USO_LINEA_TOTAL_TC_T2_ls</th>\n",
              "      <th>USO_TRIM_LINEA_BBVA_ls</th>\n",
              "      <th>SDO_CONSUMO_T2_ls</th>\n",
              "      <th>ANTIGUEDAD_MES_ls</th>\n",
              "      <th>SUELDO_ESTIMADO_ls</th>\n",
              "      <th>RESENCIA_OFERTA_PLD_RENOVADO_ls</th>\n",
              "      <th>EDAD_ls</th>\n",
              "      <th>SEXO_ls</th>\n",
              "      <th>EST_CIVIL_ls</th>\n",
              "      <th>REGION_ls</th>\n",
              "    </tr>\n",
              "  </thead>\n",
              "  <tbody>\n",
              "    <tr>\n",
              "      <th>0</th>\n",
              "      <td>201506</td>\n",
              "      <td>1</td>\n",
              "      <td>3770</td>\n",
              "      <td>12</td>\n",
              "      <td>0</td>\n",
              "      <td>1</td>\n",
              "      <td>-1</td>\n",
              "      <td>1850</td>\n",
              "      <td>457</td>\n",
              "      <td>3754.333333</td>\n",
              "      <td>...</td>\n",
              "      <td>0.000000</td>\n",
              "      <td>0.000000</td>\n",
              "      <td>271.12</td>\n",
              "      <td>23</td>\n",
              "      <td>3531.0</td>\n",
              "      <td>21.000000</td>\n",
              "      <td>25</td>\n",
              "      <td>1</td>\n",
              "      <td>2</td>\n",
              "      <td>6</td>\n",
              "    </tr>\n",
              "    <tr>\n",
              "      <th>1</th>\n",
              "      <td>201506</td>\n",
              "      <td>2</td>\n",
              "      <td>1300</td>\n",
              "      <td>6</td>\n",
              "      <td>0</td>\n",
              "      <td>1</td>\n",
              "      <td>0</td>\n",
              "      <td>2093</td>\n",
              "      <td>11200</td>\n",
              "      <td>1581.333333</td>\n",
              "      <td>...</td>\n",
              "      <td>0.000000</td>\n",
              "      <td>0.000000</td>\n",
              "      <td>11200.00</td>\n",
              "      <td>56</td>\n",
              "      <td>1322.0</td>\n",
              "      <td>9.000000</td>\n",
              "      <td>33</td>\n",
              "      <td>1</td>\n",
              "      <td>2</td>\n",
              "      <td>4</td>\n",
              "    </tr>\n",
              "    <tr>\n",
              "      <th>2</th>\n",
              "      <td>201506</td>\n",
              "      <td>3</td>\n",
              "      <td>7800</td>\n",
              "      <td>36</td>\n",
              "      <td>0</td>\n",
              "      <td>5</td>\n",
              "      <td>-2</td>\n",
              "      <td>16208</td>\n",
              "      <td>4778</td>\n",
              "      <td>10241.000000</td>\n",
              "      <td>...</td>\n",
              "      <td>0.429507</td>\n",
              "      <td>0.172813</td>\n",
              "      <td>20156.45</td>\n",
              "      <td>20</td>\n",
              "      <td>4234.0</td>\n",
              "      <td>14.704464</td>\n",
              "      <td>26</td>\n",
              "      <td>1</td>\n",
              "      <td>2</td>\n",
              "      <td>5</td>\n",
              "    </tr>\n",
              "    <tr>\n",
              "      <th>3</th>\n",
              "      <td>201506</td>\n",
              "      <td>4</td>\n",
              "      <td>6630</td>\n",
              "      <td>12</td>\n",
              "      <td>0</td>\n",
              "      <td>1</td>\n",
              "      <td>1</td>\n",
              "      <td>1531</td>\n",
              "      <td>0</td>\n",
              "      <td>5797.333333</td>\n",
              "      <td>...</td>\n",
              "      <td>0.000000</td>\n",
              "      <td>0.000000</td>\n",
              "      <td>20485.14</td>\n",
              "      <td>166</td>\n",
              "      <td>6647.0</td>\n",
              "      <td>20.000000</td>\n",
              "      <td>51</td>\n",
              "      <td>1</td>\n",
              "      <td>2</td>\n",
              "      <td>9</td>\n",
              "    </tr>\n",
              "    <tr>\n",
              "      <th>4</th>\n",
              "      <td>201506</td>\n",
              "      <td>5</td>\n",
              "      <td>15497</td>\n",
              "      <td>36</td>\n",
              "      <td>1</td>\n",
              "      <td>1</td>\n",
              "      <td>0</td>\n",
              "      <td>308</td>\n",
              "      <td>1935</td>\n",
              "      <td>16755.333330</td>\n",
              "      <td>...</td>\n",
              "      <td>0.116347</td>\n",
              "      <td>0.041995</td>\n",
              "      <td>1682.83</td>\n",
              "      <td>55</td>\n",
              "      <td>2094.0</td>\n",
              "      <td>11.000000</td>\n",
              "      <td>35</td>\n",
              "      <td>1</td>\n",
              "      <td>0</td>\n",
              "      <td>9</td>\n",
              "    </tr>\n",
              "  </tbody>\n",
              "</table>\n",
              "<p>5 rows × 22 columns</p>\n",
              "</div>\n",
              "    <div class=\"colab-df-buttons\">\n",
              "\n",
              "  <div class=\"colab-df-container\">\n",
              "    <button class=\"colab-df-convert\" onclick=\"convertToInteractive('df-290a99c2-7cbf-42b7-94ea-318a98f9bb0d')\"\n",
              "            title=\"Convert this dataframe to an interactive table.\"\n",
              "            style=\"display:none;\">\n",
              "\n",
              "  <svg xmlns=\"http://www.w3.org/2000/svg\" height=\"24px\" viewBox=\"0 -960 960 960\">\n",
              "    <path d=\"M120-120v-720h720v720H120Zm60-500h600v-160H180v160Zm220 220h160v-160H400v160Zm0 220h160v-160H400v160ZM180-400h160v-160H180v160Zm440 0h160v-160H620v160ZM180-180h160v-160H180v160Zm440 0h160v-160H620v160Z\"/>\n",
              "  </svg>\n",
              "    </button>\n",
              "\n",
              "  <style>\n",
              "    .colab-df-container {\n",
              "      display:flex;\n",
              "      gap: 12px;\n",
              "    }\n",
              "\n",
              "    .colab-df-convert {\n",
              "      background-color: #E8F0FE;\n",
              "      border: none;\n",
              "      border-radius: 50%;\n",
              "      cursor: pointer;\n",
              "      display: none;\n",
              "      fill: #1967D2;\n",
              "      height: 32px;\n",
              "      padding: 0 0 0 0;\n",
              "      width: 32px;\n",
              "    }\n",
              "\n",
              "    .colab-df-convert:hover {\n",
              "      background-color: #E2EBFA;\n",
              "      box-shadow: 0px 1px 2px rgba(60, 64, 67, 0.3), 0px 1px 3px 1px rgba(60, 64, 67, 0.15);\n",
              "      fill: #174EA6;\n",
              "    }\n",
              "\n",
              "    .colab-df-buttons div {\n",
              "      margin-bottom: 4px;\n",
              "    }\n",
              "\n",
              "    [theme=dark] .colab-df-convert {\n",
              "      background-color: #3B4455;\n",
              "      fill: #D2E3FC;\n",
              "    }\n",
              "\n",
              "    [theme=dark] .colab-df-convert:hover {\n",
              "      background-color: #434B5C;\n",
              "      box-shadow: 0px 1px 3px 1px rgba(0, 0, 0, 0.15);\n",
              "      filter: drop-shadow(0px 1px 2px rgba(0, 0, 0, 0.3));\n",
              "      fill: #FFFFFF;\n",
              "    }\n",
              "  </style>\n",
              "\n",
              "    <script>\n",
              "      const buttonEl =\n",
              "        document.querySelector('#df-290a99c2-7cbf-42b7-94ea-318a98f9bb0d button.colab-df-convert');\n",
              "      buttonEl.style.display =\n",
              "        google.colab.kernel.accessAllowed ? 'block' : 'none';\n",
              "\n",
              "      async function convertToInteractive(key) {\n",
              "        const element = document.querySelector('#df-290a99c2-7cbf-42b7-94ea-318a98f9bb0d');\n",
              "        const dataTable =\n",
              "          await google.colab.kernel.invokeFunction('convertToInteractive',\n",
              "                                                    [key], {});\n",
              "        if (!dataTable) return;\n",
              "\n",
              "        const docLinkHtml = 'Like what you see? Visit the ' +\n",
              "          '<a target=\"_blank\" href=https://colab.research.google.com/notebooks/data_table.ipynb>data table notebook</a>'\n",
              "          + ' to learn more about interactive tables.';\n",
              "        element.innerHTML = '';\n",
              "        dataTable['output_type'] = 'display_data';\n",
              "        await google.colab.output.renderOutput(dataTable, element);\n",
              "        const docLink = document.createElement('div');\n",
              "        docLink.innerHTML = docLinkHtml;\n",
              "        element.appendChild(docLink);\n",
              "      }\n",
              "    </script>\n",
              "  </div>\n",
              "\n",
              "\n",
              "<div id=\"df-5307a535-25f6-46ba-9dc0-9decaadb9c0b\">\n",
              "  <button class=\"colab-df-quickchart\" onclick=\"quickchart('df-5307a535-25f6-46ba-9dc0-9decaadb9c0b')\"\n",
              "            title=\"Suggest charts\"\n",
              "            style=\"display:none;\">\n",
              "\n",
              "<svg xmlns=\"http://www.w3.org/2000/svg\" height=\"24px\"viewBox=\"0 0 24 24\"\n",
              "     width=\"24px\">\n",
              "    <g>\n",
              "        <path d=\"M19 3H5c-1.1 0-2 .9-2 2v14c0 1.1.9 2 2 2h14c1.1 0 2-.9 2-2V5c0-1.1-.9-2-2-2zM9 17H7v-7h2v7zm4 0h-2V7h2v10zm4 0h-2v-4h2v4z\"/>\n",
              "    </g>\n",
              "</svg>\n",
              "  </button>\n",
              "\n",
              "<style>\n",
              "  .colab-df-quickchart {\n",
              "      --bg-color: #E8F0FE;\n",
              "      --fill-color: #1967D2;\n",
              "      --hover-bg-color: #E2EBFA;\n",
              "      --hover-fill-color: #174EA6;\n",
              "      --disabled-fill-color: #AAA;\n",
              "      --disabled-bg-color: #DDD;\n",
              "  }\n",
              "\n",
              "  [theme=dark] .colab-df-quickchart {\n",
              "      --bg-color: #3B4455;\n",
              "      --fill-color: #D2E3FC;\n",
              "      --hover-bg-color: #434B5C;\n",
              "      --hover-fill-color: #FFFFFF;\n",
              "      --disabled-bg-color: #3B4455;\n",
              "      --disabled-fill-color: #666;\n",
              "  }\n",
              "\n",
              "  .colab-df-quickchart {\n",
              "    background-color: var(--bg-color);\n",
              "    border: none;\n",
              "    border-radius: 50%;\n",
              "    cursor: pointer;\n",
              "    display: none;\n",
              "    fill: var(--fill-color);\n",
              "    height: 32px;\n",
              "    padding: 0;\n",
              "    width: 32px;\n",
              "  }\n",
              "\n",
              "  .colab-df-quickchart:hover {\n",
              "    background-color: var(--hover-bg-color);\n",
              "    box-shadow: 0 1px 2px rgba(60, 64, 67, 0.3), 0 1px 3px 1px rgba(60, 64, 67, 0.15);\n",
              "    fill: var(--button-hover-fill-color);\n",
              "  }\n",
              "\n",
              "  .colab-df-quickchart-complete:disabled,\n",
              "  .colab-df-quickchart-complete:disabled:hover {\n",
              "    background-color: var(--disabled-bg-color);\n",
              "    fill: var(--disabled-fill-color);\n",
              "    box-shadow: none;\n",
              "  }\n",
              "\n",
              "  .colab-df-spinner {\n",
              "    border: 2px solid var(--fill-color);\n",
              "    border-color: transparent;\n",
              "    border-bottom-color: var(--fill-color);\n",
              "    animation:\n",
              "      spin 1s steps(1) infinite;\n",
              "  }\n",
              "\n",
              "  @keyframes spin {\n",
              "    0% {\n",
              "      border-color: transparent;\n",
              "      border-bottom-color: var(--fill-color);\n",
              "      border-left-color: var(--fill-color);\n",
              "    }\n",
              "    20% {\n",
              "      border-color: transparent;\n",
              "      border-left-color: var(--fill-color);\n",
              "      border-top-color: var(--fill-color);\n",
              "    }\n",
              "    30% {\n",
              "      border-color: transparent;\n",
              "      border-left-color: var(--fill-color);\n",
              "      border-top-color: var(--fill-color);\n",
              "      border-right-color: var(--fill-color);\n",
              "    }\n",
              "    40% {\n",
              "      border-color: transparent;\n",
              "      border-right-color: var(--fill-color);\n",
              "      border-top-color: var(--fill-color);\n",
              "    }\n",
              "    60% {\n",
              "      border-color: transparent;\n",
              "      border-right-color: var(--fill-color);\n",
              "    }\n",
              "    80% {\n",
              "      border-color: transparent;\n",
              "      border-right-color: var(--fill-color);\n",
              "      border-bottom-color: var(--fill-color);\n",
              "    }\n",
              "    90% {\n",
              "      border-color: transparent;\n",
              "      border-bottom-color: var(--fill-color);\n",
              "    }\n",
              "  }\n",
              "</style>\n",
              "\n",
              "  <script>\n",
              "    async function quickchart(key) {\n",
              "      const quickchartButtonEl =\n",
              "        document.querySelector('#' + key + ' button');\n",
              "      quickchartButtonEl.disabled = true;  // To prevent multiple clicks.\n",
              "      quickchartButtonEl.classList.add('colab-df-spinner');\n",
              "      try {\n",
              "        const charts = await google.colab.kernel.invokeFunction(\n",
              "            'suggestCharts', [key], {});\n",
              "      } catch (error) {\n",
              "        console.error('Error during call to suggestCharts:', error);\n",
              "      }\n",
              "      quickchartButtonEl.classList.remove('colab-df-spinner');\n",
              "      quickchartButtonEl.classList.add('colab-df-quickchart-complete');\n",
              "    }\n",
              "    (() => {\n",
              "      let quickchartButtonEl =\n",
              "        document.querySelector('#df-5307a535-25f6-46ba-9dc0-9decaadb9c0b button');\n",
              "      quickchartButtonEl.style.display =\n",
              "        google.colab.kernel.accessAllowed ? 'block' : 'none';\n",
              "    })();\n",
              "  </script>\n",
              "</div>\n",
              "    </div>\n",
              "  </div>\n"
            ]
          },
          "metadata": {},
          "execution_count": 200
        }
      ]
    },
    {
      "cell_type": "code",
      "source": [
        "rp_[\"MES\"].unique()"
      ],
      "metadata": {
        "colab": {
          "base_uri": "https://localhost:8080/"
        },
        "id": "zHyVKLme1YWp",
        "outputId": "3cdc40b4-02b8-430d-c7d7-9696b632eb52"
      },
      "execution_count": null,
      "outputs": [
        {
          "output_type": "execute_result",
          "data": {
            "text/plain": [
              "array([201506, 201505, 201507, 201508, 201509, 201504, 201503, 201502,\n",
              "       201501])"
            ]
          },
          "metadata": {},
          "execution_count": 201
        }
      ]
    },
    {
      "cell_type": "code",
      "source": [
        "rp_[\"MES\"].dtype"
      ],
      "metadata": {
        "colab": {
          "base_uri": "https://localhost:8080/"
        },
        "id": "oLQfAEvJ4Nos",
        "outputId": "e41d1d2d-937f-4dfd-fff3-d9e30c0b31bd"
      },
      "execution_count": null,
      "outputs": [
        {
          "output_type": "execute_result",
          "data": {
            "text/plain": [
              "dtype('int64')"
            ]
          },
          "metadata": {},
          "execution_count": 202
        }
      ]
    },
    {
      "cell_type": "code",
      "source": [
        "# Convertir a cadena para usar \"str\"\n",
        "rp_[\"MES\"] = rp_[\"MES\"].astype(str)\n",
        "\n",
        "# Extraer el ultimo valor\n",
        "rp_[\"MES\"]=rp_[\"MES\"].str[5:]"
      ],
      "metadata": {
        "id": "QTTnyoF_18DB"
      },
      "execution_count": null,
      "outputs": []
    },
    {
      "cell_type": "code",
      "source": [
        "rp_[\"MES\"].unique()"
      ],
      "metadata": {
        "colab": {
          "base_uri": "https://localhost:8080/"
        },
        "id": "WMryq9ao445M",
        "outputId": "f07176f0-3a73-4cce-ddb8-a3109bdd4b1b"
      },
      "execution_count": null,
      "outputs": [
        {
          "output_type": "execute_result",
          "data": {
            "text/plain": [
              "array(['6', '5', '7', '8', '9', '4', '3', '2', '1'], dtype=object)"
            ]
          },
          "metadata": {},
          "execution_count": 204
        }
      ]
    },
    {
      "cell_type": "code",
      "source": [
        "rp_.info()"
      ],
      "metadata": {
        "colab": {
          "base_uri": "https://localhost:8080/"
        },
        "id": "c3mHILGc-3p9",
        "outputId": "0210655a-0303-4646-890a-cb8b4d218e0b"
      },
      "execution_count": null,
      "outputs": [
        {
          "output_type": "stream",
          "name": "stdout",
          "text": [
            "<class 'pandas.core.frame.DataFrame'>\n",
            "RangeIndex: 87538 entries, 0 to 87537\n",
            "Data columns (total 22 columns):\n",
            " #   Column                              Non-Null Count  Dtype  \n",
            "---  ------                              --------------  -----  \n",
            " 0   MES                                 87538 non-null  object \n",
            " 1   CLIENTE                             87538 non-null  int64  \n",
            " 2   LINEA_RENOVADO                      87538 non-null  int64  \n",
            " 3   PLAZO_RENOVADO                      87538 non-null  int64  \n",
            " 4   FLAG_VENTA                          87538 non-null  int64  \n",
            " 5   NR_ENTIDADES_TOTAL_T2               87538 non-null  int64  \n",
            " 6   DIFF_NRO_ENTIDA_TOTALES_T2_T12      87538 non-null  int64  \n",
            " 7   Ahorro_Sldo_Bco_T1                  87538 non-null  int64  \n",
            " 8   PConsumo_Sldo_Bco_T1                87538 non-null  int64  \n",
            " 9   SDO_BCO_tot_sm_pasivo_Bco_6M        87538 non-null  float64\n",
            " 10  FLAG_LIMA_PROVINCIA                 87538 non-null  int64  \n",
            " 11  CUBRIR_DEUDA_CONSUMO_SF_RENOVA_PLD  87538 non-null  float64\n",
            " 12  USO_LINEA_TOTAL_TC_T2_ls            87538 non-null  float64\n",
            " 13  USO_TRIM_LINEA_BBVA_ls              87538 non-null  float64\n",
            " 14  SDO_CONSUMO_T2_ls                   87538 non-null  float64\n",
            " 15  ANTIGUEDAD_MES_ls                   87538 non-null  int64  \n",
            " 16  SUELDO_ESTIMADO_ls                  87538 non-null  float64\n",
            " 17  RESENCIA_OFERTA_PLD_RENOVADO_ls     87538 non-null  float64\n",
            " 18  EDAD_ls                             87538 non-null  int64  \n",
            " 19  SEXO_ls                             87538 non-null  int64  \n",
            " 20  EST_CIVIL_ls                        87538 non-null  int64  \n",
            " 21  REGION_ls                           87538 non-null  int64  \n",
            "dtypes: float64(7), int64(14), object(1)\n",
            "memory usage: 14.7+ MB\n"
          ]
        }
      ]
    },
    {
      "cell_type": "code",
      "source": [
        "# Asegurarse que todas las columnas sean numericas\n",
        "rp_[\"MES\"] = rp_[\"MES\"].astype(int)\n",
        "rp_[\"MES\"].dtype"
      ],
      "metadata": {
        "colab": {
          "base_uri": "https://localhost:8080/"
        },
        "id": "7BIvpK8717zC",
        "outputId": "91269146-3eb1-4c87-e486-ef698b44f52f"
      },
      "execution_count": null,
      "outputs": [
        {
          "output_type": "execute_result",
          "data": {
            "text/plain": [
              "dtype('int64')"
            ]
          },
          "metadata": {},
          "execution_count": 206
        }
      ]
    },
    {
      "cell_type": "code",
      "source": [
        "rp_.head(2)"
      ],
      "metadata": {
        "colab": {
          "base_uri": "https://localhost:8080/"
        },
        "id": "FvzqXgcmA41L",
        "outputId": "7c3095a6-430f-4dbf-eba8-bdec0d8d6178"
      },
      "execution_count": null,
      "outputs": [
        {
          "output_type": "execute_result",
          "data": {
            "text/plain": [
              "   MES  CLIENTE  LINEA_RENOVADO  PLAZO_RENOVADO  FLAG_VENTA  \\\n",
              "0    6        1            3770              12           0   \n",
              "1    6        2            1300               6           0   \n",
              "\n",
              "   NR_ENTIDADES_TOTAL_T2  DIFF_NRO_ENTIDA_TOTALES_T2_T12  Ahorro_Sldo_Bco_T1  \\\n",
              "0                      1                              -1                1850   \n",
              "1                      1                               0                2093   \n",
              "\n",
              "   PConsumo_Sldo_Bco_T1  SDO_BCO_tot_sm_pasivo_Bco_6M  ...  \\\n",
              "0                   457                   3754.333333  ...   \n",
              "1                 11200                   1581.333333  ...   \n",
              "\n",
              "   USO_LINEA_TOTAL_TC_T2_ls  USO_TRIM_LINEA_BBVA_ls  SDO_CONSUMO_T2_ls  \\\n",
              "0                       0.0                     0.0             271.12   \n",
              "1                       0.0                     0.0           11200.00   \n",
              "\n",
              "   ANTIGUEDAD_MES_ls  SUELDO_ESTIMADO_ls  RESENCIA_OFERTA_PLD_RENOVADO_ls  \\\n",
              "0                 23              3531.0                             21.0   \n",
              "1                 56              1322.0                              9.0   \n",
              "\n",
              "   EDAD_ls  SEXO_ls  EST_CIVIL_ls  REGION_ls  \n",
              "0       25        1             2          6  \n",
              "1       33        1             2          4  \n",
              "\n",
              "[2 rows x 22 columns]"
            ],
            "text/html": [
              "\n",
              "  <div id=\"df-f8235e9c-fd08-4a92-9d56-cfddb7aa2c19\" class=\"colab-df-container\">\n",
              "    <div>\n",
              "<style scoped>\n",
              "    .dataframe tbody tr th:only-of-type {\n",
              "        vertical-align: middle;\n",
              "    }\n",
              "\n",
              "    .dataframe tbody tr th {\n",
              "        vertical-align: top;\n",
              "    }\n",
              "\n",
              "    .dataframe thead th {\n",
              "        text-align: right;\n",
              "    }\n",
              "</style>\n",
              "<table border=\"1\" class=\"dataframe\">\n",
              "  <thead>\n",
              "    <tr style=\"text-align: right;\">\n",
              "      <th></th>\n",
              "      <th>MES</th>\n",
              "      <th>CLIENTE</th>\n",
              "      <th>LINEA_RENOVADO</th>\n",
              "      <th>PLAZO_RENOVADO</th>\n",
              "      <th>FLAG_VENTA</th>\n",
              "      <th>NR_ENTIDADES_TOTAL_T2</th>\n",
              "      <th>DIFF_NRO_ENTIDA_TOTALES_T2_T12</th>\n",
              "      <th>Ahorro_Sldo_Bco_T1</th>\n",
              "      <th>PConsumo_Sldo_Bco_T1</th>\n",
              "      <th>SDO_BCO_tot_sm_pasivo_Bco_6M</th>\n",
              "      <th>...</th>\n",
              "      <th>USO_LINEA_TOTAL_TC_T2_ls</th>\n",
              "      <th>USO_TRIM_LINEA_BBVA_ls</th>\n",
              "      <th>SDO_CONSUMO_T2_ls</th>\n",
              "      <th>ANTIGUEDAD_MES_ls</th>\n",
              "      <th>SUELDO_ESTIMADO_ls</th>\n",
              "      <th>RESENCIA_OFERTA_PLD_RENOVADO_ls</th>\n",
              "      <th>EDAD_ls</th>\n",
              "      <th>SEXO_ls</th>\n",
              "      <th>EST_CIVIL_ls</th>\n",
              "      <th>REGION_ls</th>\n",
              "    </tr>\n",
              "  </thead>\n",
              "  <tbody>\n",
              "    <tr>\n",
              "      <th>0</th>\n",
              "      <td>6</td>\n",
              "      <td>1</td>\n",
              "      <td>3770</td>\n",
              "      <td>12</td>\n",
              "      <td>0</td>\n",
              "      <td>1</td>\n",
              "      <td>-1</td>\n",
              "      <td>1850</td>\n",
              "      <td>457</td>\n",
              "      <td>3754.333333</td>\n",
              "      <td>...</td>\n",
              "      <td>0.0</td>\n",
              "      <td>0.0</td>\n",
              "      <td>271.12</td>\n",
              "      <td>23</td>\n",
              "      <td>3531.0</td>\n",
              "      <td>21.0</td>\n",
              "      <td>25</td>\n",
              "      <td>1</td>\n",
              "      <td>2</td>\n",
              "      <td>6</td>\n",
              "    </tr>\n",
              "    <tr>\n",
              "      <th>1</th>\n",
              "      <td>6</td>\n",
              "      <td>2</td>\n",
              "      <td>1300</td>\n",
              "      <td>6</td>\n",
              "      <td>0</td>\n",
              "      <td>1</td>\n",
              "      <td>0</td>\n",
              "      <td>2093</td>\n",
              "      <td>11200</td>\n",
              "      <td>1581.333333</td>\n",
              "      <td>...</td>\n",
              "      <td>0.0</td>\n",
              "      <td>0.0</td>\n",
              "      <td>11200.00</td>\n",
              "      <td>56</td>\n",
              "      <td>1322.0</td>\n",
              "      <td>9.0</td>\n",
              "      <td>33</td>\n",
              "      <td>1</td>\n",
              "      <td>2</td>\n",
              "      <td>4</td>\n",
              "    </tr>\n",
              "  </tbody>\n",
              "</table>\n",
              "<p>2 rows × 22 columns</p>\n",
              "</div>\n",
              "    <div class=\"colab-df-buttons\">\n",
              "\n",
              "  <div class=\"colab-df-container\">\n",
              "    <button class=\"colab-df-convert\" onclick=\"convertToInteractive('df-f8235e9c-fd08-4a92-9d56-cfddb7aa2c19')\"\n",
              "            title=\"Convert this dataframe to an interactive table.\"\n",
              "            style=\"display:none;\">\n",
              "\n",
              "  <svg xmlns=\"http://www.w3.org/2000/svg\" height=\"24px\" viewBox=\"0 -960 960 960\">\n",
              "    <path d=\"M120-120v-720h720v720H120Zm60-500h600v-160H180v160Zm220 220h160v-160H400v160Zm0 220h160v-160H400v160ZM180-400h160v-160H180v160Zm440 0h160v-160H620v160ZM180-180h160v-160H180v160Zm440 0h160v-160H620v160Z\"/>\n",
              "  </svg>\n",
              "    </button>\n",
              "\n",
              "  <style>\n",
              "    .colab-df-container {\n",
              "      display:flex;\n",
              "      gap: 12px;\n",
              "    }\n",
              "\n",
              "    .colab-df-convert {\n",
              "      background-color: #E8F0FE;\n",
              "      border: none;\n",
              "      border-radius: 50%;\n",
              "      cursor: pointer;\n",
              "      display: none;\n",
              "      fill: #1967D2;\n",
              "      height: 32px;\n",
              "      padding: 0 0 0 0;\n",
              "      width: 32px;\n",
              "    }\n",
              "\n",
              "    .colab-df-convert:hover {\n",
              "      background-color: #E2EBFA;\n",
              "      box-shadow: 0px 1px 2px rgba(60, 64, 67, 0.3), 0px 1px 3px 1px rgba(60, 64, 67, 0.15);\n",
              "      fill: #174EA6;\n",
              "    }\n",
              "\n",
              "    .colab-df-buttons div {\n",
              "      margin-bottom: 4px;\n",
              "    }\n",
              "\n",
              "    [theme=dark] .colab-df-convert {\n",
              "      background-color: #3B4455;\n",
              "      fill: #D2E3FC;\n",
              "    }\n",
              "\n",
              "    [theme=dark] .colab-df-convert:hover {\n",
              "      background-color: #434B5C;\n",
              "      box-shadow: 0px 1px 3px 1px rgba(0, 0, 0, 0.15);\n",
              "      filter: drop-shadow(0px 1px 2px rgba(0, 0, 0, 0.3));\n",
              "      fill: #FFFFFF;\n",
              "    }\n",
              "  </style>\n",
              "\n",
              "    <script>\n",
              "      const buttonEl =\n",
              "        document.querySelector('#df-f8235e9c-fd08-4a92-9d56-cfddb7aa2c19 button.colab-df-convert');\n",
              "      buttonEl.style.display =\n",
              "        google.colab.kernel.accessAllowed ? 'block' : 'none';\n",
              "\n",
              "      async function convertToInteractive(key) {\n",
              "        const element = document.querySelector('#df-f8235e9c-fd08-4a92-9d56-cfddb7aa2c19');\n",
              "        const dataTable =\n",
              "          await google.colab.kernel.invokeFunction('convertToInteractive',\n",
              "                                                    [key], {});\n",
              "        if (!dataTable) return;\n",
              "\n",
              "        const docLinkHtml = 'Like what you see? Visit the ' +\n",
              "          '<a target=\"_blank\" href=https://colab.research.google.com/notebooks/data_table.ipynb>data table notebook</a>'\n",
              "          + ' to learn more about interactive tables.';\n",
              "        element.innerHTML = '';\n",
              "        dataTable['output_type'] = 'display_data';\n",
              "        await google.colab.output.renderOutput(dataTable, element);\n",
              "        const docLink = document.createElement('div');\n",
              "        docLink.innerHTML = docLinkHtml;\n",
              "        element.appendChild(docLink);\n",
              "      }\n",
              "    </script>\n",
              "  </div>\n",
              "\n",
              "\n",
              "<div id=\"df-e4dc8673-77d4-4dd5-a159-8a61d10446dd\">\n",
              "  <button class=\"colab-df-quickchart\" onclick=\"quickchart('df-e4dc8673-77d4-4dd5-a159-8a61d10446dd')\"\n",
              "            title=\"Suggest charts\"\n",
              "            style=\"display:none;\">\n",
              "\n",
              "<svg xmlns=\"http://www.w3.org/2000/svg\" height=\"24px\"viewBox=\"0 0 24 24\"\n",
              "     width=\"24px\">\n",
              "    <g>\n",
              "        <path d=\"M19 3H5c-1.1 0-2 .9-2 2v14c0 1.1.9 2 2 2h14c1.1 0 2-.9 2-2V5c0-1.1-.9-2-2-2zM9 17H7v-7h2v7zm4 0h-2V7h2v10zm4 0h-2v-4h2v4z\"/>\n",
              "    </g>\n",
              "</svg>\n",
              "  </button>\n",
              "\n",
              "<style>\n",
              "  .colab-df-quickchart {\n",
              "      --bg-color: #E8F0FE;\n",
              "      --fill-color: #1967D2;\n",
              "      --hover-bg-color: #E2EBFA;\n",
              "      --hover-fill-color: #174EA6;\n",
              "      --disabled-fill-color: #AAA;\n",
              "      --disabled-bg-color: #DDD;\n",
              "  }\n",
              "\n",
              "  [theme=dark] .colab-df-quickchart {\n",
              "      --bg-color: #3B4455;\n",
              "      --fill-color: #D2E3FC;\n",
              "      --hover-bg-color: #434B5C;\n",
              "      --hover-fill-color: #FFFFFF;\n",
              "      --disabled-bg-color: #3B4455;\n",
              "      --disabled-fill-color: #666;\n",
              "  }\n",
              "\n",
              "  .colab-df-quickchart {\n",
              "    background-color: var(--bg-color);\n",
              "    border: none;\n",
              "    border-radius: 50%;\n",
              "    cursor: pointer;\n",
              "    display: none;\n",
              "    fill: var(--fill-color);\n",
              "    height: 32px;\n",
              "    padding: 0;\n",
              "    width: 32px;\n",
              "  }\n",
              "\n",
              "  .colab-df-quickchart:hover {\n",
              "    background-color: var(--hover-bg-color);\n",
              "    box-shadow: 0 1px 2px rgba(60, 64, 67, 0.3), 0 1px 3px 1px rgba(60, 64, 67, 0.15);\n",
              "    fill: var(--button-hover-fill-color);\n",
              "  }\n",
              "\n",
              "  .colab-df-quickchart-complete:disabled,\n",
              "  .colab-df-quickchart-complete:disabled:hover {\n",
              "    background-color: var(--disabled-bg-color);\n",
              "    fill: var(--disabled-fill-color);\n",
              "    box-shadow: none;\n",
              "  }\n",
              "\n",
              "  .colab-df-spinner {\n",
              "    border: 2px solid var(--fill-color);\n",
              "    border-color: transparent;\n",
              "    border-bottom-color: var(--fill-color);\n",
              "    animation:\n",
              "      spin 1s steps(1) infinite;\n",
              "  }\n",
              "\n",
              "  @keyframes spin {\n",
              "    0% {\n",
              "      border-color: transparent;\n",
              "      border-bottom-color: var(--fill-color);\n",
              "      border-left-color: var(--fill-color);\n",
              "    }\n",
              "    20% {\n",
              "      border-color: transparent;\n",
              "      border-left-color: var(--fill-color);\n",
              "      border-top-color: var(--fill-color);\n",
              "    }\n",
              "    30% {\n",
              "      border-color: transparent;\n",
              "      border-left-color: var(--fill-color);\n",
              "      border-top-color: var(--fill-color);\n",
              "      border-right-color: var(--fill-color);\n",
              "    }\n",
              "    40% {\n",
              "      border-color: transparent;\n",
              "      border-right-color: var(--fill-color);\n",
              "      border-top-color: var(--fill-color);\n",
              "    }\n",
              "    60% {\n",
              "      border-color: transparent;\n",
              "      border-right-color: var(--fill-color);\n",
              "    }\n",
              "    80% {\n",
              "      border-color: transparent;\n",
              "      border-right-color: var(--fill-color);\n",
              "      border-bottom-color: var(--fill-color);\n",
              "    }\n",
              "    90% {\n",
              "      border-color: transparent;\n",
              "      border-bottom-color: var(--fill-color);\n",
              "    }\n",
              "  }\n",
              "</style>\n",
              "\n",
              "  <script>\n",
              "    async function quickchart(key) {\n",
              "      const quickchartButtonEl =\n",
              "        document.querySelector('#' + key + ' button');\n",
              "      quickchartButtonEl.disabled = true;  // To prevent multiple clicks.\n",
              "      quickchartButtonEl.classList.add('colab-df-spinner');\n",
              "      try {\n",
              "        const charts = await google.colab.kernel.invokeFunction(\n",
              "            'suggestCharts', [key], {});\n",
              "      } catch (error) {\n",
              "        console.error('Error during call to suggestCharts:', error);\n",
              "      }\n",
              "      quickchartButtonEl.classList.remove('colab-df-spinner');\n",
              "      quickchartButtonEl.classList.add('colab-df-quickchart-complete');\n",
              "    }\n",
              "    (() => {\n",
              "      let quickchartButtonEl =\n",
              "        document.querySelector('#df-e4dc8673-77d4-4dd5-a159-8a61d10446dd button');\n",
              "      quickchartButtonEl.style.display =\n",
              "        google.colab.kernel.accessAllowed ? 'block' : 'none';\n",
              "    })();\n",
              "  </script>\n",
              "</div>\n",
              "    </div>\n",
              "  </div>\n"
            ]
          },
          "metadata": {},
          "execution_count": 207
        }
      ]
    },
    {
      "cell_type": "code",
      "source": [
        "rp_.columns"
      ],
      "metadata": {
        "colab": {
          "base_uri": "https://localhost:8080/"
        },
        "id": "J6-CjcaEBBwc",
        "outputId": "01cf5806-8385-482b-feff-e63d2e9c6b42"
      },
      "execution_count": null,
      "outputs": [
        {
          "output_type": "execute_result",
          "data": {
            "text/plain": [
              "Index(['MES', 'CLIENTE', 'LINEA_RENOVADO', 'PLAZO_RENOVADO', 'FLAG_VENTA',\n",
              "       'NR_ENTIDADES_TOTAL_T2', 'DIFF_NRO_ENTIDA_TOTALES_T2_T12',\n",
              "       'Ahorro_Sldo_Bco_T1', 'PConsumo_Sldo_Bco_T1',\n",
              "       'SDO_BCO_tot_sm_pasivo_Bco_6M', 'FLAG_LIMA_PROVINCIA',\n",
              "       'CUBRIR_DEUDA_CONSUMO_SF_RENOVA_PLD', 'USO_LINEA_TOTAL_TC_T2_ls',\n",
              "       'USO_TRIM_LINEA_BBVA_ls', 'SDO_CONSUMO_T2_ls', 'ANTIGUEDAD_MES_ls',\n",
              "       'SUELDO_ESTIMADO_ls', 'RESENCIA_OFERTA_PLD_RENOVADO_ls', 'EDAD_ls',\n",
              "       'SEXO_ls', 'EST_CIVIL_ls', 'REGION_ls'],\n",
              "      dtype='object')"
            ]
          },
          "metadata": {},
          "execution_count": 208
        }
      ]
    },
    {
      "cell_type": "code",
      "source": [
        "columnas=['MES', 'LINEA_RENOVADO', 'PLAZO_RENOVADO', 'FLAG_VENTA',\n",
        "       'NR_ENTIDADES_TOTAL_T2', 'DIFF_NRO_ENTIDA_TOTALES_T2_T12',\n",
        "       'Ahorro_Sldo_Bco_T1', 'PConsumo_Sldo_Bco_T1',\n",
        "       'SDO_BCO_tot_sm_pasivo_Bco_6M', 'FLAG_LIMA_PROVINCIA',\n",
        "       'CUBRIR_DEUDA_CONSUMO_SF_RENOVA_PLD', 'USO_LINEA_TOTAL_TC_T2_ls',\n",
        "       'USO_TRIM_LINEA_BBVA_ls', 'SDO_CONSUMO_T2_ls', 'ANTIGUEDAD_MES_ls',\n",
        "       'SUELDO_ESTIMADO_ls', 'RESENCIA_OFERTA_PLD_RENOVADO_ls', 'EDAD_ls',\n",
        "       'SEXO_ls', 'EST_CIVIL_ls', 'REGION_ls']"
      ],
      "metadata": {
        "id": "usIStjaNBJE_"
      },
      "execution_count": null,
      "outputs": []
    },
    {
      "cell_type": "code",
      "source": [
        "rp_ml=rp_[columnas]"
      ],
      "metadata": {
        "id": "1M-3_J-gBhao"
      },
      "execution_count": null,
      "outputs": []
    },
    {
      "cell_type": "code",
      "source": [
        "rp_ml"
      ],
      "metadata": {
        "colab": {
          "base_uri": "https://localhost:8080/"
        },
        "id": "FkKOwcOwBvJv",
        "outputId": "c1f8efb3-9945-4ca0-faac-491ebf20ec8b"
      },
      "execution_count": null,
      "outputs": [
        {
          "output_type": "execute_result",
          "data": {
            "text/plain": [
              "       MES  LINEA_RENOVADO  PLAZO_RENOVADO  FLAG_VENTA  NR_ENTIDADES_TOTAL_T2  \\\n",
              "0        6            3770              12           0                      1   \n",
              "1        6            1300               6           0                      1   \n",
              "2        6            7800              36           0                      5   \n",
              "3        6            6630              12           0                      1   \n",
              "4        6           15497              36           1                      1   \n",
              "...    ...             ...             ...         ...                    ...   \n",
              "87533    8           32500              36           0                      1   \n",
              "87534    7           19500              18           0                      3   \n",
              "87535    6           20800              24           0                      2   \n",
              "87536    8           22816              36           0                      1   \n",
              "87537    8           13845              36           0                      2   \n",
              "\n",
              "       DIFF_NRO_ENTIDA_TOTALES_T2_T12  Ahorro_Sldo_Bco_T1  \\\n",
              "0                                  -1                1850   \n",
              "1                                   0                2093   \n",
              "2                                  -2               16208   \n",
              "3                                   1                1531   \n",
              "4                                   0                 308   \n",
              "...                               ...                 ...   \n",
              "87533                               0                3110   \n",
              "87534                              -1                1705   \n",
              "87535                               0                 579   \n",
              "87536                               0                  36   \n",
              "87537                              -1                   2   \n",
              "\n",
              "       PConsumo_Sldo_Bco_T1  SDO_BCO_tot_sm_pasivo_Bco_6M  \\\n",
              "0                       457                   3754.333333   \n",
              "1                     11200                   1581.333333   \n",
              "2                      4778                  10241.000000   \n",
              "3                         0                   5797.333333   \n",
              "4                      1935                  16755.333330   \n",
              "...                     ...                           ...   \n",
              "87533                 35820                   6914.000000   \n",
              "87534                 11880                   5740.333333   \n",
              "87535                 12688                   1717.166666   \n",
              "87536                 33950                    291.750000   \n",
              "87537                  3698                      1.500000   \n",
              "\n",
              "       FLAG_LIMA_PROVINCIA  ...  USO_LINEA_TOTAL_TC_T2_ls  \\\n",
              "0                        1  ...                  0.000000   \n",
              "1                        1  ...                  0.000000   \n",
              "2                        1  ...                  0.429507   \n",
              "3                        0  ...                  0.000000   \n",
              "4                        0  ...                  0.116347   \n",
              "...                    ...  ...                       ...   \n",
              "87533                    1  ...                  0.225158   \n",
              "87534                    1  ...                  0.133990   \n",
              "87535                    1  ...                  0.116347   \n",
              "87536                    0  ...                  0.015731   \n",
              "87537                    1  ...                  0.116347   \n",
              "\n",
              "       USO_TRIM_LINEA_BBVA_ls  SDO_CONSUMO_T2_ls  ANTIGUEDAD_MES_ls  \\\n",
              "0                    0.000000             271.12                 23   \n",
              "1                    0.000000           11200.00                 56   \n",
              "2                    0.172813           20156.45                 20   \n",
              "3                    0.000000           20485.14                166   \n",
              "4                    0.041995            1682.83                 55   \n",
              "...                       ...                ...                ...   \n",
              "87533                0.172813           20450.26                 43   \n",
              "87534                0.096868           22128.11                203   \n",
              "87535                0.041995               0.00                149   \n",
              "87536                0.084942           16716.47                 33   \n",
              "87537                0.041995            2018.52                161   \n",
              "\n",
              "       SUELDO_ESTIMADO_ls  RESENCIA_OFERTA_PLD_RENOVADO_ls  EDAD_ls  SEXO_ls  \\\n",
              "0                3531.000                        21.000000       25        1   \n",
              "1                1322.000                         9.000000       33        1   \n",
              "2                4234.000                        14.704464       26        1   \n",
              "3                6647.000                        20.000000       51        1   \n",
              "4                2094.000                        11.000000       35        1   \n",
              "...                   ...                              ...      ...      ...   \n",
              "87533            3277.000                        15.000000       25        1   \n",
              "87534            9804.000                        14.704464       48        1   \n",
              "87535           10722.265                        14.704464       35        0   \n",
              "87536            1500.000                        14.704464       40        1   \n",
              "87537            2104.000                        21.000000       38        1   \n",
              "\n",
              "       EST_CIVIL_ls  REGION_ls  \n",
              "0                 2          6  \n",
              "1                 2          4  \n",
              "2                 2          5  \n",
              "3                 2          9  \n",
              "4                 0          9  \n",
              "...             ...        ...  \n",
              "87533             2          6  \n",
              "87534             0          6  \n",
              "87535             0          5  \n",
              "87536             2         12  \n",
              "87537             2          4  \n",
              "\n",
              "[87538 rows x 21 columns]"
            ],
            "text/html": [
              "\n",
              "  <div id=\"df-5705ea75-5f93-4238-98a0-e98fa1c8d727\" class=\"colab-df-container\">\n",
              "    <div>\n",
              "<style scoped>\n",
              "    .dataframe tbody tr th:only-of-type {\n",
              "        vertical-align: middle;\n",
              "    }\n",
              "\n",
              "    .dataframe tbody tr th {\n",
              "        vertical-align: top;\n",
              "    }\n",
              "\n",
              "    .dataframe thead th {\n",
              "        text-align: right;\n",
              "    }\n",
              "</style>\n",
              "<table border=\"1\" class=\"dataframe\">\n",
              "  <thead>\n",
              "    <tr style=\"text-align: right;\">\n",
              "      <th></th>\n",
              "      <th>MES</th>\n",
              "      <th>LINEA_RENOVADO</th>\n",
              "      <th>PLAZO_RENOVADO</th>\n",
              "      <th>FLAG_VENTA</th>\n",
              "      <th>NR_ENTIDADES_TOTAL_T2</th>\n",
              "      <th>DIFF_NRO_ENTIDA_TOTALES_T2_T12</th>\n",
              "      <th>Ahorro_Sldo_Bco_T1</th>\n",
              "      <th>PConsumo_Sldo_Bco_T1</th>\n",
              "      <th>SDO_BCO_tot_sm_pasivo_Bco_6M</th>\n",
              "      <th>FLAG_LIMA_PROVINCIA</th>\n",
              "      <th>...</th>\n",
              "      <th>USO_LINEA_TOTAL_TC_T2_ls</th>\n",
              "      <th>USO_TRIM_LINEA_BBVA_ls</th>\n",
              "      <th>SDO_CONSUMO_T2_ls</th>\n",
              "      <th>ANTIGUEDAD_MES_ls</th>\n",
              "      <th>SUELDO_ESTIMADO_ls</th>\n",
              "      <th>RESENCIA_OFERTA_PLD_RENOVADO_ls</th>\n",
              "      <th>EDAD_ls</th>\n",
              "      <th>SEXO_ls</th>\n",
              "      <th>EST_CIVIL_ls</th>\n",
              "      <th>REGION_ls</th>\n",
              "    </tr>\n",
              "  </thead>\n",
              "  <tbody>\n",
              "    <tr>\n",
              "      <th>0</th>\n",
              "      <td>6</td>\n",
              "      <td>3770</td>\n",
              "      <td>12</td>\n",
              "      <td>0</td>\n",
              "      <td>1</td>\n",
              "      <td>-1</td>\n",
              "      <td>1850</td>\n",
              "      <td>457</td>\n",
              "      <td>3754.333333</td>\n",
              "      <td>1</td>\n",
              "      <td>...</td>\n",
              "      <td>0.000000</td>\n",
              "      <td>0.000000</td>\n",
              "      <td>271.12</td>\n",
              "      <td>23</td>\n",
              "      <td>3531.000</td>\n",
              "      <td>21.000000</td>\n",
              "      <td>25</td>\n",
              "      <td>1</td>\n",
              "      <td>2</td>\n",
              "      <td>6</td>\n",
              "    </tr>\n",
              "    <tr>\n",
              "      <th>1</th>\n",
              "      <td>6</td>\n",
              "      <td>1300</td>\n",
              "      <td>6</td>\n",
              "      <td>0</td>\n",
              "      <td>1</td>\n",
              "      <td>0</td>\n",
              "      <td>2093</td>\n",
              "      <td>11200</td>\n",
              "      <td>1581.333333</td>\n",
              "      <td>1</td>\n",
              "      <td>...</td>\n",
              "      <td>0.000000</td>\n",
              "      <td>0.000000</td>\n",
              "      <td>11200.00</td>\n",
              "      <td>56</td>\n",
              "      <td>1322.000</td>\n",
              "      <td>9.000000</td>\n",
              "      <td>33</td>\n",
              "      <td>1</td>\n",
              "      <td>2</td>\n",
              "      <td>4</td>\n",
              "    </tr>\n",
              "    <tr>\n",
              "      <th>2</th>\n",
              "      <td>6</td>\n",
              "      <td>7800</td>\n",
              "      <td>36</td>\n",
              "      <td>0</td>\n",
              "      <td>5</td>\n",
              "      <td>-2</td>\n",
              "      <td>16208</td>\n",
              "      <td>4778</td>\n",
              "      <td>10241.000000</td>\n",
              "      <td>1</td>\n",
              "      <td>...</td>\n",
              "      <td>0.429507</td>\n",
              "      <td>0.172813</td>\n",
              "      <td>20156.45</td>\n",
              "      <td>20</td>\n",
              "      <td>4234.000</td>\n",
              "      <td>14.704464</td>\n",
              "      <td>26</td>\n",
              "      <td>1</td>\n",
              "      <td>2</td>\n",
              "      <td>5</td>\n",
              "    </tr>\n",
              "    <tr>\n",
              "      <th>3</th>\n",
              "      <td>6</td>\n",
              "      <td>6630</td>\n",
              "      <td>12</td>\n",
              "      <td>0</td>\n",
              "      <td>1</td>\n",
              "      <td>1</td>\n",
              "      <td>1531</td>\n",
              "      <td>0</td>\n",
              "      <td>5797.333333</td>\n",
              "      <td>0</td>\n",
              "      <td>...</td>\n",
              "      <td>0.000000</td>\n",
              "      <td>0.000000</td>\n",
              "      <td>20485.14</td>\n",
              "      <td>166</td>\n",
              "      <td>6647.000</td>\n",
              "      <td>20.000000</td>\n",
              "      <td>51</td>\n",
              "      <td>1</td>\n",
              "      <td>2</td>\n",
              "      <td>9</td>\n",
              "    </tr>\n",
              "    <tr>\n",
              "      <th>4</th>\n",
              "      <td>6</td>\n",
              "      <td>15497</td>\n",
              "      <td>36</td>\n",
              "      <td>1</td>\n",
              "      <td>1</td>\n",
              "      <td>0</td>\n",
              "      <td>308</td>\n",
              "      <td>1935</td>\n",
              "      <td>16755.333330</td>\n",
              "      <td>0</td>\n",
              "      <td>...</td>\n",
              "      <td>0.116347</td>\n",
              "      <td>0.041995</td>\n",
              "      <td>1682.83</td>\n",
              "      <td>55</td>\n",
              "      <td>2094.000</td>\n",
              "      <td>11.000000</td>\n",
              "      <td>35</td>\n",
              "      <td>1</td>\n",
              "      <td>0</td>\n",
              "      <td>9</td>\n",
              "    </tr>\n",
              "    <tr>\n",
              "      <th>...</th>\n",
              "      <td>...</td>\n",
              "      <td>...</td>\n",
              "      <td>...</td>\n",
              "      <td>...</td>\n",
              "      <td>...</td>\n",
              "      <td>...</td>\n",
              "      <td>...</td>\n",
              "      <td>...</td>\n",
              "      <td>...</td>\n",
              "      <td>...</td>\n",
              "      <td>...</td>\n",
              "      <td>...</td>\n",
              "      <td>...</td>\n",
              "      <td>...</td>\n",
              "      <td>...</td>\n",
              "      <td>...</td>\n",
              "      <td>...</td>\n",
              "      <td>...</td>\n",
              "      <td>...</td>\n",
              "      <td>...</td>\n",
              "      <td>...</td>\n",
              "    </tr>\n",
              "    <tr>\n",
              "      <th>87533</th>\n",
              "      <td>8</td>\n",
              "      <td>32500</td>\n",
              "      <td>36</td>\n",
              "      <td>0</td>\n",
              "      <td>1</td>\n",
              "      <td>0</td>\n",
              "      <td>3110</td>\n",
              "      <td>35820</td>\n",
              "      <td>6914.000000</td>\n",
              "      <td>1</td>\n",
              "      <td>...</td>\n",
              "      <td>0.225158</td>\n",
              "      <td>0.172813</td>\n",
              "      <td>20450.26</td>\n",
              "      <td>43</td>\n",
              "      <td>3277.000</td>\n",
              "      <td>15.000000</td>\n",
              "      <td>25</td>\n",
              "      <td>1</td>\n",
              "      <td>2</td>\n",
              "      <td>6</td>\n",
              "    </tr>\n",
              "    <tr>\n",
              "      <th>87534</th>\n",
              "      <td>7</td>\n",
              "      <td>19500</td>\n",
              "      <td>18</td>\n",
              "      <td>0</td>\n",
              "      <td>3</td>\n",
              "      <td>-1</td>\n",
              "      <td>1705</td>\n",
              "      <td>11880</td>\n",
              "      <td>5740.333333</td>\n",
              "      <td>1</td>\n",
              "      <td>...</td>\n",
              "      <td>0.133990</td>\n",
              "      <td>0.096868</td>\n",
              "      <td>22128.11</td>\n",
              "      <td>203</td>\n",
              "      <td>9804.000</td>\n",
              "      <td>14.704464</td>\n",
              "      <td>48</td>\n",
              "      <td>1</td>\n",
              "      <td>0</td>\n",
              "      <td>6</td>\n",
              "    </tr>\n",
              "    <tr>\n",
              "      <th>87535</th>\n",
              "      <td>6</td>\n",
              "      <td>20800</td>\n",
              "      <td>24</td>\n",
              "      <td>0</td>\n",
              "      <td>2</td>\n",
              "      <td>0</td>\n",
              "      <td>579</td>\n",
              "      <td>12688</td>\n",
              "      <td>1717.166666</td>\n",
              "      <td>1</td>\n",
              "      <td>...</td>\n",
              "      <td>0.116347</td>\n",
              "      <td>0.041995</td>\n",
              "      <td>0.00</td>\n",
              "      <td>149</td>\n",
              "      <td>10722.265</td>\n",
              "      <td>14.704464</td>\n",
              "      <td>35</td>\n",
              "      <td>0</td>\n",
              "      <td>0</td>\n",
              "      <td>5</td>\n",
              "    </tr>\n",
              "    <tr>\n",
              "      <th>87536</th>\n",
              "      <td>8</td>\n",
              "      <td>22816</td>\n",
              "      <td>36</td>\n",
              "      <td>0</td>\n",
              "      <td>1</td>\n",
              "      <td>0</td>\n",
              "      <td>36</td>\n",
              "      <td>33950</td>\n",
              "      <td>291.750000</td>\n",
              "      <td>0</td>\n",
              "      <td>...</td>\n",
              "      <td>0.015731</td>\n",
              "      <td>0.084942</td>\n",
              "      <td>16716.47</td>\n",
              "      <td>33</td>\n",
              "      <td>1500.000</td>\n",
              "      <td>14.704464</td>\n",
              "      <td>40</td>\n",
              "      <td>1</td>\n",
              "      <td>2</td>\n",
              "      <td>12</td>\n",
              "    </tr>\n",
              "    <tr>\n",
              "      <th>87537</th>\n",
              "      <td>8</td>\n",
              "      <td>13845</td>\n",
              "      <td>36</td>\n",
              "      <td>0</td>\n",
              "      <td>2</td>\n",
              "      <td>-1</td>\n",
              "      <td>2</td>\n",
              "      <td>3698</td>\n",
              "      <td>1.500000</td>\n",
              "      <td>1</td>\n",
              "      <td>...</td>\n",
              "      <td>0.116347</td>\n",
              "      <td>0.041995</td>\n",
              "      <td>2018.52</td>\n",
              "      <td>161</td>\n",
              "      <td>2104.000</td>\n",
              "      <td>21.000000</td>\n",
              "      <td>38</td>\n",
              "      <td>1</td>\n",
              "      <td>2</td>\n",
              "      <td>4</td>\n",
              "    </tr>\n",
              "  </tbody>\n",
              "</table>\n",
              "<p>87538 rows × 21 columns</p>\n",
              "</div>\n",
              "    <div class=\"colab-df-buttons\">\n",
              "\n",
              "  <div class=\"colab-df-container\">\n",
              "    <button class=\"colab-df-convert\" onclick=\"convertToInteractive('df-5705ea75-5f93-4238-98a0-e98fa1c8d727')\"\n",
              "            title=\"Convert this dataframe to an interactive table.\"\n",
              "            style=\"display:none;\">\n",
              "\n",
              "  <svg xmlns=\"http://www.w3.org/2000/svg\" height=\"24px\" viewBox=\"0 -960 960 960\">\n",
              "    <path d=\"M120-120v-720h720v720H120Zm60-500h600v-160H180v160Zm220 220h160v-160H400v160Zm0 220h160v-160H400v160ZM180-400h160v-160H180v160Zm440 0h160v-160H620v160ZM180-180h160v-160H180v160Zm440 0h160v-160H620v160Z\"/>\n",
              "  </svg>\n",
              "    </button>\n",
              "\n",
              "  <style>\n",
              "    .colab-df-container {\n",
              "      display:flex;\n",
              "      gap: 12px;\n",
              "    }\n",
              "\n",
              "    .colab-df-convert {\n",
              "      background-color: #E8F0FE;\n",
              "      border: none;\n",
              "      border-radius: 50%;\n",
              "      cursor: pointer;\n",
              "      display: none;\n",
              "      fill: #1967D2;\n",
              "      height: 32px;\n",
              "      padding: 0 0 0 0;\n",
              "      width: 32px;\n",
              "    }\n",
              "\n",
              "    .colab-df-convert:hover {\n",
              "      background-color: #E2EBFA;\n",
              "      box-shadow: 0px 1px 2px rgba(60, 64, 67, 0.3), 0px 1px 3px 1px rgba(60, 64, 67, 0.15);\n",
              "      fill: #174EA6;\n",
              "    }\n",
              "\n",
              "    .colab-df-buttons div {\n",
              "      margin-bottom: 4px;\n",
              "    }\n",
              "\n",
              "    [theme=dark] .colab-df-convert {\n",
              "      background-color: #3B4455;\n",
              "      fill: #D2E3FC;\n",
              "    }\n",
              "\n",
              "    [theme=dark] .colab-df-convert:hover {\n",
              "      background-color: #434B5C;\n",
              "      box-shadow: 0px 1px 3px 1px rgba(0, 0, 0, 0.15);\n",
              "      filter: drop-shadow(0px 1px 2px rgba(0, 0, 0, 0.3));\n",
              "      fill: #FFFFFF;\n",
              "    }\n",
              "  </style>\n",
              "\n",
              "    <script>\n",
              "      const buttonEl =\n",
              "        document.querySelector('#df-5705ea75-5f93-4238-98a0-e98fa1c8d727 button.colab-df-convert');\n",
              "      buttonEl.style.display =\n",
              "        google.colab.kernel.accessAllowed ? 'block' : 'none';\n",
              "\n",
              "      async function convertToInteractive(key) {\n",
              "        const element = document.querySelector('#df-5705ea75-5f93-4238-98a0-e98fa1c8d727');\n",
              "        const dataTable =\n",
              "          await google.colab.kernel.invokeFunction('convertToInteractive',\n",
              "                                                    [key], {});\n",
              "        if (!dataTable) return;\n",
              "\n",
              "        const docLinkHtml = 'Like what you see? Visit the ' +\n",
              "          '<a target=\"_blank\" href=https://colab.research.google.com/notebooks/data_table.ipynb>data table notebook</a>'\n",
              "          + ' to learn more about interactive tables.';\n",
              "        element.innerHTML = '';\n",
              "        dataTable['output_type'] = 'display_data';\n",
              "        await google.colab.output.renderOutput(dataTable, element);\n",
              "        const docLink = document.createElement('div');\n",
              "        docLink.innerHTML = docLinkHtml;\n",
              "        element.appendChild(docLink);\n",
              "      }\n",
              "    </script>\n",
              "  </div>\n",
              "\n",
              "\n",
              "<div id=\"df-0b0b47eb-0db2-4e4a-98c0-5aaec3949eb0\">\n",
              "  <button class=\"colab-df-quickchart\" onclick=\"quickchart('df-0b0b47eb-0db2-4e4a-98c0-5aaec3949eb0')\"\n",
              "            title=\"Suggest charts\"\n",
              "            style=\"display:none;\">\n",
              "\n",
              "<svg xmlns=\"http://www.w3.org/2000/svg\" height=\"24px\"viewBox=\"0 0 24 24\"\n",
              "     width=\"24px\">\n",
              "    <g>\n",
              "        <path d=\"M19 3H5c-1.1 0-2 .9-2 2v14c0 1.1.9 2 2 2h14c1.1 0 2-.9 2-2V5c0-1.1-.9-2-2-2zM9 17H7v-7h2v7zm4 0h-2V7h2v10zm4 0h-2v-4h2v4z\"/>\n",
              "    </g>\n",
              "</svg>\n",
              "  </button>\n",
              "\n",
              "<style>\n",
              "  .colab-df-quickchart {\n",
              "      --bg-color: #E8F0FE;\n",
              "      --fill-color: #1967D2;\n",
              "      --hover-bg-color: #E2EBFA;\n",
              "      --hover-fill-color: #174EA6;\n",
              "      --disabled-fill-color: #AAA;\n",
              "      --disabled-bg-color: #DDD;\n",
              "  }\n",
              "\n",
              "  [theme=dark] .colab-df-quickchart {\n",
              "      --bg-color: #3B4455;\n",
              "      --fill-color: #D2E3FC;\n",
              "      --hover-bg-color: #434B5C;\n",
              "      --hover-fill-color: #FFFFFF;\n",
              "      --disabled-bg-color: #3B4455;\n",
              "      --disabled-fill-color: #666;\n",
              "  }\n",
              "\n",
              "  .colab-df-quickchart {\n",
              "    background-color: var(--bg-color);\n",
              "    border: none;\n",
              "    border-radius: 50%;\n",
              "    cursor: pointer;\n",
              "    display: none;\n",
              "    fill: var(--fill-color);\n",
              "    height: 32px;\n",
              "    padding: 0;\n",
              "    width: 32px;\n",
              "  }\n",
              "\n",
              "  .colab-df-quickchart:hover {\n",
              "    background-color: var(--hover-bg-color);\n",
              "    box-shadow: 0 1px 2px rgba(60, 64, 67, 0.3), 0 1px 3px 1px rgba(60, 64, 67, 0.15);\n",
              "    fill: var(--button-hover-fill-color);\n",
              "  }\n",
              "\n",
              "  .colab-df-quickchart-complete:disabled,\n",
              "  .colab-df-quickchart-complete:disabled:hover {\n",
              "    background-color: var(--disabled-bg-color);\n",
              "    fill: var(--disabled-fill-color);\n",
              "    box-shadow: none;\n",
              "  }\n",
              "\n",
              "  .colab-df-spinner {\n",
              "    border: 2px solid var(--fill-color);\n",
              "    border-color: transparent;\n",
              "    border-bottom-color: var(--fill-color);\n",
              "    animation:\n",
              "      spin 1s steps(1) infinite;\n",
              "  }\n",
              "\n",
              "  @keyframes spin {\n",
              "    0% {\n",
              "      border-color: transparent;\n",
              "      border-bottom-color: var(--fill-color);\n",
              "      border-left-color: var(--fill-color);\n",
              "    }\n",
              "    20% {\n",
              "      border-color: transparent;\n",
              "      border-left-color: var(--fill-color);\n",
              "      border-top-color: var(--fill-color);\n",
              "    }\n",
              "    30% {\n",
              "      border-color: transparent;\n",
              "      border-left-color: var(--fill-color);\n",
              "      border-top-color: var(--fill-color);\n",
              "      border-right-color: var(--fill-color);\n",
              "    }\n",
              "    40% {\n",
              "      border-color: transparent;\n",
              "      border-right-color: var(--fill-color);\n",
              "      border-top-color: var(--fill-color);\n",
              "    }\n",
              "    60% {\n",
              "      border-color: transparent;\n",
              "      border-right-color: var(--fill-color);\n",
              "    }\n",
              "    80% {\n",
              "      border-color: transparent;\n",
              "      border-right-color: var(--fill-color);\n",
              "      border-bottom-color: var(--fill-color);\n",
              "    }\n",
              "    90% {\n",
              "      border-color: transparent;\n",
              "      border-bottom-color: var(--fill-color);\n",
              "    }\n",
              "  }\n",
              "</style>\n",
              "\n",
              "  <script>\n",
              "    async function quickchart(key) {\n",
              "      const quickchartButtonEl =\n",
              "        document.querySelector('#' + key + ' button');\n",
              "      quickchartButtonEl.disabled = true;  // To prevent multiple clicks.\n",
              "      quickchartButtonEl.classList.add('colab-df-spinner');\n",
              "      try {\n",
              "        const charts = await google.colab.kernel.invokeFunction(\n",
              "            'suggestCharts', [key], {});\n",
              "      } catch (error) {\n",
              "        console.error('Error during call to suggestCharts:', error);\n",
              "      }\n",
              "      quickchartButtonEl.classList.remove('colab-df-spinner');\n",
              "      quickchartButtonEl.classList.add('colab-df-quickchart-complete');\n",
              "    }\n",
              "    (() => {\n",
              "      let quickchartButtonEl =\n",
              "        document.querySelector('#df-0b0b47eb-0db2-4e4a-98c0-5aaec3949eb0 button');\n",
              "      quickchartButtonEl.style.display =\n",
              "        google.colab.kernel.accessAllowed ? 'block' : 'none';\n",
              "    })();\n",
              "  </script>\n",
              "</div>\n",
              "    </div>\n",
              "  </div>\n"
            ]
          },
          "metadata": {},
          "execution_count": 211
        }
      ]
    },
    {
      "cell_type": "code",
      "source": [
        "rp_ml.to_excel('rp_ml.xlsx', index=False)"
      ],
      "metadata": {
        "id": "fckNVi5cDBKO"
      },
      "execution_count": null,
      "outputs": []
    },
    {
      "cell_type": "markdown",
      "source": [
        "# 3.- DIVISION DE DATOS PARA ENTRENAMIENTO Y PRUEBAS"
      ],
      "metadata": {
        "id": "xLrpj0o1B1gu"
      }
    },
    {
      "cell_type": "code",
      "source": [
        "rp_ml=pd.read_excel(\"/content/rp_ml.xlsx\")\n",
        "rp_ml"
      ],
      "metadata": {
        "colab": {
          "base_uri": "https://localhost:8080/",
          "height": 444
        },
        "id": "Bf3AoG_jDx7E",
        "outputId": "7c44b8a3-e2ca-4171-eff1-b881cd766f08"
      },
      "execution_count": 3,
      "outputs": [
        {
          "output_type": "execute_result",
          "data": {
            "text/plain": [
              "       MES  LINEA_RENOVADO  PLAZO_RENOVADO  FLAG_VENTA  NR_ENTIDADES_TOTAL_T2  \\\n",
              "0        6            3770              12           0                      1   \n",
              "1        6            1300               6           0                      1   \n",
              "2        6            7800              36           0                      5   \n",
              "3        6            6630              12           0                      1   \n",
              "4        6           15497              36           1                      1   \n",
              "...    ...             ...             ...         ...                    ...   \n",
              "87533    8           32500              36           0                      1   \n",
              "87534    7           19500              18           0                      3   \n",
              "87535    6           20800              24           0                      2   \n",
              "87536    8           22816              36           0                      1   \n",
              "87537    8           13845              36           0                      2   \n",
              "\n",
              "       DIFF_NRO_ENTIDA_TOTALES_T2_T12  Ahorro_Sldo_Bco_T1  \\\n",
              "0                                  -1                1850   \n",
              "1                                   0                2093   \n",
              "2                                  -2               16208   \n",
              "3                                   1                1531   \n",
              "4                                   0                 308   \n",
              "...                               ...                 ...   \n",
              "87533                               0                3110   \n",
              "87534                              -1                1705   \n",
              "87535                               0                 579   \n",
              "87536                               0                  36   \n",
              "87537                              -1                   2   \n",
              "\n",
              "       PConsumo_Sldo_Bco_T1  SDO_BCO_tot_sm_pasivo_Bco_6M  \\\n",
              "0                       457                   3754.333333   \n",
              "1                     11200                   1581.333333   \n",
              "2                      4778                  10241.000000   \n",
              "3                         0                   5797.333333   \n",
              "4                      1935                  16755.333330   \n",
              "...                     ...                           ...   \n",
              "87533                 35820                   6914.000000   \n",
              "87534                 11880                   5740.333333   \n",
              "87535                 12688                   1717.166666   \n",
              "87536                 33950                    291.750000   \n",
              "87537                  3698                      1.500000   \n",
              "\n",
              "       FLAG_LIMA_PROVINCIA  ...  USO_LINEA_TOTAL_TC_T2_ls  \\\n",
              "0                        1  ...                  0.000000   \n",
              "1                        1  ...                  0.000000   \n",
              "2                        1  ...                  0.429507   \n",
              "3                        0  ...                  0.000000   \n",
              "4                        0  ...                  0.116347   \n",
              "...                    ...  ...                       ...   \n",
              "87533                    1  ...                  0.225158   \n",
              "87534                    1  ...                  0.133990   \n",
              "87535                    1  ...                  0.116347   \n",
              "87536                    0  ...                  0.015731   \n",
              "87537                    1  ...                  0.116347   \n",
              "\n",
              "       USO_TRIM_LINEA_BBVA_ls  SDO_CONSUMO_T2_ls  ANTIGUEDAD_MES_ls  \\\n",
              "0                    0.000000             271.12                 23   \n",
              "1                    0.000000           11200.00                 56   \n",
              "2                    0.172813           20156.45                 20   \n",
              "3                    0.000000           20485.14                166   \n",
              "4                    0.041995            1682.83                 55   \n",
              "...                       ...                ...                ...   \n",
              "87533                0.172813           20450.26                 43   \n",
              "87534                0.096868           22128.11                203   \n",
              "87535                0.041995               0.00                149   \n",
              "87536                0.084942           16716.47                 33   \n",
              "87537                0.041995            2018.52                161   \n",
              "\n",
              "       SUELDO_ESTIMADO_ls  RESENCIA_OFERTA_PLD_RENOVADO_ls  EDAD_ls  SEXO_ls  \\\n",
              "0                3531.000                        21.000000       25        1   \n",
              "1                1322.000                         9.000000       33        1   \n",
              "2                4234.000                        14.704464       26        1   \n",
              "3                6647.000                        20.000000       51        1   \n",
              "4                2094.000                        11.000000       35        1   \n",
              "...                   ...                              ...      ...      ...   \n",
              "87533            3277.000                        15.000000       25        1   \n",
              "87534            9804.000                        14.704464       48        1   \n",
              "87535           10722.265                        14.704464       35        0   \n",
              "87536            1500.000                        14.704464       40        1   \n",
              "87537            2104.000                        21.000000       38        1   \n",
              "\n",
              "       EST_CIVIL_ls  REGION_ls  \n",
              "0                 2          6  \n",
              "1                 2          4  \n",
              "2                 2          5  \n",
              "3                 2          9  \n",
              "4                 0          9  \n",
              "...             ...        ...  \n",
              "87533             2          6  \n",
              "87534             0          6  \n",
              "87535             0          5  \n",
              "87536             2         12  \n",
              "87537             2          4  \n",
              "\n",
              "[87538 rows x 21 columns]"
            ],
            "text/html": [
              "\n",
              "  <div id=\"df-7f75b8fc-6cff-4198-9980-e5604d9c9b9e\" class=\"colab-df-container\">\n",
              "    <div>\n",
              "<style scoped>\n",
              "    .dataframe tbody tr th:only-of-type {\n",
              "        vertical-align: middle;\n",
              "    }\n",
              "\n",
              "    .dataframe tbody tr th {\n",
              "        vertical-align: top;\n",
              "    }\n",
              "\n",
              "    .dataframe thead th {\n",
              "        text-align: right;\n",
              "    }\n",
              "</style>\n",
              "<table border=\"1\" class=\"dataframe\">\n",
              "  <thead>\n",
              "    <tr style=\"text-align: right;\">\n",
              "      <th></th>\n",
              "      <th>MES</th>\n",
              "      <th>LINEA_RENOVADO</th>\n",
              "      <th>PLAZO_RENOVADO</th>\n",
              "      <th>FLAG_VENTA</th>\n",
              "      <th>NR_ENTIDADES_TOTAL_T2</th>\n",
              "      <th>DIFF_NRO_ENTIDA_TOTALES_T2_T12</th>\n",
              "      <th>Ahorro_Sldo_Bco_T1</th>\n",
              "      <th>PConsumo_Sldo_Bco_T1</th>\n",
              "      <th>SDO_BCO_tot_sm_pasivo_Bco_6M</th>\n",
              "      <th>FLAG_LIMA_PROVINCIA</th>\n",
              "      <th>...</th>\n",
              "      <th>USO_LINEA_TOTAL_TC_T2_ls</th>\n",
              "      <th>USO_TRIM_LINEA_BBVA_ls</th>\n",
              "      <th>SDO_CONSUMO_T2_ls</th>\n",
              "      <th>ANTIGUEDAD_MES_ls</th>\n",
              "      <th>SUELDO_ESTIMADO_ls</th>\n",
              "      <th>RESENCIA_OFERTA_PLD_RENOVADO_ls</th>\n",
              "      <th>EDAD_ls</th>\n",
              "      <th>SEXO_ls</th>\n",
              "      <th>EST_CIVIL_ls</th>\n",
              "      <th>REGION_ls</th>\n",
              "    </tr>\n",
              "  </thead>\n",
              "  <tbody>\n",
              "    <tr>\n",
              "      <th>0</th>\n",
              "      <td>6</td>\n",
              "      <td>3770</td>\n",
              "      <td>12</td>\n",
              "      <td>0</td>\n",
              "      <td>1</td>\n",
              "      <td>-1</td>\n",
              "      <td>1850</td>\n",
              "      <td>457</td>\n",
              "      <td>3754.333333</td>\n",
              "      <td>1</td>\n",
              "      <td>...</td>\n",
              "      <td>0.000000</td>\n",
              "      <td>0.000000</td>\n",
              "      <td>271.12</td>\n",
              "      <td>23</td>\n",
              "      <td>3531.000</td>\n",
              "      <td>21.000000</td>\n",
              "      <td>25</td>\n",
              "      <td>1</td>\n",
              "      <td>2</td>\n",
              "      <td>6</td>\n",
              "    </tr>\n",
              "    <tr>\n",
              "      <th>1</th>\n",
              "      <td>6</td>\n",
              "      <td>1300</td>\n",
              "      <td>6</td>\n",
              "      <td>0</td>\n",
              "      <td>1</td>\n",
              "      <td>0</td>\n",
              "      <td>2093</td>\n",
              "      <td>11200</td>\n",
              "      <td>1581.333333</td>\n",
              "      <td>1</td>\n",
              "      <td>...</td>\n",
              "      <td>0.000000</td>\n",
              "      <td>0.000000</td>\n",
              "      <td>11200.00</td>\n",
              "      <td>56</td>\n",
              "      <td>1322.000</td>\n",
              "      <td>9.000000</td>\n",
              "      <td>33</td>\n",
              "      <td>1</td>\n",
              "      <td>2</td>\n",
              "      <td>4</td>\n",
              "    </tr>\n",
              "    <tr>\n",
              "      <th>2</th>\n",
              "      <td>6</td>\n",
              "      <td>7800</td>\n",
              "      <td>36</td>\n",
              "      <td>0</td>\n",
              "      <td>5</td>\n",
              "      <td>-2</td>\n",
              "      <td>16208</td>\n",
              "      <td>4778</td>\n",
              "      <td>10241.000000</td>\n",
              "      <td>1</td>\n",
              "      <td>...</td>\n",
              "      <td>0.429507</td>\n",
              "      <td>0.172813</td>\n",
              "      <td>20156.45</td>\n",
              "      <td>20</td>\n",
              "      <td>4234.000</td>\n",
              "      <td>14.704464</td>\n",
              "      <td>26</td>\n",
              "      <td>1</td>\n",
              "      <td>2</td>\n",
              "      <td>5</td>\n",
              "    </tr>\n",
              "    <tr>\n",
              "      <th>3</th>\n",
              "      <td>6</td>\n",
              "      <td>6630</td>\n",
              "      <td>12</td>\n",
              "      <td>0</td>\n",
              "      <td>1</td>\n",
              "      <td>1</td>\n",
              "      <td>1531</td>\n",
              "      <td>0</td>\n",
              "      <td>5797.333333</td>\n",
              "      <td>0</td>\n",
              "      <td>...</td>\n",
              "      <td>0.000000</td>\n",
              "      <td>0.000000</td>\n",
              "      <td>20485.14</td>\n",
              "      <td>166</td>\n",
              "      <td>6647.000</td>\n",
              "      <td>20.000000</td>\n",
              "      <td>51</td>\n",
              "      <td>1</td>\n",
              "      <td>2</td>\n",
              "      <td>9</td>\n",
              "    </tr>\n",
              "    <tr>\n",
              "      <th>4</th>\n",
              "      <td>6</td>\n",
              "      <td>15497</td>\n",
              "      <td>36</td>\n",
              "      <td>1</td>\n",
              "      <td>1</td>\n",
              "      <td>0</td>\n",
              "      <td>308</td>\n",
              "      <td>1935</td>\n",
              "      <td>16755.333330</td>\n",
              "      <td>0</td>\n",
              "      <td>...</td>\n",
              "      <td>0.116347</td>\n",
              "      <td>0.041995</td>\n",
              "      <td>1682.83</td>\n",
              "      <td>55</td>\n",
              "      <td>2094.000</td>\n",
              "      <td>11.000000</td>\n",
              "      <td>35</td>\n",
              "      <td>1</td>\n",
              "      <td>0</td>\n",
              "      <td>9</td>\n",
              "    </tr>\n",
              "    <tr>\n",
              "      <th>...</th>\n",
              "      <td>...</td>\n",
              "      <td>...</td>\n",
              "      <td>...</td>\n",
              "      <td>...</td>\n",
              "      <td>...</td>\n",
              "      <td>...</td>\n",
              "      <td>...</td>\n",
              "      <td>...</td>\n",
              "      <td>...</td>\n",
              "      <td>...</td>\n",
              "      <td>...</td>\n",
              "      <td>...</td>\n",
              "      <td>...</td>\n",
              "      <td>...</td>\n",
              "      <td>...</td>\n",
              "      <td>...</td>\n",
              "      <td>...</td>\n",
              "      <td>...</td>\n",
              "      <td>...</td>\n",
              "      <td>...</td>\n",
              "      <td>...</td>\n",
              "    </tr>\n",
              "    <tr>\n",
              "      <th>87533</th>\n",
              "      <td>8</td>\n",
              "      <td>32500</td>\n",
              "      <td>36</td>\n",
              "      <td>0</td>\n",
              "      <td>1</td>\n",
              "      <td>0</td>\n",
              "      <td>3110</td>\n",
              "      <td>35820</td>\n",
              "      <td>6914.000000</td>\n",
              "      <td>1</td>\n",
              "      <td>...</td>\n",
              "      <td>0.225158</td>\n",
              "      <td>0.172813</td>\n",
              "      <td>20450.26</td>\n",
              "      <td>43</td>\n",
              "      <td>3277.000</td>\n",
              "      <td>15.000000</td>\n",
              "      <td>25</td>\n",
              "      <td>1</td>\n",
              "      <td>2</td>\n",
              "      <td>6</td>\n",
              "    </tr>\n",
              "    <tr>\n",
              "      <th>87534</th>\n",
              "      <td>7</td>\n",
              "      <td>19500</td>\n",
              "      <td>18</td>\n",
              "      <td>0</td>\n",
              "      <td>3</td>\n",
              "      <td>-1</td>\n",
              "      <td>1705</td>\n",
              "      <td>11880</td>\n",
              "      <td>5740.333333</td>\n",
              "      <td>1</td>\n",
              "      <td>...</td>\n",
              "      <td>0.133990</td>\n",
              "      <td>0.096868</td>\n",
              "      <td>22128.11</td>\n",
              "      <td>203</td>\n",
              "      <td>9804.000</td>\n",
              "      <td>14.704464</td>\n",
              "      <td>48</td>\n",
              "      <td>1</td>\n",
              "      <td>0</td>\n",
              "      <td>6</td>\n",
              "    </tr>\n",
              "    <tr>\n",
              "      <th>87535</th>\n",
              "      <td>6</td>\n",
              "      <td>20800</td>\n",
              "      <td>24</td>\n",
              "      <td>0</td>\n",
              "      <td>2</td>\n",
              "      <td>0</td>\n",
              "      <td>579</td>\n",
              "      <td>12688</td>\n",
              "      <td>1717.166666</td>\n",
              "      <td>1</td>\n",
              "      <td>...</td>\n",
              "      <td>0.116347</td>\n",
              "      <td>0.041995</td>\n",
              "      <td>0.00</td>\n",
              "      <td>149</td>\n",
              "      <td>10722.265</td>\n",
              "      <td>14.704464</td>\n",
              "      <td>35</td>\n",
              "      <td>0</td>\n",
              "      <td>0</td>\n",
              "      <td>5</td>\n",
              "    </tr>\n",
              "    <tr>\n",
              "      <th>87536</th>\n",
              "      <td>8</td>\n",
              "      <td>22816</td>\n",
              "      <td>36</td>\n",
              "      <td>0</td>\n",
              "      <td>1</td>\n",
              "      <td>0</td>\n",
              "      <td>36</td>\n",
              "      <td>33950</td>\n",
              "      <td>291.750000</td>\n",
              "      <td>0</td>\n",
              "      <td>...</td>\n",
              "      <td>0.015731</td>\n",
              "      <td>0.084942</td>\n",
              "      <td>16716.47</td>\n",
              "      <td>33</td>\n",
              "      <td>1500.000</td>\n",
              "      <td>14.704464</td>\n",
              "      <td>40</td>\n",
              "      <td>1</td>\n",
              "      <td>2</td>\n",
              "      <td>12</td>\n",
              "    </tr>\n",
              "    <tr>\n",
              "      <th>87537</th>\n",
              "      <td>8</td>\n",
              "      <td>13845</td>\n",
              "      <td>36</td>\n",
              "      <td>0</td>\n",
              "      <td>2</td>\n",
              "      <td>-1</td>\n",
              "      <td>2</td>\n",
              "      <td>3698</td>\n",
              "      <td>1.500000</td>\n",
              "      <td>1</td>\n",
              "      <td>...</td>\n",
              "      <td>0.116347</td>\n",
              "      <td>0.041995</td>\n",
              "      <td>2018.52</td>\n",
              "      <td>161</td>\n",
              "      <td>2104.000</td>\n",
              "      <td>21.000000</td>\n",
              "      <td>38</td>\n",
              "      <td>1</td>\n",
              "      <td>2</td>\n",
              "      <td>4</td>\n",
              "    </tr>\n",
              "  </tbody>\n",
              "</table>\n",
              "<p>87538 rows × 21 columns</p>\n",
              "</div>\n",
              "    <div class=\"colab-df-buttons\">\n",
              "\n",
              "  <div class=\"colab-df-container\">\n",
              "    <button class=\"colab-df-convert\" onclick=\"convertToInteractive('df-7f75b8fc-6cff-4198-9980-e5604d9c9b9e')\"\n",
              "            title=\"Convert this dataframe to an interactive table.\"\n",
              "            style=\"display:none;\">\n",
              "\n",
              "  <svg xmlns=\"http://www.w3.org/2000/svg\" height=\"24px\" viewBox=\"0 -960 960 960\">\n",
              "    <path d=\"M120-120v-720h720v720H120Zm60-500h600v-160H180v160Zm220 220h160v-160H400v160Zm0 220h160v-160H400v160ZM180-400h160v-160H180v160Zm440 0h160v-160H620v160ZM180-180h160v-160H180v160Zm440 0h160v-160H620v160Z\"/>\n",
              "  </svg>\n",
              "    </button>\n",
              "\n",
              "  <style>\n",
              "    .colab-df-container {\n",
              "      display:flex;\n",
              "      gap: 12px;\n",
              "    }\n",
              "\n",
              "    .colab-df-convert {\n",
              "      background-color: #E8F0FE;\n",
              "      border: none;\n",
              "      border-radius: 50%;\n",
              "      cursor: pointer;\n",
              "      display: none;\n",
              "      fill: #1967D2;\n",
              "      height: 32px;\n",
              "      padding: 0 0 0 0;\n",
              "      width: 32px;\n",
              "    }\n",
              "\n",
              "    .colab-df-convert:hover {\n",
              "      background-color: #E2EBFA;\n",
              "      box-shadow: 0px 1px 2px rgba(60, 64, 67, 0.3), 0px 1px 3px 1px rgba(60, 64, 67, 0.15);\n",
              "      fill: #174EA6;\n",
              "    }\n",
              "\n",
              "    .colab-df-buttons div {\n",
              "      margin-bottom: 4px;\n",
              "    }\n",
              "\n",
              "    [theme=dark] .colab-df-convert {\n",
              "      background-color: #3B4455;\n",
              "      fill: #D2E3FC;\n",
              "    }\n",
              "\n",
              "    [theme=dark] .colab-df-convert:hover {\n",
              "      background-color: #434B5C;\n",
              "      box-shadow: 0px 1px 3px 1px rgba(0, 0, 0, 0.15);\n",
              "      filter: drop-shadow(0px 1px 2px rgba(0, 0, 0, 0.3));\n",
              "      fill: #FFFFFF;\n",
              "    }\n",
              "  </style>\n",
              "\n",
              "    <script>\n",
              "      const buttonEl =\n",
              "        document.querySelector('#df-7f75b8fc-6cff-4198-9980-e5604d9c9b9e button.colab-df-convert');\n",
              "      buttonEl.style.display =\n",
              "        google.colab.kernel.accessAllowed ? 'block' : 'none';\n",
              "\n",
              "      async function convertToInteractive(key) {\n",
              "        const element = document.querySelector('#df-7f75b8fc-6cff-4198-9980-e5604d9c9b9e');\n",
              "        const dataTable =\n",
              "          await google.colab.kernel.invokeFunction('convertToInteractive',\n",
              "                                                    [key], {});\n",
              "        if (!dataTable) return;\n",
              "\n",
              "        const docLinkHtml = 'Like what you see? Visit the ' +\n",
              "          '<a target=\"_blank\" href=https://colab.research.google.com/notebooks/data_table.ipynb>data table notebook</a>'\n",
              "          + ' to learn more about interactive tables.';\n",
              "        element.innerHTML = '';\n",
              "        dataTable['output_type'] = 'display_data';\n",
              "        await google.colab.output.renderOutput(dataTable, element);\n",
              "        const docLink = document.createElement('div');\n",
              "        docLink.innerHTML = docLinkHtml;\n",
              "        element.appendChild(docLink);\n",
              "      }\n",
              "    </script>\n",
              "  </div>\n",
              "\n",
              "\n",
              "<div id=\"df-9f1a4b94-bee7-4511-afb7-f87a445a8283\">\n",
              "  <button class=\"colab-df-quickchart\" onclick=\"quickchart('df-9f1a4b94-bee7-4511-afb7-f87a445a8283')\"\n",
              "            title=\"Suggest charts\"\n",
              "            style=\"display:none;\">\n",
              "\n",
              "<svg xmlns=\"http://www.w3.org/2000/svg\" height=\"24px\"viewBox=\"0 0 24 24\"\n",
              "     width=\"24px\">\n",
              "    <g>\n",
              "        <path d=\"M19 3H5c-1.1 0-2 .9-2 2v14c0 1.1.9 2 2 2h14c1.1 0 2-.9 2-2V5c0-1.1-.9-2-2-2zM9 17H7v-7h2v7zm4 0h-2V7h2v10zm4 0h-2v-4h2v4z\"/>\n",
              "    </g>\n",
              "</svg>\n",
              "  </button>\n",
              "\n",
              "<style>\n",
              "  .colab-df-quickchart {\n",
              "      --bg-color: #E8F0FE;\n",
              "      --fill-color: #1967D2;\n",
              "      --hover-bg-color: #E2EBFA;\n",
              "      --hover-fill-color: #174EA6;\n",
              "      --disabled-fill-color: #AAA;\n",
              "      --disabled-bg-color: #DDD;\n",
              "  }\n",
              "\n",
              "  [theme=dark] .colab-df-quickchart {\n",
              "      --bg-color: #3B4455;\n",
              "      --fill-color: #D2E3FC;\n",
              "      --hover-bg-color: #434B5C;\n",
              "      --hover-fill-color: #FFFFFF;\n",
              "      --disabled-bg-color: #3B4455;\n",
              "      --disabled-fill-color: #666;\n",
              "  }\n",
              "\n",
              "  .colab-df-quickchart {\n",
              "    background-color: var(--bg-color);\n",
              "    border: none;\n",
              "    border-radius: 50%;\n",
              "    cursor: pointer;\n",
              "    display: none;\n",
              "    fill: var(--fill-color);\n",
              "    height: 32px;\n",
              "    padding: 0;\n",
              "    width: 32px;\n",
              "  }\n",
              "\n",
              "  .colab-df-quickchart:hover {\n",
              "    background-color: var(--hover-bg-color);\n",
              "    box-shadow: 0 1px 2px rgba(60, 64, 67, 0.3), 0 1px 3px 1px rgba(60, 64, 67, 0.15);\n",
              "    fill: var(--button-hover-fill-color);\n",
              "  }\n",
              "\n",
              "  .colab-df-quickchart-complete:disabled,\n",
              "  .colab-df-quickchart-complete:disabled:hover {\n",
              "    background-color: var(--disabled-bg-color);\n",
              "    fill: var(--disabled-fill-color);\n",
              "    box-shadow: none;\n",
              "  }\n",
              "\n",
              "  .colab-df-spinner {\n",
              "    border: 2px solid var(--fill-color);\n",
              "    border-color: transparent;\n",
              "    border-bottom-color: var(--fill-color);\n",
              "    animation:\n",
              "      spin 1s steps(1) infinite;\n",
              "  }\n",
              "\n",
              "  @keyframes spin {\n",
              "    0% {\n",
              "      border-color: transparent;\n",
              "      border-bottom-color: var(--fill-color);\n",
              "      border-left-color: var(--fill-color);\n",
              "    }\n",
              "    20% {\n",
              "      border-color: transparent;\n",
              "      border-left-color: var(--fill-color);\n",
              "      border-top-color: var(--fill-color);\n",
              "    }\n",
              "    30% {\n",
              "      border-color: transparent;\n",
              "      border-left-color: var(--fill-color);\n",
              "      border-top-color: var(--fill-color);\n",
              "      border-right-color: var(--fill-color);\n",
              "    }\n",
              "    40% {\n",
              "      border-color: transparent;\n",
              "      border-right-color: var(--fill-color);\n",
              "      border-top-color: var(--fill-color);\n",
              "    }\n",
              "    60% {\n",
              "      border-color: transparent;\n",
              "      border-right-color: var(--fill-color);\n",
              "    }\n",
              "    80% {\n",
              "      border-color: transparent;\n",
              "      border-right-color: var(--fill-color);\n",
              "      border-bottom-color: var(--fill-color);\n",
              "    }\n",
              "    90% {\n",
              "      border-color: transparent;\n",
              "      border-bottom-color: var(--fill-color);\n",
              "    }\n",
              "  }\n",
              "</style>\n",
              "\n",
              "  <script>\n",
              "    async function quickchart(key) {\n",
              "      const quickchartButtonEl =\n",
              "        document.querySelector('#' + key + ' button');\n",
              "      quickchartButtonEl.disabled = true;  // To prevent multiple clicks.\n",
              "      quickchartButtonEl.classList.add('colab-df-spinner');\n",
              "      try {\n",
              "        const charts = await google.colab.kernel.invokeFunction(\n",
              "            'suggestCharts', [key], {});\n",
              "      } catch (error) {\n",
              "        console.error('Error during call to suggestCharts:', error);\n",
              "      }\n",
              "      quickchartButtonEl.classList.remove('colab-df-spinner');\n",
              "      quickchartButtonEl.classList.add('colab-df-quickchart-complete');\n",
              "    }\n",
              "    (() => {\n",
              "      let quickchartButtonEl =\n",
              "        document.querySelector('#df-9f1a4b94-bee7-4511-afb7-f87a445a8283 button');\n",
              "      quickchartButtonEl.style.display =\n",
              "        google.colab.kernel.accessAllowed ? 'block' : 'none';\n",
              "    })();\n",
              "  </script>\n",
              "</div>\n",
              "    </div>\n",
              "  </div>\n"
            ]
          },
          "metadata": {},
          "execution_count": 3
        }
      ]
    },
    {
      "cell_type": "code",
      "source": [
        "X = rp_ml.drop(\"FLAG_VENTA\", axis=1)\n",
        "y = rp_ml[\"FLAG_VENTA\"]"
      ],
      "metadata": {
        "id": "WcK0Lg9KK8qC"
      },
      "execution_count": 5,
      "outputs": []
    },
    {
      "cell_type": "code",
      "source": [
        "rp_ml[\"FLAG_VENTA\"].value_counts()"
      ],
      "metadata": {
        "colab": {
          "base_uri": "https://localhost:8080/"
        },
        "id": "zapDZIwTDAgZ",
        "outputId": "2ade9020-b5eb-43b2-85c2-b9fd8af8df31"
      },
      "execution_count": 6,
      "outputs": [
        {
          "output_type": "execute_result",
          "data": {
            "text/plain": [
              "0    84048\n",
              "1     3490\n",
              "Name: FLAG_VENTA, dtype: int64"
            ]
          },
          "metadata": {},
          "execution_count": 6
        }
      ]
    },
    {
      "cell_type": "code",
      "source": [
        "# Nuestros datos estan desequilibrados, aplicamos la tecnica de muestreo \"oversampling\"\n",
        "from imblearn.over_sampling import RandomOverSampler\n",
        "\n",
        "oversample = RandomOverSampler(sampling_strategy='minority')\n",
        "X_over, y_over = oversample.fit_resample(X, y)\n",
        "y_over.value_counts()"
      ],
      "metadata": {
        "colab": {
          "base_uri": "https://localhost:8080/"
        },
        "id": "bjh-hD1wB4EK",
        "outputId": "106f3f73-fd2b-40a1-c786-84138d2ca277"
      },
      "execution_count": 7,
      "outputs": [
        {
          "output_type": "execute_result",
          "data": {
            "text/plain": [
              "0    84048\n",
              "1    84048\n",
              "Name: FLAG_VENTA, dtype: int64"
            ]
          },
          "metadata": {},
          "execution_count": 7
        }
      ]
    },
    {
      "cell_type": "code",
      "source": [
        "# Divide el conjunto de datos en conjuntos de entrenamiento y prueba\n",
        "X_train, X_test, y_train, y_test = train_test_split(X_over, y_over, test_size=0.2, random_state=42)"
      ],
      "metadata": {
        "id": "U8QzZa5aB3jB"
      },
      "execution_count": 8,
      "outputs": []
    },
    {
      "cell_type": "markdown",
      "source": [
        "# 4.- PREPARAR, ENTRENAR Y EVALUAR EL MODELO"
      ],
      "metadata": {
        "id": "69k9C5R5B5Ch"
      }
    },
    {
      "cell_type": "code",
      "source": [
        "# Importamos el clsificador\n",
        "gbc = GradientBoostingClassifier(random_state=42)\n",
        "\n",
        "# Entrena el modelo en el conjunto de entrenamiento\n",
        "gbc.fit(X_train, y_train)\n",
        "\n",
        "print(\"accuracy on training set: \", gbc.score(X_train, y_train))\n",
        "print(\"accuracy on test set: \", gbc.score(X_test, y_test))"
      ],
      "metadata": {
        "colab": {
          "base_uri": "https://localhost:8080/"
        },
        "id": "8YeEEsQIDi9t",
        "outputId": "6ed02045-3804-4e96-f2a4-8650ed2f7ddb"
      },
      "execution_count": 14,
      "outputs": [
        {
          "output_type": "stream",
          "name": "stdout",
          "text": [
            "accuracy on training set:  0.6710119277789345\n",
            "accuracy on test set:  0.6665675193337299\n"
          ]
        }
      ]
    },
    {
      "cell_type": "code",
      "source": [
        "confusion_matrix(y_test, gbc.predict(X_test))"
      ],
      "metadata": {
        "colab": {
          "base_uri": "https://localhost:8080/"
        },
        "id": "PSi-T1JB3VHt",
        "outputId": "38c3ba9d-ab0b-4dac-faf1-bc04284df4d3"
      },
      "execution_count": 16,
      "outputs": [
        {
          "output_type": "execute_result",
          "data": {
            "text/plain": [
              "array([[10869,  5810],\n",
              "       [ 5400, 11541]])"
            ]
          },
          "metadata": {},
          "execution_count": 16
        }
      ]
    },
    {
      "cell_type": "code",
      "source": [
        "from sklearn import metrics\n",
        "\n",
        "print(\"Accuracy: \", metrics.accuracy_score(y_test, gbc.predict(X_test)))\n",
        "print(\"Sensitivity_recall: \", metrics.recall_score(y_test, gbc.predict(X_test)))\n",
        "print(\"Precision: \", metrics.precision_score(y_test, gbc.predict(X_test)))\n",
        "print(\"F1_score: \", metrics.f1_score(y_test, gbc.predict(X_test)))"
      ],
      "metadata": {
        "id": "JjBtH5YfF8Wj",
        "colab": {
          "base_uri": "https://localhost:8080/"
        },
        "outputId": "88c1f146-9d41-4014-da50-acb1be1be3cd"
      },
      "execution_count": 17,
      "outputs": [
        {
          "output_type": "stream",
          "name": "stdout",
          "text": [
            "Accuracy:  0.6665675193337299\n",
            "Sensitivity_recall:  0.6812466796529131\n",
            "Precision:  0.6651489827675638\n",
            "F1_score:  0.6731015980403593\n"
          ]
        }
      ]
    }
  ]
}
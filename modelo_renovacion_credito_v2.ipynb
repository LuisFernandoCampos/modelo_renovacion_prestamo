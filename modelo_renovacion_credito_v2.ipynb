{
  "nbformat": 4,
  "nbformat_minor": 0,
  "metadata": {
    "colab": {
      "provenance": [],
      "collapsed_sections": [
        "D_VjXX4d3zOp",
        "G41qhNxBm7f5",
        "KAZFpxvRnIPW"
      ],
      "mount_file_id": "1sVuIbXaz_vrRUgekrcMrT1H1WpFGDUGH",
      "authorship_tag": "ABX9TyP4fPQm5A1L3+s4sKKpubyL",
      "include_colab_link": true
    },
    "kernelspec": {
      "name": "python3",
      "display_name": "Python 3"
    },
    "language_info": {
      "name": "python"
    }
  },
  "cells": [
    {
      "cell_type": "markdown",
      "metadata": {
        "id": "view-in-github",
        "colab_type": "text"
      },
      "source": [
        "<a href=\"https://colab.research.google.com/github/LuisFernandoCampos/modelo_renovacion_prestamo/blob/main/modelo_renovacion_credito_v2.ipynb\" target=\"_parent\"><img src=\"https://colab.research.google.com/assets/colab-badge.svg\" alt=\"Open In Colab\"/></a>"
      ]
    },
    {
      "cell_type": "code",
      "source": [
        "import pandas as pd\n",
        "import seaborn as sns\n",
        "import matplotlib.pyplot as plt\n",
        "from sklearn.preprocessing import LabelEncoder\n",
        "from sklearn.ensemble import RandomForestClassifier\n",
        "from sklearn.model_selection import train_test_split\n",
        "from sklearn.ensemble import GradientBoostingClassifier\n",
        "from sklearn.ensemble import GradientBoostingRegressor\n",
        "from sklearn import metrics\n",
        "from sklearn.metrics import confusion_matrix\n",
        "\n",
        "from xgboost import XGBClassifier"
      ],
      "metadata": {
        "id": "Rl0Ok-EgQ_U-"
      },
      "execution_count": 354,
      "outputs": []
    },
    {
      "cell_type": "code",
      "source": [
        "rp=pd.read_csv(\"/content/renovacion_prestamo.csv\", sep=\";\")"
      ],
      "metadata": {
        "id": "0A-XGbGvQ_RZ"
      },
      "execution_count": 303,
      "outputs": []
    },
    {
      "cell_type": "markdown",
      "source": [
        "# 1.- ANALISIS EXPLORATORIO DE DATOS"
      ],
      "metadata": {
        "id": "D_VjXX4d3zOp"
      }
    },
    {
      "cell_type": "code",
      "source": [
        "rp.head(2)"
      ],
      "metadata": {
        "colab": {
          "base_uri": "https://localhost:8080/",
          "height": 0
        },
        "id": "Fv2hXaYPQ_Na",
        "outputId": "3b1262c7-973a-43be-ade7-a9b5be2690fc"
      },
      "execution_count": 304,
      "outputs": [
        {
          "output_type": "execute_result",
          "data": {
            "text/plain": [
              "      MES  CLIENTE  LINEA_RENOVADO  PLAZO_RENOVADO  FLAG_VENTA  \\\n",
              "0  201506        1            3770              12           0   \n",
              "1  201506        2            1300               6           0   \n",
              "\n",
              "   USO_LINEA_TOTAL_TC_T2  USO_TRIM_LINEA_BBVA  NR_ENTIDADES_TOTAL_T2  \\\n",
              "0                    0.0                  0.0                      1   \n",
              "1                    0.0                  0.0                      1   \n",
              "\n",
              "   DIFF_NRO_ENTIDA_TOTALES_T2_T12  SDO_CONSUMO_T2  ...  PConsumo_Sldo_Bco_T1  \\\n",
              "0                              -1          271.12  ...                   457   \n",
              "1                               0        11200.00  ...                 11200   \n",
              "\n",
              "   SDO_BCO_tot_sm_pasivo_Bco_6M  EDAD  SEXO  EST_CIVIL ANTIGUEDAD_MES  \\\n",
              "0                   3754.333333  25.0     M          S           23.0   \n",
              "1                   1581.333333  33.0     M          S           56.0   \n",
              "\n",
              "       REGION  FLAG_LIMA_PROVINCIA SUELDO_ESTIMADO  \\\n",
              "0  LIMA NORTE                    1          3531.0   \n",
              "1   LIMA ESTE                    1          1322.0   \n",
              "\n",
              "   CUBRIR_DEUDA_CONSUMO_SF_RENOVA_PLD  \n",
              "0                            0.071915  \n",
              "1                            8.615380  \n",
              "\n",
              "[2 rows x 22 columns]"
            ],
            "text/html": [
              "\n",
              "  <div id=\"df-44ef085d-bb40-4fce-9e27-48d93f17384b\" class=\"colab-df-container\">\n",
              "    <div>\n",
              "<style scoped>\n",
              "    .dataframe tbody tr th:only-of-type {\n",
              "        vertical-align: middle;\n",
              "    }\n",
              "\n",
              "    .dataframe tbody tr th {\n",
              "        vertical-align: top;\n",
              "    }\n",
              "\n",
              "    .dataframe thead th {\n",
              "        text-align: right;\n",
              "    }\n",
              "</style>\n",
              "<table border=\"1\" class=\"dataframe\">\n",
              "  <thead>\n",
              "    <tr style=\"text-align: right;\">\n",
              "      <th></th>\n",
              "      <th>MES</th>\n",
              "      <th>CLIENTE</th>\n",
              "      <th>LINEA_RENOVADO</th>\n",
              "      <th>PLAZO_RENOVADO</th>\n",
              "      <th>FLAG_VENTA</th>\n",
              "      <th>USO_LINEA_TOTAL_TC_T2</th>\n",
              "      <th>USO_TRIM_LINEA_BBVA</th>\n",
              "      <th>NR_ENTIDADES_TOTAL_T2</th>\n",
              "      <th>DIFF_NRO_ENTIDA_TOTALES_T2_T12</th>\n",
              "      <th>SDO_CONSUMO_T2</th>\n",
              "      <th>...</th>\n",
              "      <th>PConsumo_Sldo_Bco_T1</th>\n",
              "      <th>SDO_BCO_tot_sm_pasivo_Bco_6M</th>\n",
              "      <th>EDAD</th>\n",
              "      <th>SEXO</th>\n",
              "      <th>EST_CIVIL</th>\n",
              "      <th>ANTIGUEDAD_MES</th>\n",
              "      <th>REGION</th>\n",
              "      <th>FLAG_LIMA_PROVINCIA</th>\n",
              "      <th>SUELDO_ESTIMADO</th>\n",
              "      <th>CUBRIR_DEUDA_CONSUMO_SF_RENOVA_PLD</th>\n",
              "    </tr>\n",
              "  </thead>\n",
              "  <tbody>\n",
              "    <tr>\n",
              "      <th>0</th>\n",
              "      <td>201506</td>\n",
              "      <td>1</td>\n",
              "      <td>3770</td>\n",
              "      <td>12</td>\n",
              "      <td>0</td>\n",
              "      <td>0.0</td>\n",
              "      <td>0.0</td>\n",
              "      <td>1</td>\n",
              "      <td>-1</td>\n",
              "      <td>271.12</td>\n",
              "      <td>...</td>\n",
              "      <td>457</td>\n",
              "      <td>3754.333333</td>\n",
              "      <td>25.0</td>\n",
              "      <td>M</td>\n",
              "      <td>S</td>\n",
              "      <td>23.0</td>\n",
              "      <td>LIMA NORTE</td>\n",
              "      <td>1</td>\n",
              "      <td>3531.0</td>\n",
              "      <td>0.071915</td>\n",
              "    </tr>\n",
              "    <tr>\n",
              "      <th>1</th>\n",
              "      <td>201506</td>\n",
              "      <td>2</td>\n",
              "      <td>1300</td>\n",
              "      <td>6</td>\n",
              "      <td>0</td>\n",
              "      <td>0.0</td>\n",
              "      <td>0.0</td>\n",
              "      <td>1</td>\n",
              "      <td>0</td>\n",
              "      <td>11200.00</td>\n",
              "      <td>...</td>\n",
              "      <td>11200</td>\n",
              "      <td>1581.333333</td>\n",
              "      <td>33.0</td>\n",
              "      <td>M</td>\n",
              "      <td>S</td>\n",
              "      <td>56.0</td>\n",
              "      <td>LIMA ESTE</td>\n",
              "      <td>1</td>\n",
              "      <td>1322.0</td>\n",
              "      <td>8.615380</td>\n",
              "    </tr>\n",
              "  </tbody>\n",
              "</table>\n",
              "<p>2 rows × 22 columns</p>\n",
              "</div>\n",
              "    <div class=\"colab-df-buttons\">\n",
              "\n",
              "  <div class=\"colab-df-container\">\n",
              "    <button class=\"colab-df-convert\" onclick=\"convertToInteractive('df-44ef085d-bb40-4fce-9e27-48d93f17384b')\"\n",
              "            title=\"Convert this dataframe to an interactive table.\"\n",
              "            style=\"display:none;\">\n",
              "\n",
              "  <svg xmlns=\"http://www.w3.org/2000/svg\" height=\"24px\" viewBox=\"0 -960 960 960\">\n",
              "    <path d=\"M120-120v-720h720v720H120Zm60-500h600v-160H180v160Zm220 220h160v-160H400v160Zm0 220h160v-160H400v160ZM180-400h160v-160H180v160Zm440 0h160v-160H620v160ZM180-180h160v-160H180v160Zm440 0h160v-160H620v160Z\"/>\n",
              "  </svg>\n",
              "    </button>\n",
              "\n",
              "  <style>\n",
              "    .colab-df-container {\n",
              "      display:flex;\n",
              "      gap: 12px;\n",
              "    }\n",
              "\n",
              "    .colab-df-convert {\n",
              "      background-color: #E8F0FE;\n",
              "      border: none;\n",
              "      border-radius: 50%;\n",
              "      cursor: pointer;\n",
              "      display: none;\n",
              "      fill: #1967D2;\n",
              "      height: 32px;\n",
              "      padding: 0 0 0 0;\n",
              "      width: 32px;\n",
              "    }\n",
              "\n",
              "    .colab-df-convert:hover {\n",
              "      background-color: #E2EBFA;\n",
              "      box-shadow: 0px 1px 2px rgba(60, 64, 67, 0.3), 0px 1px 3px 1px rgba(60, 64, 67, 0.15);\n",
              "      fill: #174EA6;\n",
              "    }\n",
              "\n",
              "    .colab-df-buttons div {\n",
              "      margin-bottom: 4px;\n",
              "    }\n",
              "\n",
              "    [theme=dark] .colab-df-convert {\n",
              "      background-color: #3B4455;\n",
              "      fill: #D2E3FC;\n",
              "    }\n",
              "\n",
              "    [theme=dark] .colab-df-convert:hover {\n",
              "      background-color: #434B5C;\n",
              "      box-shadow: 0px 1px 3px 1px rgba(0, 0, 0, 0.15);\n",
              "      filter: drop-shadow(0px 1px 2px rgba(0, 0, 0, 0.3));\n",
              "      fill: #FFFFFF;\n",
              "    }\n",
              "  </style>\n",
              "\n",
              "    <script>\n",
              "      const buttonEl =\n",
              "        document.querySelector('#df-44ef085d-bb40-4fce-9e27-48d93f17384b button.colab-df-convert');\n",
              "      buttonEl.style.display =\n",
              "        google.colab.kernel.accessAllowed ? 'block' : 'none';\n",
              "\n",
              "      async function convertToInteractive(key) {\n",
              "        const element = document.querySelector('#df-44ef085d-bb40-4fce-9e27-48d93f17384b');\n",
              "        const dataTable =\n",
              "          await google.colab.kernel.invokeFunction('convertToInteractive',\n",
              "                                                    [key], {});\n",
              "        if (!dataTable) return;\n",
              "\n",
              "        const docLinkHtml = 'Like what you see? Visit the ' +\n",
              "          '<a target=\"_blank\" href=https://colab.research.google.com/notebooks/data_table.ipynb>data table notebook</a>'\n",
              "          + ' to learn more about interactive tables.';\n",
              "        element.innerHTML = '';\n",
              "        dataTable['output_type'] = 'display_data';\n",
              "        await google.colab.output.renderOutput(dataTable, element);\n",
              "        const docLink = document.createElement('div');\n",
              "        docLink.innerHTML = docLinkHtml;\n",
              "        element.appendChild(docLink);\n",
              "      }\n",
              "    </script>\n",
              "  </div>\n",
              "\n",
              "\n",
              "<div id=\"df-4a4f6fe9-fa18-4718-9c51-1e11a125cd75\">\n",
              "  <button class=\"colab-df-quickchart\" onclick=\"quickchart('df-4a4f6fe9-fa18-4718-9c51-1e11a125cd75')\"\n",
              "            title=\"Suggest charts\"\n",
              "            style=\"display:none;\">\n",
              "\n",
              "<svg xmlns=\"http://www.w3.org/2000/svg\" height=\"24px\"viewBox=\"0 0 24 24\"\n",
              "     width=\"24px\">\n",
              "    <g>\n",
              "        <path d=\"M19 3H5c-1.1 0-2 .9-2 2v14c0 1.1.9 2 2 2h14c1.1 0 2-.9 2-2V5c0-1.1-.9-2-2-2zM9 17H7v-7h2v7zm4 0h-2V7h2v10zm4 0h-2v-4h2v4z\"/>\n",
              "    </g>\n",
              "</svg>\n",
              "  </button>\n",
              "\n",
              "<style>\n",
              "  .colab-df-quickchart {\n",
              "      --bg-color: #E8F0FE;\n",
              "      --fill-color: #1967D2;\n",
              "      --hover-bg-color: #E2EBFA;\n",
              "      --hover-fill-color: #174EA6;\n",
              "      --disabled-fill-color: #AAA;\n",
              "      --disabled-bg-color: #DDD;\n",
              "  }\n",
              "\n",
              "  [theme=dark] .colab-df-quickchart {\n",
              "      --bg-color: #3B4455;\n",
              "      --fill-color: #D2E3FC;\n",
              "      --hover-bg-color: #434B5C;\n",
              "      --hover-fill-color: #FFFFFF;\n",
              "      --disabled-bg-color: #3B4455;\n",
              "      --disabled-fill-color: #666;\n",
              "  }\n",
              "\n",
              "  .colab-df-quickchart {\n",
              "    background-color: var(--bg-color);\n",
              "    border: none;\n",
              "    border-radius: 50%;\n",
              "    cursor: pointer;\n",
              "    display: none;\n",
              "    fill: var(--fill-color);\n",
              "    height: 32px;\n",
              "    padding: 0;\n",
              "    width: 32px;\n",
              "  }\n",
              "\n",
              "  .colab-df-quickchart:hover {\n",
              "    background-color: var(--hover-bg-color);\n",
              "    box-shadow: 0 1px 2px rgba(60, 64, 67, 0.3), 0 1px 3px 1px rgba(60, 64, 67, 0.15);\n",
              "    fill: var(--button-hover-fill-color);\n",
              "  }\n",
              "\n",
              "  .colab-df-quickchart-complete:disabled,\n",
              "  .colab-df-quickchart-complete:disabled:hover {\n",
              "    background-color: var(--disabled-bg-color);\n",
              "    fill: var(--disabled-fill-color);\n",
              "    box-shadow: none;\n",
              "  }\n",
              "\n",
              "  .colab-df-spinner {\n",
              "    border: 2px solid var(--fill-color);\n",
              "    border-color: transparent;\n",
              "    border-bottom-color: var(--fill-color);\n",
              "    animation:\n",
              "      spin 1s steps(1) infinite;\n",
              "  }\n",
              "\n",
              "  @keyframes spin {\n",
              "    0% {\n",
              "      border-color: transparent;\n",
              "      border-bottom-color: var(--fill-color);\n",
              "      border-left-color: var(--fill-color);\n",
              "    }\n",
              "    20% {\n",
              "      border-color: transparent;\n",
              "      border-left-color: var(--fill-color);\n",
              "      border-top-color: var(--fill-color);\n",
              "    }\n",
              "    30% {\n",
              "      border-color: transparent;\n",
              "      border-left-color: var(--fill-color);\n",
              "      border-top-color: var(--fill-color);\n",
              "      border-right-color: var(--fill-color);\n",
              "    }\n",
              "    40% {\n",
              "      border-color: transparent;\n",
              "      border-right-color: var(--fill-color);\n",
              "      border-top-color: var(--fill-color);\n",
              "    }\n",
              "    60% {\n",
              "      border-color: transparent;\n",
              "      border-right-color: var(--fill-color);\n",
              "    }\n",
              "    80% {\n",
              "      border-color: transparent;\n",
              "      border-right-color: var(--fill-color);\n",
              "      border-bottom-color: var(--fill-color);\n",
              "    }\n",
              "    90% {\n",
              "      border-color: transparent;\n",
              "      border-bottom-color: var(--fill-color);\n",
              "    }\n",
              "  }\n",
              "</style>\n",
              "\n",
              "  <script>\n",
              "    async function quickchart(key) {\n",
              "      const quickchartButtonEl =\n",
              "        document.querySelector('#' + key + ' button');\n",
              "      quickchartButtonEl.disabled = true;  // To prevent multiple clicks.\n",
              "      quickchartButtonEl.classList.add('colab-df-spinner');\n",
              "      try {\n",
              "        const charts = await google.colab.kernel.invokeFunction(\n",
              "            'suggestCharts', [key], {});\n",
              "      } catch (error) {\n",
              "        console.error('Error during call to suggestCharts:', error);\n",
              "      }\n",
              "      quickchartButtonEl.classList.remove('colab-df-spinner');\n",
              "      quickchartButtonEl.classList.add('colab-df-quickchart-complete');\n",
              "    }\n",
              "    (() => {\n",
              "      let quickchartButtonEl =\n",
              "        document.querySelector('#df-4a4f6fe9-fa18-4718-9c51-1e11a125cd75 button');\n",
              "      quickchartButtonEl.style.display =\n",
              "        google.colab.kernel.accessAllowed ? 'block' : 'none';\n",
              "    })();\n",
              "  </script>\n",
              "</div>\n",
              "    </div>\n",
              "  </div>\n"
            ]
          },
          "metadata": {},
          "execution_count": 304
        }
      ]
    },
    {
      "cell_type": "code",
      "source": [
        "rp[\"FLAG_VENTA\"].value_counts()/len(rp)*100"
      ],
      "metadata": {
        "colab": {
          "base_uri": "https://localhost:8080/"
        },
        "id": "aQIvwWj6zRJj",
        "outputId": "ec019f03-789a-46ad-9c79-acf75b0fb991"
      },
      "execution_count": 305,
      "outputs": [
        {
          "output_type": "execute_result",
          "data": {
            "text/plain": [
              "0    96.011695\n",
              "1     3.988305\n",
              "Name: FLAG_VENTA, dtype: float64"
            ]
          },
          "metadata": {},
          "execution_count": 305
        }
      ]
    },
    {
      "cell_type": "code",
      "source": [
        "rp[\"CLIENTE\"].count()"
      ],
      "metadata": {
        "colab": {
          "base_uri": "https://localhost:8080/"
        },
        "id": "ndyodAwVYCm6",
        "outputId": "2596ce6c-d25a-4311-ae70-eb6ba7f09389"
      },
      "execution_count": 306,
      "outputs": [
        {
          "output_type": "execute_result",
          "data": {
            "text/plain": [
              "87556"
            ]
          },
          "metadata": {},
          "execution_count": 306
        }
      ]
    },
    {
      "cell_type": "code",
      "source": [
        "print(\"tamaño: \",rp.shape)"
      ],
      "metadata": {
        "colab": {
          "base_uri": "https://localhost:8080/"
        },
        "id": "f2pNp4DwW1aP",
        "outputId": "fd67804e-206a-4357-bf29-dc7104646a88"
      },
      "execution_count": 307,
      "outputs": [
        {
          "output_type": "stream",
          "name": "stdout",
          "text": [
            "tamaño:  (87556, 22)\n"
          ]
        }
      ]
    },
    {
      "cell_type": "code",
      "source": [
        "rp.info()"
      ],
      "metadata": {
        "colab": {
          "base_uri": "https://localhost:8080/"
        },
        "id": "EQ4733jhW1Va",
        "outputId": "705ffa27-90af-4d97-8065-05844f1e8813"
      },
      "execution_count": 308,
      "outputs": [
        {
          "output_type": "stream",
          "name": "stdout",
          "text": [
            "<class 'pandas.core.frame.DataFrame'>\n",
            "RangeIndex: 87556 entries, 0 to 87555\n",
            "Data columns (total 22 columns):\n",
            " #   Column                              Non-Null Count  Dtype  \n",
            "---  ------                              --------------  -----  \n",
            " 0   MES                                 87556 non-null  int64  \n",
            " 1   CLIENTE                             87556 non-null  int64  \n",
            " 2   LINEA_RENOVADO                      87556 non-null  int64  \n",
            " 3   PLAZO_RENOVADO                      87556 non-null  int64  \n",
            " 4   FLAG_VENTA                          87556 non-null  int64  \n",
            " 5   USO_LINEA_TOTAL_TC_T2               68364 non-null  float64\n",
            " 6   USO_TRIM_LINEA_BBVA                 68364 non-null  float64\n",
            " 7   NR_ENTIDADES_TOTAL_T2               87556 non-null  int64  \n",
            " 8   DIFF_NRO_ENTIDA_TOTALES_T2_T12      87556 non-null  int64  \n",
            " 9   SDO_CONSUMO_T2                      82370 non-null  float64\n",
            " 10  RESENCIA_OFERTA_PLD_RENOVADO        73700 non-null  float64\n",
            " 11  Ahorro_Sldo_Bco_T1                  87556 non-null  int64  \n",
            " 12  PConsumo_Sldo_Bco_T1                87556 non-null  int64  \n",
            " 13  SDO_BCO_tot_sm_pasivo_Bco_6M        87556 non-null  float64\n",
            " 14  EDAD                                87555 non-null  float64\n",
            " 15  SEXO                                87555 non-null  object \n",
            " 16  EST_CIVIL                           87555 non-null  object \n",
            " 17  ANTIGUEDAD_MES                      87555 non-null  float64\n",
            " 18  REGION                              87538 non-null  object \n",
            " 19  FLAG_LIMA_PROVINCIA                 87556 non-null  int64  \n",
            " 20  SUELDO_ESTIMADO                     87519 non-null  float64\n",
            " 21  CUBRIR_DEUDA_CONSUMO_SF_RENOVA_PLD  87556 non-null  float64\n",
            "dtypes: float64(9), int64(10), object(3)\n",
            "memory usage: 14.7+ MB\n"
          ]
        }
      ]
    },
    {
      "cell_type": "code",
      "source": [
        "rp.isna().sum()"
      ],
      "metadata": {
        "colab": {
          "base_uri": "https://localhost:8080/"
        },
        "id": "kFWJk43Hoxkp",
        "outputId": "ab74e1b2-8256-4794-9d80-970f96e8c8d7"
      },
      "execution_count": 309,
      "outputs": [
        {
          "output_type": "execute_result",
          "data": {
            "text/plain": [
              "MES                                       0\n",
              "CLIENTE                                   0\n",
              "LINEA_RENOVADO                            0\n",
              "PLAZO_RENOVADO                            0\n",
              "FLAG_VENTA                                0\n",
              "USO_LINEA_TOTAL_TC_T2                 19192\n",
              "USO_TRIM_LINEA_BBVA                   19192\n",
              "NR_ENTIDADES_TOTAL_T2                     0\n",
              "DIFF_NRO_ENTIDA_TOTALES_T2_T12            0\n",
              "SDO_CONSUMO_T2                         5186\n",
              "RESENCIA_OFERTA_PLD_RENOVADO          13856\n",
              "Ahorro_Sldo_Bco_T1                        0\n",
              "PConsumo_Sldo_Bco_T1                      0\n",
              "SDO_BCO_tot_sm_pasivo_Bco_6M              0\n",
              "EDAD                                      1\n",
              "SEXO                                      1\n",
              "EST_CIVIL                                 1\n",
              "ANTIGUEDAD_MES                            1\n",
              "REGION                                   18\n",
              "FLAG_LIMA_PROVINCIA                       0\n",
              "SUELDO_ESTIMADO                          37\n",
              "CUBRIR_DEUDA_CONSUMO_SF_RENOVA_PLD        0\n",
              "dtype: int64"
            ]
          },
          "metadata": {},
          "execution_count": 309
        }
      ]
    },
    {
      "cell_type": "code",
      "source": [
        "# Filtrar columnas con valores nulos\n",
        "columnas_con_nulos = rp.columns[rp.isna().sum() > 0]\n",
        "p50=lambda x: x.quantile(0.50)\n",
        "p99=lambda x: x.quantile(0.99)\n",
        "p95=lambda x: x.quantile(0.95)\n",
        "coeficiente_variabilidad= (rp[columnas_con_nulos].std() / rp[columnas_con_nulos].mean())*100"
      ],
      "metadata": {
        "colab": {
          "base_uri": "https://localhost:8080/"
        },
        "id": "nh2NnYcQoxee",
        "outputId": "6741f78f-fe81-49d5-afab-cc9e00068bf5"
      },
      "execution_count": 310,
      "outputs": [
        {
          "output_type": "stream",
          "name": "stderr",
          "text": [
            "<ipython-input-310-cc6be0556025>:6: FutureWarning: The default value of numeric_only in DataFrame.std is deprecated. In a future version, it will default to False. In addition, specifying 'numeric_only=None' is deprecated. Select only valid columns or specify the value of numeric_only to silence this warning.\n",
            "  coeficiente_variabilidad= (rp[columnas_con_nulos].std() / rp[columnas_con_nulos].mean())*100\n",
            "<ipython-input-310-cc6be0556025>:6: FutureWarning: The default value of numeric_only in DataFrame.mean is deprecated. In a future version, it will default to False. In addition, specifying 'numeric_only=None' is deprecated. Select only valid columns or specify the value of numeric_only to silence this warning.\n",
            "  coeficiente_variabilidad= (rp[columnas_con_nulos].std() / rp[columnas_con_nulos].mean())*100\n"
          ]
        }
      ]
    },
    {
      "cell_type": "code",
      "source": [
        "coeficiente_variabilidad.sort_values(ascending=False)"
      ],
      "metadata": {
        "colab": {
          "base_uri": "https://localhost:8080/"
        },
        "id": "o9Z1lM2se6NQ",
        "outputId": "31183efe-eb7e-4715-917b-1f9ccee0b7a0"
      },
      "execution_count": 311,
      "outputs": [
        {
          "output_type": "execute_result",
          "data": {
            "text/plain": [
              "USO_TRIM_LINEA_BBVA             211.180842\n",
              "SDO_CONSUMO_T2                  149.946500\n",
              "USO_LINEA_TOTAL_TC_T2           149.463004\n",
              "SUELDO_ESTIMADO                 125.966387\n",
              "ANTIGUEDAD_MES                   60.225762\n",
              "RESENCIA_OFERTA_PLD_RENOVADO     40.323096\n",
              "EDAD                             24.697052\n",
              "dtype: float64"
            ]
          },
          "metadata": {},
          "execution_count": 311
        }
      ]
    },
    {
      "cell_type": "code",
      "source": [
        "rp[columnas_con_nulos].agg([\"mean\", p50, \"min\", \"max\",p95,p99]).T\n"
      ],
      "metadata": {
        "colab": {
          "base_uri": "https://localhost:8080/",
          "height": 0
        },
        "id": "1Pjjk-GZu4cq",
        "outputId": "0bd131f8-c84e-4fa6-a0fa-798a0717c5c3"
      },
      "execution_count": 312,
      "outputs": [
        {
          "output_type": "stream",
          "name": "stderr",
          "text": [
            "<ipython-input-312-62699aac1bf3>:1: FutureWarning: ['SEXO', 'EST_CIVIL', 'REGION'] did not aggregate successfully. If any error is raised this will raise in a future version of pandas. Drop these columns/ops to avoid this warning.\n",
            "  rp[columnas_con_nulos].agg([\"mean\", p50, \"min\", \"max\",p95,p99]).T\n"
          ]
        },
        {
          "output_type": "execute_result",
          "data": {
            "text/plain": [
              "                                      mean     <lambda>   min            max  \\\n",
              "USO_LINEA_TOTAL_TC_T2             0.128593     0.030634   0.0       1.466976   \n",
              "USO_TRIM_LINEA_BBVA               0.096935     0.000000   0.0       1.666666   \n",
              "SDO_CONSUMO_T2                14385.172299  8368.145000   0.0  722781.090000   \n",
              "RESENCIA_OFERTA_PLD_RENOVADO     14.704464    15.000000   1.0      21.000000   \n",
              "EDAD                             43.820753    43.000000  21.0      72.000000   \n",
              "ANTIGUEDAD_MES                  124.336508   106.000000   3.0     561.000000   \n",
              "SUELDO_ESTIMADO                4766.287255  3178.120000   0.0  240909.000000   \n",
              "\n",
              "                                  <lambda>       <lambda>  \n",
              "USO_LINEA_TOTAL_TC_T2             0.556814       0.809457  \n",
              "USO_TRIM_LINEA_BBVA               0.605864       0.900713  \n",
              "SDO_CONSUMO_T2                48501.905000  107020.912400  \n",
              "RESENCIA_OFERTA_PLD_RENOVADO     21.000000      21.000000  \n",
              "EDAD                             62.000000      65.000000  \n",
              "ANTIGUEDAD_MES                  241.000000     294.000000  \n",
              "SUELDO_ESTIMADO               12746.300000   24750.000000  "
            ],
            "text/html": [
              "\n",
              "  <div id=\"df-927ee0ba-304b-4c64-891c-0195bede87ec\" class=\"colab-df-container\">\n",
              "    <div>\n",
              "<style scoped>\n",
              "    .dataframe tbody tr th:only-of-type {\n",
              "        vertical-align: middle;\n",
              "    }\n",
              "\n",
              "    .dataframe tbody tr th {\n",
              "        vertical-align: top;\n",
              "    }\n",
              "\n",
              "    .dataframe thead th {\n",
              "        text-align: right;\n",
              "    }\n",
              "</style>\n",
              "<table border=\"1\" class=\"dataframe\">\n",
              "  <thead>\n",
              "    <tr style=\"text-align: right;\">\n",
              "      <th></th>\n",
              "      <th>mean</th>\n",
              "      <th>&lt;lambda&gt;</th>\n",
              "      <th>min</th>\n",
              "      <th>max</th>\n",
              "      <th>&lt;lambda&gt;</th>\n",
              "      <th>&lt;lambda&gt;</th>\n",
              "    </tr>\n",
              "  </thead>\n",
              "  <tbody>\n",
              "    <tr>\n",
              "      <th>USO_LINEA_TOTAL_TC_T2</th>\n",
              "      <td>0.128593</td>\n",
              "      <td>0.030634</td>\n",
              "      <td>0.0</td>\n",
              "      <td>1.466976</td>\n",
              "      <td>0.556814</td>\n",
              "      <td>0.809457</td>\n",
              "    </tr>\n",
              "    <tr>\n",
              "      <th>USO_TRIM_LINEA_BBVA</th>\n",
              "      <td>0.096935</td>\n",
              "      <td>0.000000</td>\n",
              "      <td>0.0</td>\n",
              "      <td>1.666666</td>\n",
              "      <td>0.605864</td>\n",
              "      <td>0.900713</td>\n",
              "    </tr>\n",
              "    <tr>\n",
              "      <th>SDO_CONSUMO_T2</th>\n",
              "      <td>14385.172299</td>\n",
              "      <td>8368.145000</td>\n",
              "      <td>0.0</td>\n",
              "      <td>722781.090000</td>\n",
              "      <td>48501.905000</td>\n",
              "      <td>107020.912400</td>\n",
              "    </tr>\n",
              "    <tr>\n",
              "      <th>RESENCIA_OFERTA_PLD_RENOVADO</th>\n",
              "      <td>14.704464</td>\n",
              "      <td>15.000000</td>\n",
              "      <td>1.0</td>\n",
              "      <td>21.000000</td>\n",
              "      <td>21.000000</td>\n",
              "      <td>21.000000</td>\n",
              "    </tr>\n",
              "    <tr>\n",
              "      <th>EDAD</th>\n",
              "      <td>43.820753</td>\n",
              "      <td>43.000000</td>\n",
              "      <td>21.0</td>\n",
              "      <td>72.000000</td>\n",
              "      <td>62.000000</td>\n",
              "      <td>65.000000</td>\n",
              "    </tr>\n",
              "    <tr>\n",
              "      <th>ANTIGUEDAD_MES</th>\n",
              "      <td>124.336508</td>\n",
              "      <td>106.000000</td>\n",
              "      <td>3.0</td>\n",
              "      <td>561.000000</td>\n",
              "      <td>241.000000</td>\n",
              "      <td>294.000000</td>\n",
              "    </tr>\n",
              "    <tr>\n",
              "      <th>SUELDO_ESTIMADO</th>\n",
              "      <td>4766.287255</td>\n",
              "      <td>3178.120000</td>\n",
              "      <td>0.0</td>\n",
              "      <td>240909.000000</td>\n",
              "      <td>12746.300000</td>\n",
              "      <td>24750.000000</td>\n",
              "    </tr>\n",
              "  </tbody>\n",
              "</table>\n",
              "</div>\n",
              "    <div class=\"colab-df-buttons\">\n",
              "\n",
              "  <div class=\"colab-df-container\">\n",
              "    <button class=\"colab-df-convert\" onclick=\"convertToInteractive('df-927ee0ba-304b-4c64-891c-0195bede87ec')\"\n",
              "            title=\"Convert this dataframe to an interactive table.\"\n",
              "            style=\"display:none;\">\n",
              "\n",
              "  <svg xmlns=\"http://www.w3.org/2000/svg\" height=\"24px\" viewBox=\"0 -960 960 960\">\n",
              "    <path d=\"M120-120v-720h720v720H120Zm60-500h600v-160H180v160Zm220 220h160v-160H400v160Zm0 220h160v-160H400v160ZM180-400h160v-160H180v160Zm440 0h160v-160H620v160ZM180-180h160v-160H180v160Zm440 0h160v-160H620v160Z\"/>\n",
              "  </svg>\n",
              "    </button>\n",
              "\n",
              "  <style>\n",
              "    .colab-df-container {\n",
              "      display:flex;\n",
              "      gap: 12px;\n",
              "    }\n",
              "\n",
              "    .colab-df-convert {\n",
              "      background-color: #E8F0FE;\n",
              "      border: none;\n",
              "      border-radius: 50%;\n",
              "      cursor: pointer;\n",
              "      display: none;\n",
              "      fill: #1967D2;\n",
              "      height: 32px;\n",
              "      padding: 0 0 0 0;\n",
              "      width: 32px;\n",
              "    }\n",
              "\n",
              "    .colab-df-convert:hover {\n",
              "      background-color: #E2EBFA;\n",
              "      box-shadow: 0px 1px 2px rgba(60, 64, 67, 0.3), 0px 1px 3px 1px rgba(60, 64, 67, 0.15);\n",
              "      fill: #174EA6;\n",
              "    }\n",
              "\n",
              "    .colab-df-buttons div {\n",
              "      margin-bottom: 4px;\n",
              "    }\n",
              "\n",
              "    [theme=dark] .colab-df-convert {\n",
              "      background-color: #3B4455;\n",
              "      fill: #D2E3FC;\n",
              "    }\n",
              "\n",
              "    [theme=dark] .colab-df-convert:hover {\n",
              "      background-color: #434B5C;\n",
              "      box-shadow: 0px 1px 3px 1px rgba(0, 0, 0, 0.15);\n",
              "      filter: drop-shadow(0px 1px 2px rgba(0, 0, 0, 0.3));\n",
              "      fill: #FFFFFF;\n",
              "    }\n",
              "  </style>\n",
              "\n",
              "    <script>\n",
              "      const buttonEl =\n",
              "        document.querySelector('#df-927ee0ba-304b-4c64-891c-0195bede87ec button.colab-df-convert');\n",
              "      buttonEl.style.display =\n",
              "        google.colab.kernel.accessAllowed ? 'block' : 'none';\n",
              "\n",
              "      async function convertToInteractive(key) {\n",
              "        const element = document.querySelector('#df-927ee0ba-304b-4c64-891c-0195bede87ec');\n",
              "        const dataTable =\n",
              "          await google.colab.kernel.invokeFunction('convertToInteractive',\n",
              "                                                    [key], {});\n",
              "        if (!dataTable) return;\n",
              "\n",
              "        const docLinkHtml = 'Like what you see? Visit the ' +\n",
              "          '<a target=\"_blank\" href=https://colab.research.google.com/notebooks/data_table.ipynb>data table notebook</a>'\n",
              "          + ' to learn more about interactive tables.';\n",
              "        element.innerHTML = '';\n",
              "        dataTable['output_type'] = 'display_data';\n",
              "        await google.colab.output.renderOutput(dataTable, element);\n",
              "        const docLink = document.createElement('div');\n",
              "        docLink.innerHTML = docLinkHtml;\n",
              "        element.appendChild(docLink);\n",
              "      }\n",
              "    </script>\n",
              "  </div>\n",
              "\n",
              "\n",
              "<div id=\"df-d154560c-c2b2-4a4e-9676-6247261cc70c\">\n",
              "  <button class=\"colab-df-quickchart\" onclick=\"quickchart('df-d154560c-c2b2-4a4e-9676-6247261cc70c')\"\n",
              "            title=\"Suggest charts\"\n",
              "            style=\"display:none;\">\n",
              "\n",
              "<svg xmlns=\"http://www.w3.org/2000/svg\" height=\"24px\"viewBox=\"0 0 24 24\"\n",
              "     width=\"24px\">\n",
              "    <g>\n",
              "        <path d=\"M19 3H5c-1.1 0-2 .9-2 2v14c0 1.1.9 2 2 2h14c1.1 0 2-.9 2-2V5c0-1.1-.9-2-2-2zM9 17H7v-7h2v7zm4 0h-2V7h2v10zm4 0h-2v-4h2v4z\"/>\n",
              "    </g>\n",
              "</svg>\n",
              "  </button>\n",
              "\n",
              "<style>\n",
              "  .colab-df-quickchart {\n",
              "      --bg-color: #E8F0FE;\n",
              "      --fill-color: #1967D2;\n",
              "      --hover-bg-color: #E2EBFA;\n",
              "      --hover-fill-color: #174EA6;\n",
              "      --disabled-fill-color: #AAA;\n",
              "      --disabled-bg-color: #DDD;\n",
              "  }\n",
              "\n",
              "  [theme=dark] .colab-df-quickchart {\n",
              "      --bg-color: #3B4455;\n",
              "      --fill-color: #D2E3FC;\n",
              "      --hover-bg-color: #434B5C;\n",
              "      --hover-fill-color: #FFFFFF;\n",
              "      --disabled-bg-color: #3B4455;\n",
              "      --disabled-fill-color: #666;\n",
              "  }\n",
              "\n",
              "  .colab-df-quickchart {\n",
              "    background-color: var(--bg-color);\n",
              "    border: none;\n",
              "    border-radius: 50%;\n",
              "    cursor: pointer;\n",
              "    display: none;\n",
              "    fill: var(--fill-color);\n",
              "    height: 32px;\n",
              "    padding: 0;\n",
              "    width: 32px;\n",
              "  }\n",
              "\n",
              "  .colab-df-quickchart:hover {\n",
              "    background-color: var(--hover-bg-color);\n",
              "    box-shadow: 0 1px 2px rgba(60, 64, 67, 0.3), 0 1px 3px 1px rgba(60, 64, 67, 0.15);\n",
              "    fill: var(--button-hover-fill-color);\n",
              "  }\n",
              "\n",
              "  .colab-df-quickchart-complete:disabled,\n",
              "  .colab-df-quickchart-complete:disabled:hover {\n",
              "    background-color: var(--disabled-bg-color);\n",
              "    fill: var(--disabled-fill-color);\n",
              "    box-shadow: none;\n",
              "  }\n",
              "\n",
              "  .colab-df-spinner {\n",
              "    border: 2px solid var(--fill-color);\n",
              "    border-color: transparent;\n",
              "    border-bottom-color: var(--fill-color);\n",
              "    animation:\n",
              "      spin 1s steps(1) infinite;\n",
              "  }\n",
              "\n",
              "  @keyframes spin {\n",
              "    0% {\n",
              "      border-color: transparent;\n",
              "      border-bottom-color: var(--fill-color);\n",
              "      border-left-color: var(--fill-color);\n",
              "    }\n",
              "    20% {\n",
              "      border-color: transparent;\n",
              "      border-left-color: var(--fill-color);\n",
              "      border-top-color: var(--fill-color);\n",
              "    }\n",
              "    30% {\n",
              "      border-color: transparent;\n",
              "      border-left-color: var(--fill-color);\n",
              "      border-top-color: var(--fill-color);\n",
              "      border-right-color: var(--fill-color);\n",
              "    }\n",
              "    40% {\n",
              "      border-color: transparent;\n",
              "      border-right-color: var(--fill-color);\n",
              "      border-top-color: var(--fill-color);\n",
              "    }\n",
              "    60% {\n",
              "      border-color: transparent;\n",
              "      border-right-color: var(--fill-color);\n",
              "    }\n",
              "    80% {\n",
              "      border-color: transparent;\n",
              "      border-right-color: var(--fill-color);\n",
              "      border-bottom-color: var(--fill-color);\n",
              "    }\n",
              "    90% {\n",
              "      border-color: transparent;\n",
              "      border-bottom-color: var(--fill-color);\n",
              "    }\n",
              "  }\n",
              "</style>\n",
              "\n",
              "  <script>\n",
              "    async function quickchart(key) {\n",
              "      const quickchartButtonEl =\n",
              "        document.querySelector('#' + key + ' button');\n",
              "      quickchartButtonEl.disabled = true;  // To prevent multiple clicks.\n",
              "      quickchartButtonEl.classList.add('colab-df-spinner');\n",
              "      try {\n",
              "        const charts = await google.colab.kernel.invokeFunction(\n",
              "            'suggestCharts', [key], {});\n",
              "      } catch (error) {\n",
              "        console.error('Error during call to suggestCharts:', error);\n",
              "      }\n",
              "      quickchartButtonEl.classList.remove('colab-df-spinner');\n",
              "      quickchartButtonEl.classList.add('colab-df-quickchart-complete');\n",
              "    }\n",
              "    (() => {\n",
              "      let quickchartButtonEl =\n",
              "        document.querySelector('#df-d154560c-c2b2-4a4e-9676-6247261cc70c button');\n",
              "      quickchartButtonEl.style.display =\n",
              "        google.colab.kernel.accessAllowed ? 'block' : 'none';\n",
              "    })();\n",
              "  </script>\n",
              "</div>\n",
              "    </div>\n",
              "  </div>\n"
            ]
          },
          "metadata": {},
          "execution_count": 312
        }
      ]
    },
    {
      "cell_type": "markdown",
      "source": [
        "# 2.- PREPROCESAMIENTO"
      ],
      "metadata": {
        "id": "5R-j14ro4RUM"
      }
    },
    {
      "cell_type": "markdown",
      "source": [
        "  # 2.1.- LIMPIEZA DE DATOS"
      ],
      "metadata": {
        "id": "eDF9dsZ54nny"
      }
    },
    {
      "cell_type": "markdown",
      "source": [
        "# COLUMNAS NUMERICAS\n"
      ],
      "metadata": {
        "id": "G41qhNxBm7f5"
      }
    },
    {
      "cell_type": "markdown",
      "source": [
        "**USO_LINEA_TOTAL_TC_T2**"
      ],
      "metadata": {
        "id": "Iah3aYxC7Jeo"
      }
    },
    {
      "cell_type": "code",
      "source": [
        "#sns.histplot(rp[\"USO_LINEA_TOTAL_TC_T2\"])"
      ],
      "metadata": {
        "id": "B1qm9D2amgxX"
      },
      "execution_count": 313,
      "outputs": []
    },
    {
      "cell_type": "code",
      "source": [
        "#sns.histplot(rp[\"USO_LINEA_TOTAL_TC_T2_ls\"]) #bins=5, color='orange'"
      ],
      "metadata": {
        "id": "_q2MKK81CCWk"
      },
      "execution_count": 314,
      "outputs": []
    },
    {
      "cell_type": "code",
      "source": [
        "#sns.kdeplot(rp, x=\"USO_LINEA_TOTAL_TC_T2\",hue=\"FLAG_VENTA\",fill=True,common_norm=False,alpha=0.1)"
      ],
      "metadata": {
        "id": "oPpOtCAA3WZY"
      },
      "execution_count": 315,
      "outputs": []
    },
    {
      "cell_type": "markdown",
      "source": [
        "**USO_TRIM_LINEA_BBVA**"
      ],
      "metadata": {
        "id": "-Cn3E35hY1FA"
      }
    },
    {
      "cell_type": "markdown",
      "source": [
        "**SDO_CONSUMO_T2**"
      ],
      "metadata": {
        "id": "Et10V1rnbiGQ"
      }
    },
    {
      "cell_type": "markdown",
      "source": [
        "**RESENCIA_OFERTA_PLD_RENOVADO**"
      ],
      "metadata": {
        "id": "3DCKsuDTUHcO"
      }
    },
    {
      "cell_type": "markdown",
      "source": [
        "**ANTIGUEDAD_MES**"
      ],
      "metadata": {
        "id": "ptXZCoW9como"
      }
    },
    {
      "cell_type": "code",
      "source": [
        "# Calcular el límite superior del boxplot\n",
        "q3 = rp[\"ANTIGUEDAD_MES\"].quantile(0.75)\n",
        "q1=rp[\"ANTIGUEDAD_MES\"].quantile(0.25)\n",
        "iqr = q3 - q1\n",
        "limite_superior_4 = q3 + 1.5 * iqr\n",
        "limite_superior_4"
      ],
      "metadata": {
        "colab": {
          "base_uri": "https://localhost:8080/"
        },
        "id": "RpzFF0iacoLA",
        "outputId": "fe64dd79-5ade-485a-b005-f040e89fd9bb"
      },
      "execution_count": 316,
      "outputs": [
        {
          "output_type": "execute_result",
          "data": {
            "text/plain": [
              "384.0"
            ]
          },
          "metadata": {},
          "execution_count": 316
        }
      ]
    },
    {
      "cell_type": "code",
      "source": [
        "# Remplazamos los outliers por el limite superior de su boxplot\n",
        "rp[\"ANTIGUEDAD_MES_ls\"]=rp[\"ANTIGUEDAD_MES\"]\n",
        "rp.loc[rp[\"ANTIGUEDAD_MES_ls\"]>limite_superior_4,\"ANTIGUEDAD_MES_ls\"]=limite_superior_4"
      ],
      "metadata": {
        "id": "0HLmoLZDc0S1"
      },
      "execution_count": 317,
      "outputs": []
    },
    {
      "cell_type": "code",
      "source": [
        "media=rp[\"ANTIGUEDAD_MES_ls\"].mean()\n",
        "print(\"mean: \",media)\n",
        "mediana=rp[\"ANTIGUEDAD_MES_ls\"].median()\n",
        "print(\"mediana: \", mediana)"
      ],
      "metadata": {
        "colab": {
          "base_uri": "https://localhost:8080/"
        },
        "id": "aJhi9DKxc3S1",
        "outputId": "9a5ce4ec-1b93-4103-f47b-2f8546937caa"
      },
      "execution_count": 318,
      "outputs": [
        {
          "output_type": "stream",
          "name": "stdout",
          "text": [
            "mean:  124.29818970932557\n",
            "mediana:  106.0\n"
          ]
        }
      ]
    },
    {
      "cell_type": "code",
      "source": [
        "# Reemplaza los valores faltantes con la media\n",
        "rp[\"ANTIGUEDAD_MES_ls\"].fillna(media,inplace=True)"
      ],
      "metadata": {
        "id": "878z8lwAcQut"
      },
      "execution_count": 319,
      "outputs": []
    },
    {
      "cell_type": "markdown",
      "source": [
        "**SUELDO_ESTIMADO**"
      ],
      "metadata": {
        "id": "wq2F69K9crVk"
      }
    },
    {
      "cell_type": "code",
      "source": [
        "# Calcular el límite superior del boxplot\n",
        "q3 = rp[\"SUELDO_ESTIMADO\"].quantile(0.75)\n",
        "q1=rp[\"SUELDO_ESTIMADO\"].quantile(0.25)\n",
        "iqr = q3 - q1\n",
        "limite_superior_5 = q3 + 1.5 * iqr\n",
        "limite_superior_5"
      ],
      "metadata": {
        "colab": {
          "base_uri": "https://localhost:8080/"
        },
        "id": "PV_lxnjedVqC",
        "outputId": "28118578-0445-4562-f040-5f58c3245aea"
      },
      "execution_count": 320,
      "outputs": [
        {
          "output_type": "execute_result",
          "data": {
            "text/plain": [
              "10722.265"
            ]
          },
          "metadata": {},
          "execution_count": 320
        }
      ]
    },
    {
      "cell_type": "code",
      "source": [
        "# Remplazamos los outliers por el limite superior de su boxplot\n",
        "rp[\"SUELDO_ESTIMADO_ls\"]=rp[\"SUELDO_ESTIMADO\"]\n",
        "rp.loc[rp[\"SUELDO_ESTIMADO_ls\"]>limite_superior_5,\"SUELDO_ESTIMADO_ls\"]=limite_superior_5"
      ],
      "metadata": {
        "id": "C_8_LRs2dVgL"
      },
      "execution_count": 321,
      "outputs": []
    },
    {
      "cell_type": "code",
      "source": [
        "media=rp[\"SUELDO_ESTIMADO_ls\"].mean()\n",
        "print(\"mean: \",media)\n",
        "mediana=rp[\"SUELDO_ESTIMADO_ls\"].median()\n",
        "print(\"mediana: \", mediana)"
      ],
      "metadata": {
        "colab": {
          "base_uri": "https://localhost:8080/"
        },
        "id": "z45AeUs6dnIG",
        "outputId": "8c04872f-f524-4a19-e865-e29bb76df0de"
      },
      "execution_count": 322,
      "outputs": [
        {
          "output_type": "stream",
          "name": "stdout",
          "text": [
            "mean:  4187.895008032541\n",
            "mediana:  3178.12\n"
          ]
        }
      ]
    },
    {
      "cell_type": "code",
      "source": [
        "# Reemplaza los valores faltantes con la media\n",
        "rp[\"SUELDO_ESTIMADO_ls\"].fillna(media,inplace=True)"
      ],
      "metadata": {
        "id": "r8nNlRuQephA"
      },
      "execution_count": 323,
      "outputs": []
    },
    {
      "cell_type": "markdown",
      "source": [
        "**EDAD**"
      ],
      "metadata": {
        "id": "9XH9EwE_fP5j"
      }
    },
    {
      "cell_type": "code",
      "source": [
        "# Su coefeciente de variabilidad es menor al 50%\n",
        "\n",
        "media=rp[\"EDAD\"].mean()\n",
        "rp[\"EDAD_ls\"]=rp[\"EDAD\"]\n",
        "rp[\"EDAD_ls\"].fillna(media,inplace=True)"
      ],
      "metadata": {
        "id": "p1CAiAGhenmW"
      },
      "execution_count": 324,
      "outputs": []
    },
    {
      "cell_type": "code",
      "source": [
        "rp.isna().sum()"
      ],
      "metadata": {
        "colab": {
          "base_uri": "https://localhost:8080/"
        },
        "id": "Ahve2IGbd9iM",
        "outputId": "2676cab0-8c88-44da-877b-c98148e48c74"
      },
      "execution_count": 325,
      "outputs": [
        {
          "output_type": "execute_result",
          "data": {
            "text/plain": [
              "MES                                       0\n",
              "CLIENTE                                   0\n",
              "LINEA_RENOVADO                            0\n",
              "PLAZO_RENOVADO                            0\n",
              "FLAG_VENTA                                0\n",
              "USO_LINEA_TOTAL_TC_T2                 19192\n",
              "USO_TRIM_LINEA_BBVA                   19192\n",
              "NR_ENTIDADES_TOTAL_T2                     0\n",
              "DIFF_NRO_ENTIDA_TOTALES_T2_T12            0\n",
              "SDO_CONSUMO_T2                         5186\n",
              "RESENCIA_OFERTA_PLD_RENOVADO          13856\n",
              "Ahorro_Sldo_Bco_T1                        0\n",
              "PConsumo_Sldo_Bco_T1                      0\n",
              "SDO_BCO_tot_sm_pasivo_Bco_6M              0\n",
              "EDAD                                      1\n",
              "SEXO                                      1\n",
              "EST_CIVIL                                 1\n",
              "ANTIGUEDAD_MES                            1\n",
              "REGION                                   18\n",
              "FLAG_LIMA_PROVINCIA                       0\n",
              "SUELDO_ESTIMADO                          37\n",
              "CUBRIR_DEUDA_CONSUMO_SF_RENOVA_PLD        0\n",
              "ANTIGUEDAD_MES_ls                         0\n",
              "SUELDO_ESTIMADO_ls                        0\n",
              "EDAD_ls                                   0\n",
              "dtype: int64"
            ]
          },
          "metadata": {},
          "execution_count": 325
        }
      ]
    },
    {
      "cell_type": "markdown",
      "source": [
        "# COLUMNAS CATEGORICAS"
      ],
      "metadata": {
        "id": "KAZFpxvRnIPW"
      }
    },
    {
      "cell_type": "markdown",
      "source": [
        "**sexo**"
      ],
      "metadata": {
        "id": "rCz85P23oDcb"
      }
    },
    {
      "cell_type": "code",
      "source": [
        "rp[\"SEXO_ls\"] = rp[\"SEXO\"]\n",
        "rp.dropna(subset=[\"SEXO_ls\"], inplace=True)\n",
        "print(rp[\"SEXO_ls\"].isna().sum())"
      ],
      "metadata": {
        "colab": {
          "base_uri": "https://localhost:8080/"
        },
        "id": "lyReS8YfnSMl",
        "outputId": "4c889361-9ba7-4fad-dde1-3360ea6dd5dc"
      },
      "execution_count": 326,
      "outputs": [
        {
          "output_type": "stream",
          "name": "stdout",
          "text": [
            "0\n"
          ]
        }
      ]
    },
    {
      "cell_type": "markdown",
      "source": [
        "**EST_CIVIL**"
      ],
      "metadata": {
        "id": "ak4BOpwIoKdZ"
      }
    },
    {
      "cell_type": "code",
      "source": [
        "rp[\"EST_CIVIL_ls\"] = rp[\"EST_CIVIL\"]\n",
        "rp.dropna(subset=[\"EST_CIVIL_ls\"], inplace=True)\n",
        "print(rp[\"EST_CIVIL_ls\"].isna().sum())"
      ],
      "metadata": {
        "colab": {
          "base_uri": "https://localhost:8080/"
        },
        "id": "Pk7p6JzJoOt4",
        "outputId": "79f2135b-9e4d-4f90-a076-3f0107dfc198"
      },
      "execution_count": 327,
      "outputs": [
        {
          "output_type": "stream",
          "name": "stdout",
          "text": [
            "0\n"
          ]
        }
      ]
    },
    {
      "cell_type": "markdown",
      "source": [
        "**REGION**"
      ],
      "metadata": {
        "id": "yN3eyslvs1qz"
      }
    },
    {
      "cell_type": "code",
      "source": [
        "rp[\"REGION_ls\"] = rp[\"REGION\"]\n",
        "rp.dropna(subset=[\"REGION_ls\"], inplace=True)\n",
        "print(rp[\"REGION_ls\"].isna().sum())"
      ],
      "metadata": {
        "colab": {
          "base_uri": "https://localhost:8080/"
        },
        "id": "SCU29VN2s0jv",
        "outputId": "6c71a130-6b96-4208-ce3e-a0cee024050f"
      },
      "execution_count": 328,
      "outputs": [
        {
          "output_type": "stream",
          "name": "stdout",
          "text": [
            "0\n"
          ]
        }
      ]
    },
    {
      "cell_type": "code",
      "source": [
        "rp.isna().sum()"
      ],
      "metadata": {
        "colab": {
          "base_uri": "https://localhost:8080/"
        },
        "id": "C2MhuNBOtA11",
        "outputId": "5547e73d-3309-488a-ec2d-5a57fe7a9b13"
      },
      "execution_count": 329,
      "outputs": [
        {
          "output_type": "execute_result",
          "data": {
            "text/plain": [
              "MES                                       0\n",
              "CLIENTE                                   0\n",
              "LINEA_RENOVADO                            0\n",
              "PLAZO_RENOVADO                            0\n",
              "FLAG_VENTA                                0\n",
              "USO_LINEA_TOTAL_TC_T2                 19189\n",
              "USO_TRIM_LINEA_BBVA                   19189\n",
              "NR_ENTIDADES_TOTAL_T2                     0\n",
              "DIFF_NRO_ENTIDA_TOTALES_T2_T12            0\n",
              "SDO_CONSUMO_T2                         5186\n",
              "RESENCIA_OFERTA_PLD_RENOVADO          13855\n",
              "Ahorro_Sldo_Bco_T1                        0\n",
              "PConsumo_Sldo_Bco_T1                      0\n",
              "SDO_BCO_tot_sm_pasivo_Bco_6M              0\n",
              "EDAD                                      0\n",
              "SEXO                                      0\n",
              "EST_CIVIL                                 0\n",
              "ANTIGUEDAD_MES                            0\n",
              "REGION                                    0\n",
              "FLAG_LIMA_PROVINCIA                       0\n",
              "SUELDO_ESTIMADO                          37\n",
              "CUBRIR_DEUDA_CONSUMO_SF_RENOVA_PLD        0\n",
              "ANTIGUEDAD_MES_ls                         0\n",
              "SUELDO_ESTIMADO_ls                        0\n",
              "EDAD_ls                                   0\n",
              "SEXO_ls                                   0\n",
              "EST_CIVIL_ls                              0\n",
              "REGION_ls                                 0\n",
              "dtype: int64"
            ]
          },
          "metadata": {},
          "execution_count": 329
        }
      ]
    },
    {
      "cell_type": "markdown",
      "source": [
        "# GUARDAR COLUMNAS LIMPIAS"
      ],
      "metadata": {
        "id": "3E0y6YuX0cBd"
      }
    },
    {
      "cell_type": "code",
      "source": [
        "rp.columns"
      ],
      "metadata": {
        "colab": {
          "base_uri": "https://localhost:8080/"
        },
        "id": "A4O96gQP5pNl",
        "outputId": "b8f3937e-3af7-4ca0-9c17-9828bd6581e3"
      },
      "execution_count": 331,
      "outputs": [
        {
          "output_type": "execute_result",
          "data": {
            "text/plain": [
              "Index(['MES', 'CLIENTE', 'LINEA_RENOVADO', 'PLAZO_RENOVADO', 'FLAG_VENTA',\n",
              "       'USO_LINEA_TOTAL_TC_T2', 'USO_TRIM_LINEA_BBVA', 'NR_ENTIDADES_TOTAL_T2',\n",
              "       'DIFF_NRO_ENTIDA_TOTALES_T2_T12', 'SDO_CONSUMO_T2',\n",
              "       'RESENCIA_OFERTA_PLD_RENOVADO', 'Ahorro_Sldo_Bco_T1',\n",
              "       'PConsumo_Sldo_Bco_T1', 'SDO_BCO_tot_sm_pasivo_Bco_6M', 'EDAD', 'SEXO',\n",
              "       'EST_CIVIL', 'ANTIGUEDAD_MES', 'REGION', 'FLAG_LIMA_PROVINCIA',\n",
              "       'SUELDO_ESTIMADO', 'CUBRIR_DEUDA_CONSUMO_SF_RENOVA_PLD',\n",
              "       'ANTIGUEDAD_MES_ls', 'SUELDO_ESTIMADO_ls', 'EDAD_ls', 'SEXO_ls',\n",
              "       'EST_CIVIL_ls', 'REGION_ls'],\n",
              "      dtype='object')"
            ]
          },
          "metadata": {},
          "execution_count": 331
        }
      ]
    },
    {
      "cell_type": "code",
      "source": [
        "#eliminamos cliente,\n",
        "columnas=['MES', 'LINEA_RENOVADO', 'PLAZO_RENOVADO', 'FLAG_VENTA',\n",
        "       'USO_LINEA_TOTAL_TC_T2', 'USO_TRIM_LINEA_BBVA', 'NR_ENTIDADES_TOTAL_T2',\n",
        "       'DIFF_NRO_ENTIDA_TOTALES_T2_T12', 'SDO_CONSUMO_T2',\n",
        "       'RESENCIA_OFERTA_PLD_RENOVADO', 'Ahorro_Sldo_Bco_T1',\n",
        "       'PConsumo_Sldo_Bco_T1', 'SDO_BCO_tot_sm_pasivo_Bco_6M', 'FLAG_LIMA_PROVINCIA',\n",
        "       'CUBRIR_DEUDA_CONSUMO_SF_RENOVA_PLD',\n",
        "       'ANTIGUEDAD_MES_ls', 'SUELDO_ESTIMADO_ls', 'EDAD_ls', 'SEXO_ls',\n",
        "       'EST_CIVIL_ls', 'REGION_ls']"
      ],
      "metadata": {
        "id": "nBXj5BxiYWg-"
      },
      "execution_count": 332,
      "outputs": []
    },
    {
      "cell_type": "code",
      "source": [
        "rp=rp[columnas]"
      ],
      "metadata": {
        "id": "b4RbG3mmYNr6"
      },
      "execution_count": 333,
      "outputs": []
    },
    {
      "cell_type": "code",
      "source": [
        "rp.to_excel('rp.xlsx', index=False)"
      ],
      "metadata": {
        "id": "10Zz7Aa2zZNl"
      },
      "execution_count": 335,
      "outputs": []
    },
    {
      "cell_type": "markdown",
      "source": [
        "# 2.2.- TRANSFORMACION DE DATOS"
      ],
      "metadata": {
        "id": "4xejJeAN5iS6"
      }
    },
    {
      "cell_type": "code",
      "source": [
        "rp_=pd.read_excel(\"/content/rp.xlsx\")"
      ],
      "metadata": {
        "id": "hAKTnLPV9HUm"
      },
      "execution_count": 336,
      "outputs": []
    },
    {
      "cell_type": "code",
      "source": [
        "le = LabelEncoder()\n",
        "\n",
        "rp_[\"SEXO_ls\"] = le.fit_transform(rp_[\"SEXO_ls\"])\n",
        "rp_[\"EST_CIVIL_ls\"] = le.fit_transform(rp_[\"EST_CIVIL_ls\"])\n",
        "rp_[\"REGION_ls\"] = le.fit_transform(rp_[\"REGION_ls\"])\n",
        "\n",
        "rp_.head()"
      ],
      "metadata": {
        "colab": {
          "base_uri": "https://localhost:8080/",
          "height": 255
        },
        "id": "i-frj__fNv0K",
        "outputId": "a269ab4d-a42c-4f07-d997-2b6dc14b6199"
      },
      "execution_count": 338,
      "outputs": [
        {
          "output_type": "execute_result",
          "data": {
            "text/plain": [
              "      MES  LINEA_RENOVADO  PLAZO_RENOVADO  FLAG_VENTA  USO_LINEA_TOTAL_TC_T2  \\\n",
              "0  201506            3770              12           0               0.000000   \n",
              "1  201506            1300               6           0               0.000000   \n",
              "2  201506            7800              36           0               0.429507   \n",
              "3  201506            6630              12           0               0.000000   \n",
              "4  201506           15497              36           1                    NaN   \n",
              "\n",
              "   USO_TRIM_LINEA_BBVA  NR_ENTIDADES_TOTAL_T2  DIFF_NRO_ENTIDA_TOTALES_T2_T12  \\\n",
              "0             0.000000                      1                              -1   \n",
              "1             0.000000                      1                               0   \n",
              "2             0.225615                      5                              -2   \n",
              "3             0.000000                      1                               1   \n",
              "4                  NaN                      1                               0   \n",
              "\n",
              "   SDO_CONSUMO_T2  RESENCIA_OFERTA_PLD_RENOVADO  ...  PConsumo_Sldo_Bco_T1  \\\n",
              "0          271.12                          21.0  ...                   457   \n",
              "1        11200.00                           9.0  ...                 11200   \n",
              "2        20156.45                           NaN  ...                  4778   \n",
              "3        20485.14                          20.0  ...                     0   \n",
              "4         1682.83                          11.0  ...                  1935   \n",
              "\n",
              "   SDO_BCO_tot_sm_pasivo_Bco_6M  FLAG_LIMA_PROVINCIA  \\\n",
              "0                   3754.333333                    1   \n",
              "1                   1581.333333                    1   \n",
              "2                  10241.000000                    1   \n",
              "3                   5797.333333                    0   \n",
              "4                  16755.333330                    0   \n",
              "\n",
              "   CUBRIR_DEUDA_CONSUMO_SF_RENOVA_PLD  ANTIGUEDAD_MES_ls  SUELDO_ESTIMADO_ls  \\\n",
              "0                            0.071915                 23              3531.0   \n",
              "1                            8.615380                 56              1322.0   \n",
              "2                            2.584160                 20              4234.0   \n",
              "3                            3.089760                166              6647.0   \n",
              "4                            0.108590                 55              2094.0   \n",
              "\n",
              "   EDAD_ls  SEXO_ls  EST_CIVIL_ls  REGION_ls  \n",
              "0       25        1             2          6  \n",
              "1       33        1             2          4  \n",
              "2       26        1             2          5  \n",
              "3       51        1             2          9  \n",
              "4       35        1             0          9  \n",
              "\n",
              "[5 rows x 21 columns]"
            ],
            "text/html": [
              "\n",
              "  <div id=\"df-15a9cbf2-def1-4b53-a96f-ca9dc220e677\" class=\"colab-df-container\">\n",
              "    <div>\n",
              "<style scoped>\n",
              "    .dataframe tbody tr th:only-of-type {\n",
              "        vertical-align: middle;\n",
              "    }\n",
              "\n",
              "    .dataframe tbody tr th {\n",
              "        vertical-align: top;\n",
              "    }\n",
              "\n",
              "    .dataframe thead th {\n",
              "        text-align: right;\n",
              "    }\n",
              "</style>\n",
              "<table border=\"1\" class=\"dataframe\">\n",
              "  <thead>\n",
              "    <tr style=\"text-align: right;\">\n",
              "      <th></th>\n",
              "      <th>MES</th>\n",
              "      <th>LINEA_RENOVADO</th>\n",
              "      <th>PLAZO_RENOVADO</th>\n",
              "      <th>FLAG_VENTA</th>\n",
              "      <th>USO_LINEA_TOTAL_TC_T2</th>\n",
              "      <th>USO_TRIM_LINEA_BBVA</th>\n",
              "      <th>NR_ENTIDADES_TOTAL_T2</th>\n",
              "      <th>DIFF_NRO_ENTIDA_TOTALES_T2_T12</th>\n",
              "      <th>SDO_CONSUMO_T2</th>\n",
              "      <th>RESENCIA_OFERTA_PLD_RENOVADO</th>\n",
              "      <th>...</th>\n",
              "      <th>PConsumo_Sldo_Bco_T1</th>\n",
              "      <th>SDO_BCO_tot_sm_pasivo_Bco_6M</th>\n",
              "      <th>FLAG_LIMA_PROVINCIA</th>\n",
              "      <th>CUBRIR_DEUDA_CONSUMO_SF_RENOVA_PLD</th>\n",
              "      <th>ANTIGUEDAD_MES_ls</th>\n",
              "      <th>SUELDO_ESTIMADO_ls</th>\n",
              "      <th>EDAD_ls</th>\n",
              "      <th>SEXO_ls</th>\n",
              "      <th>EST_CIVIL_ls</th>\n",
              "      <th>REGION_ls</th>\n",
              "    </tr>\n",
              "  </thead>\n",
              "  <tbody>\n",
              "    <tr>\n",
              "      <th>0</th>\n",
              "      <td>201506</td>\n",
              "      <td>3770</td>\n",
              "      <td>12</td>\n",
              "      <td>0</td>\n",
              "      <td>0.000000</td>\n",
              "      <td>0.000000</td>\n",
              "      <td>1</td>\n",
              "      <td>-1</td>\n",
              "      <td>271.12</td>\n",
              "      <td>21.0</td>\n",
              "      <td>...</td>\n",
              "      <td>457</td>\n",
              "      <td>3754.333333</td>\n",
              "      <td>1</td>\n",
              "      <td>0.071915</td>\n",
              "      <td>23</td>\n",
              "      <td>3531.0</td>\n",
              "      <td>25</td>\n",
              "      <td>1</td>\n",
              "      <td>2</td>\n",
              "      <td>6</td>\n",
              "    </tr>\n",
              "    <tr>\n",
              "      <th>1</th>\n",
              "      <td>201506</td>\n",
              "      <td>1300</td>\n",
              "      <td>6</td>\n",
              "      <td>0</td>\n",
              "      <td>0.000000</td>\n",
              "      <td>0.000000</td>\n",
              "      <td>1</td>\n",
              "      <td>0</td>\n",
              "      <td>11200.00</td>\n",
              "      <td>9.0</td>\n",
              "      <td>...</td>\n",
              "      <td>11200</td>\n",
              "      <td>1581.333333</td>\n",
              "      <td>1</td>\n",
              "      <td>8.615380</td>\n",
              "      <td>56</td>\n",
              "      <td>1322.0</td>\n",
              "      <td>33</td>\n",
              "      <td>1</td>\n",
              "      <td>2</td>\n",
              "      <td>4</td>\n",
              "    </tr>\n",
              "    <tr>\n",
              "      <th>2</th>\n",
              "      <td>201506</td>\n",
              "      <td>7800</td>\n",
              "      <td>36</td>\n",
              "      <td>0</td>\n",
              "      <td>0.429507</td>\n",
              "      <td>0.225615</td>\n",
              "      <td>5</td>\n",
              "      <td>-2</td>\n",
              "      <td>20156.45</td>\n",
              "      <td>NaN</td>\n",
              "      <td>...</td>\n",
              "      <td>4778</td>\n",
              "      <td>10241.000000</td>\n",
              "      <td>1</td>\n",
              "      <td>2.584160</td>\n",
              "      <td>20</td>\n",
              "      <td>4234.0</td>\n",
              "      <td>26</td>\n",
              "      <td>1</td>\n",
              "      <td>2</td>\n",
              "      <td>5</td>\n",
              "    </tr>\n",
              "    <tr>\n",
              "      <th>3</th>\n",
              "      <td>201506</td>\n",
              "      <td>6630</td>\n",
              "      <td>12</td>\n",
              "      <td>0</td>\n",
              "      <td>0.000000</td>\n",
              "      <td>0.000000</td>\n",
              "      <td>1</td>\n",
              "      <td>1</td>\n",
              "      <td>20485.14</td>\n",
              "      <td>20.0</td>\n",
              "      <td>...</td>\n",
              "      <td>0</td>\n",
              "      <td>5797.333333</td>\n",
              "      <td>0</td>\n",
              "      <td>3.089760</td>\n",
              "      <td>166</td>\n",
              "      <td>6647.0</td>\n",
              "      <td>51</td>\n",
              "      <td>1</td>\n",
              "      <td>2</td>\n",
              "      <td>9</td>\n",
              "    </tr>\n",
              "    <tr>\n",
              "      <th>4</th>\n",
              "      <td>201506</td>\n",
              "      <td>15497</td>\n",
              "      <td>36</td>\n",
              "      <td>1</td>\n",
              "      <td>NaN</td>\n",
              "      <td>NaN</td>\n",
              "      <td>1</td>\n",
              "      <td>0</td>\n",
              "      <td>1682.83</td>\n",
              "      <td>11.0</td>\n",
              "      <td>...</td>\n",
              "      <td>1935</td>\n",
              "      <td>16755.333330</td>\n",
              "      <td>0</td>\n",
              "      <td>0.108590</td>\n",
              "      <td>55</td>\n",
              "      <td>2094.0</td>\n",
              "      <td>35</td>\n",
              "      <td>1</td>\n",
              "      <td>0</td>\n",
              "      <td>9</td>\n",
              "    </tr>\n",
              "  </tbody>\n",
              "</table>\n",
              "<p>5 rows × 21 columns</p>\n",
              "</div>\n",
              "    <div class=\"colab-df-buttons\">\n",
              "\n",
              "  <div class=\"colab-df-container\">\n",
              "    <button class=\"colab-df-convert\" onclick=\"convertToInteractive('df-15a9cbf2-def1-4b53-a96f-ca9dc220e677')\"\n",
              "            title=\"Convert this dataframe to an interactive table.\"\n",
              "            style=\"display:none;\">\n",
              "\n",
              "  <svg xmlns=\"http://www.w3.org/2000/svg\" height=\"24px\" viewBox=\"0 -960 960 960\">\n",
              "    <path d=\"M120-120v-720h720v720H120Zm60-500h600v-160H180v160Zm220 220h160v-160H400v160Zm0 220h160v-160H400v160ZM180-400h160v-160H180v160Zm440 0h160v-160H620v160ZM180-180h160v-160H180v160Zm440 0h160v-160H620v160Z\"/>\n",
              "  </svg>\n",
              "    </button>\n",
              "\n",
              "  <style>\n",
              "    .colab-df-container {\n",
              "      display:flex;\n",
              "      gap: 12px;\n",
              "    }\n",
              "\n",
              "    .colab-df-convert {\n",
              "      background-color: #E8F0FE;\n",
              "      border: none;\n",
              "      border-radius: 50%;\n",
              "      cursor: pointer;\n",
              "      display: none;\n",
              "      fill: #1967D2;\n",
              "      height: 32px;\n",
              "      padding: 0 0 0 0;\n",
              "      width: 32px;\n",
              "    }\n",
              "\n",
              "    .colab-df-convert:hover {\n",
              "      background-color: #E2EBFA;\n",
              "      box-shadow: 0px 1px 2px rgba(60, 64, 67, 0.3), 0px 1px 3px 1px rgba(60, 64, 67, 0.15);\n",
              "      fill: #174EA6;\n",
              "    }\n",
              "\n",
              "    .colab-df-buttons div {\n",
              "      margin-bottom: 4px;\n",
              "    }\n",
              "\n",
              "    [theme=dark] .colab-df-convert {\n",
              "      background-color: #3B4455;\n",
              "      fill: #D2E3FC;\n",
              "    }\n",
              "\n",
              "    [theme=dark] .colab-df-convert:hover {\n",
              "      background-color: #434B5C;\n",
              "      box-shadow: 0px 1px 3px 1px rgba(0, 0, 0, 0.15);\n",
              "      filter: drop-shadow(0px 1px 2px rgba(0, 0, 0, 0.3));\n",
              "      fill: #FFFFFF;\n",
              "    }\n",
              "  </style>\n",
              "\n",
              "    <script>\n",
              "      const buttonEl =\n",
              "        document.querySelector('#df-15a9cbf2-def1-4b53-a96f-ca9dc220e677 button.colab-df-convert');\n",
              "      buttonEl.style.display =\n",
              "        google.colab.kernel.accessAllowed ? 'block' : 'none';\n",
              "\n",
              "      async function convertToInteractive(key) {\n",
              "        const element = document.querySelector('#df-15a9cbf2-def1-4b53-a96f-ca9dc220e677');\n",
              "        const dataTable =\n",
              "          await google.colab.kernel.invokeFunction('convertToInteractive',\n",
              "                                                    [key], {});\n",
              "        if (!dataTable) return;\n",
              "\n",
              "        const docLinkHtml = 'Like what you see? Visit the ' +\n",
              "          '<a target=\"_blank\" href=https://colab.research.google.com/notebooks/data_table.ipynb>data table notebook</a>'\n",
              "          + ' to learn more about interactive tables.';\n",
              "        element.innerHTML = '';\n",
              "        dataTable['output_type'] = 'display_data';\n",
              "        await google.colab.output.renderOutput(dataTable, element);\n",
              "        const docLink = document.createElement('div');\n",
              "        docLink.innerHTML = docLinkHtml;\n",
              "        element.appendChild(docLink);\n",
              "      }\n",
              "    </script>\n",
              "  </div>\n",
              "\n",
              "\n",
              "<div id=\"df-ea63d4e0-5bc9-4f6a-bf98-fbb5dd8ac2c4\">\n",
              "  <button class=\"colab-df-quickchart\" onclick=\"quickchart('df-ea63d4e0-5bc9-4f6a-bf98-fbb5dd8ac2c4')\"\n",
              "            title=\"Suggest charts\"\n",
              "            style=\"display:none;\">\n",
              "\n",
              "<svg xmlns=\"http://www.w3.org/2000/svg\" height=\"24px\"viewBox=\"0 0 24 24\"\n",
              "     width=\"24px\">\n",
              "    <g>\n",
              "        <path d=\"M19 3H5c-1.1 0-2 .9-2 2v14c0 1.1.9 2 2 2h14c1.1 0 2-.9 2-2V5c0-1.1-.9-2-2-2zM9 17H7v-7h2v7zm4 0h-2V7h2v10zm4 0h-2v-4h2v4z\"/>\n",
              "    </g>\n",
              "</svg>\n",
              "  </button>\n",
              "\n",
              "<style>\n",
              "  .colab-df-quickchart {\n",
              "      --bg-color: #E8F0FE;\n",
              "      --fill-color: #1967D2;\n",
              "      --hover-bg-color: #E2EBFA;\n",
              "      --hover-fill-color: #174EA6;\n",
              "      --disabled-fill-color: #AAA;\n",
              "      --disabled-bg-color: #DDD;\n",
              "  }\n",
              "\n",
              "  [theme=dark] .colab-df-quickchart {\n",
              "      --bg-color: #3B4455;\n",
              "      --fill-color: #D2E3FC;\n",
              "      --hover-bg-color: #434B5C;\n",
              "      --hover-fill-color: #FFFFFF;\n",
              "      --disabled-bg-color: #3B4455;\n",
              "      --disabled-fill-color: #666;\n",
              "  }\n",
              "\n",
              "  .colab-df-quickchart {\n",
              "    background-color: var(--bg-color);\n",
              "    border: none;\n",
              "    border-radius: 50%;\n",
              "    cursor: pointer;\n",
              "    display: none;\n",
              "    fill: var(--fill-color);\n",
              "    height: 32px;\n",
              "    padding: 0;\n",
              "    width: 32px;\n",
              "  }\n",
              "\n",
              "  .colab-df-quickchart:hover {\n",
              "    background-color: var(--hover-bg-color);\n",
              "    box-shadow: 0 1px 2px rgba(60, 64, 67, 0.3), 0 1px 3px 1px rgba(60, 64, 67, 0.15);\n",
              "    fill: var(--button-hover-fill-color);\n",
              "  }\n",
              "\n",
              "  .colab-df-quickchart-complete:disabled,\n",
              "  .colab-df-quickchart-complete:disabled:hover {\n",
              "    background-color: var(--disabled-bg-color);\n",
              "    fill: var(--disabled-fill-color);\n",
              "    box-shadow: none;\n",
              "  }\n",
              "\n",
              "  .colab-df-spinner {\n",
              "    border: 2px solid var(--fill-color);\n",
              "    border-color: transparent;\n",
              "    border-bottom-color: var(--fill-color);\n",
              "    animation:\n",
              "      spin 1s steps(1) infinite;\n",
              "  }\n",
              "\n",
              "  @keyframes spin {\n",
              "    0% {\n",
              "      border-color: transparent;\n",
              "      border-bottom-color: var(--fill-color);\n",
              "      border-left-color: var(--fill-color);\n",
              "    }\n",
              "    20% {\n",
              "      border-color: transparent;\n",
              "      border-left-color: var(--fill-color);\n",
              "      border-top-color: var(--fill-color);\n",
              "    }\n",
              "    30% {\n",
              "      border-color: transparent;\n",
              "      border-left-color: var(--fill-color);\n",
              "      border-top-color: var(--fill-color);\n",
              "      border-right-color: var(--fill-color);\n",
              "    }\n",
              "    40% {\n",
              "      border-color: transparent;\n",
              "      border-right-color: var(--fill-color);\n",
              "      border-top-color: var(--fill-color);\n",
              "    }\n",
              "    60% {\n",
              "      border-color: transparent;\n",
              "      border-right-color: var(--fill-color);\n",
              "    }\n",
              "    80% {\n",
              "      border-color: transparent;\n",
              "      border-right-color: var(--fill-color);\n",
              "      border-bottom-color: var(--fill-color);\n",
              "    }\n",
              "    90% {\n",
              "      border-color: transparent;\n",
              "      border-bottom-color: var(--fill-color);\n",
              "    }\n",
              "  }\n",
              "</style>\n",
              "\n",
              "  <script>\n",
              "    async function quickchart(key) {\n",
              "      const quickchartButtonEl =\n",
              "        document.querySelector('#' + key + ' button');\n",
              "      quickchartButtonEl.disabled = true;  // To prevent multiple clicks.\n",
              "      quickchartButtonEl.classList.add('colab-df-spinner');\n",
              "      try {\n",
              "        const charts = await google.colab.kernel.invokeFunction(\n",
              "            'suggestCharts', [key], {});\n",
              "      } catch (error) {\n",
              "        console.error('Error during call to suggestCharts:', error);\n",
              "      }\n",
              "      quickchartButtonEl.classList.remove('colab-df-spinner');\n",
              "      quickchartButtonEl.classList.add('colab-df-quickchart-complete');\n",
              "    }\n",
              "    (() => {\n",
              "      let quickchartButtonEl =\n",
              "        document.querySelector('#df-ea63d4e0-5bc9-4f6a-bf98-fbb5dd8ac2c4 button');\n",
              "      quickchartButtonEl.style.display =\n",
              "        google.colab.kernel.accessAllowed ? 'block' : 'none';\n",
              "    })();\n",
              "  </script>\n",
              "</div>\n",
              "    </div>\n",
              "  </div>\n"
            ]
          },
          "metadata": {},
          "execution_count": 338
        }
      ]
    },
    {
      "cell_type": "code",
      "source": [
        "rp_[\"MES\"].unique()"
      ],
      "metadata": {
        "colab": {
          "base_uri": "https://localhost:8080/"
        },
        "id": "zHyVKLme1YWp",
        "outputId": "d6142bd6-8476-46f5-f757-e295e24219c7"
      },
      "execution_count": 339,
      "outputs": [
        {
          "output_type": "execute_result",
          "data": {
            "text/plain": [
              "array([201506, 201505, 201507, 201508, 201509, 201504, 201503, 201502,\n",
              "       201501])"
            ]
          },
          "metadata": {},
          "execution_count": 339
        }
      ]
    },
    {
      "cell_type": "code",
      "source": [
        "rp_[\"MES\"].dtype"
      ],
      "metadata": {
        "colab": {
          "base_uri": "https://localhost:8080/"
        },
        "id": "oLQfAEvJ4Nos",
        "outputId": "97ed5477-04fc-4563-d4c4-d59245684d7e"
      },
      "execution_count": 340,
      "outputs": [
        {
          "output_type": "execute_result",
          "data": {
            "text/plain": [
              "dtype('int64')"
            ]
          },
          "metadata": {},
          "execution_count": 340
        }
      ]
    },
    {
      "cell_type": "code",
      "source": [
        "# Convertir a cadena para usar \"str\"\n",
        "rp_[\"MES\"] = rp_[\"MES\"].astype(str)\n",
        "\n",
        "# Extraer el ultimo valor\n",
        "rp_[\"MES\"]=rp_[\"MES\"].str[5:]"
      ],
      "metadata": {
        "id": "QTTnyoF_18DB"
      },
      "execution_count": 341,
      "outputs": []
    },
    {
      "cell_type": "code",
      "source": [
        "rp_[\"MES\"].unique()"
      ],
      "metadata": {
        "colab": {
          "base_uri": "https://localhost:8080/"
        },
        "id": "WMryq9ao445M",
        "outputId": "685d1f24-948f-4461-e549-323bb3953195"
      },
      "execution_count": 342,
      "outputs": [
        {
          "output_type": "execute_result",
          "data": {
            "text/plain": [
              "array(['6', '5', '7', '8', '9', '4', '3', '2', '1'], dtype=object)"
            ]
          },
          "metadata": {},
          "execution_count": 342
        }
      ]
    },
    {
      "cell_type": "code",
      "source": [
        "rp_.info()"
      ],
      "metadata": {
        "colab": {
          "base_uri": "https://localhost:8080/"
        },
        "id": "c3mHILGc-3p9",
        "outputId": "8bff8dea-7b88-4ecd-8e51-a1728966230e"
      },
      "execution_count": 343,
      "outputs": [
        {
          "output_type": "stream",
          "name": "stdout",
          "text": [
            "<class 'pandas.core.frame.DataFrame'>\n",
            "RangeIndex: 87538 entries, 0 to 87537\n",
            "Data columns (total 21 columns):\n",
            " #   Column                              Non-Null Count  Dtype  \n",
            "---  ------                              --------------  -----  \n",
            " 0   MES                                 87538 non-null  object \n",
            " 1   LINEA_RENOVADO                      87538 non-null  int64  \n",
            " 2   PLAZO_RENOVADO                      87538 non-null  int64  \n",
            " 3   FLAG_VENTA                          87538 non-null  int64  \n",
            " 4   USO_LINEA_TOTAL_TC_T2               68349 non-null  float64\n",
            " 5   USO_TRIM_LINEA_BBVA                 68349 non-null  float64\n",
            " 6   NR_ENTIDADES_TOTAL_T2               87538 non-null  int64  \n",
            " 7   DIFF_NRO_ENTIDA_TOTALES_T2_T12      87538 non-null  int64  \n",
            " 8   SDO_CONSUMO_T2                      82352 non-null  float64\n",
            " 9   RESENCIA_OFERTA_PLD_RENOVADO        73683 non-null  float64\n",
            " 10  Ahorro_Sldo_Bco_T1                  87538 non-null  int64  \n",
            " 11  PConsumo_Sldo_Bco_T1                87538 non-null  int64  \n",
            " 12  SDO_BCO_tot_sm_pasivo_Bco_6M        87538 non-null  float64\n",
            " 13  FLAG_LIMA_PROVINCIA                 87538 non-null  int64  \n",
            " 14  CUBRIR_DEUDA_CONSUMO_SF_RENOVA_PLD  87538 non-null  float64\n",
            " 15  ANTIGUEDAD_MES_ls                   87538 non-null  int64  \n",
            " 16  SUELDO_ESTIMADO_ls                  87538 non-null  float64\n",
            " 17  EDAD_ls                             87538 non-null  int64  \n",
            " 18  SEXO_ls                             87538 non-null  int64  \n",
            " 19  EST_CIVIL_ls                        87538 non-null  int64  \n",
            " 20  REGION_ls                           87538 non-null  int64  \n",
            "dtypes: float64(7), int64(13), object(1)\n",
            "memory usage: 14.0+ MB\n"
          ]
        }
      ]
    },
    {
      "cell_type": "code",
      "source": [
        "# Asegurarse que todas las columnas sean numericas\n",
        "rp_[\"MES\"] = rp_[\"MES\"].astype(int)\n",
        "rp_[\"MES\"].dtype"
      ],
      "metadata": {
        "colab": {
          "base_uri": "https://localhost:8080/"
        },
        "id": "7BIvpK8717zC",
        "outputId": "e5b3a7f4-7ad1-4c8d-9dce-dd9315de6e7b"
      },
      "execution_count": 344,
      "outputs": [
        {
          "output_type": "execute_result",
          "data": {
            "text/plain": [
              "dtype('int64')"
            ]
          },
          "metadata": {},
          "execution_count": 344
        }
      ]
    },
    {
      "cell_type": "code",
      "source": [
        "rp_.head(2)"
      ],
      "metadata": {
        "colab": {
          "base_uri": "https://localhost:8080/",
          "height": 161
        },
        "id": "FvzqXgcmA41L",
        "outputId": "02074573-3385-4e7d-81da-71ffd869d9bf"
      },
      "execution_count": 345,
      "outputs": [
        {
          "output_type": "execute_result",
          "data": {
            "text/plain": [
              "   MES  LINEA_RENOVADO  PLAZO_RENOVADO  FLAG_VENTA  USO_LINEA_TOTAL_TC_T2  \\\n",
              "0    6            3770              12           0                    0.0   \n",
              "1    6            1300               6           0                    0.0   \n",
              "\n",
              "   USO_TRIM_LINEA_BBVA  NR_ENTIDADES_TOTAL_T2  DIFF_NRO_ENTIDA_TOTALES_T2_T12  \\\n",
              "0                  0.0                      1                              -1   \n",
              "1                  0.0                      1                               0   \n",
              "\n",
              "   SDO_CONSUMO_T2  RESENCIA_OFERTA_PLD_RENOVADO  ...  PConsumo_Sldo_Bco_T1  \\\n",
              "0          271.12                          21.0  ...                   457   \n",
              "1        11200.00                           9.0  ...                 11200   \n",
              "\n",
              "   SDO_BCO_tot_sm_pasivo_Bco_6M  FLAG_LIMA_PROVINCIA  \\\n",
              "0                   3754.333333                    1   \n",
              "1                   1581.333333                    1   \n",
              "\n",
              "   CUBRIR_DEUDA_CONSUMO_SF_RENOVA_PLD  ANTIGUEDAD_MES_ls  SUELDO_ESTIMADO_ls  \\\n",
              "0                            0.071915                 23              3531.0   \n",
              "1                            8.615380                 56              1322.0   \n",
              "\n",
              "   EDAD_ls  SEXO_ls  EST_CIVIL_ls  REGION_ls  \n",
              "0       25        1             2          6  \n",
              "1       33        1             2          4  \n",
              "\n",
              "[2 rows x 21 columns]"
            ],
            "text/html": [
              "\n",
              "  <div id=\"df-89533a81-7a2b-4da1-9da1-33306fc40e5a\" class=\"colab-df-container\">\n",
              "    <div>\n",
              "<style scoped>\n",
              "    .dataframe tbody tr th:only-of-type {\n",
              "        vertical-align: middle;\n",
              "    }\n",
              "\n",
              "    .dataframe tbody tr th {\n",
              "        vertical-align: top;\n",
              "    }\n",
              "\n",
              "    .dataframe thead th {\n",
              "        text-align: right;\n",
              "    }\n",
              "</style>\n",
              "<table border=\"1\" class=\"dataframe\">\n",
              "  <thead>\n",
              "    <tr style=\"text-align: right;\">\n",
              "      <th></th>\n",
              "      <th>MES</th>\n",
              "      <th>LINEA_RENOVADO</th>\n",
              "      <th>PLAZO_RENOVADO</th>\n",
              "      <th>FLAG_VENTA</th>\n",
              "      <th>USO_LINEA_TOTAL_TC_T2</th>\n",
              "      <th>USO_TRIM_LINEA_BBVA</th>\n",
              "      <th>NR_ENTIDADES_TOTAL_T2</th>\n",
              "      <th>DIFF_NRO_ENTIDA_TOTALES_T2_T12</th>\n",
              "      <th>SDO_CONSUMO_T2</th>\n",
              "      <th>RESENCIA_OFERTA_PLD_RENOVADO</th>\n",
              "      <th>...</th>\n",
              "      <th>PConsumo_Sldo_Bco_T1</th>\n",
              "      <th>SDO_BCO_tot_sm_pasivo_Bco_6M</th>\n",
              "      <th>FLAG_LIMA_PROVINCIA</th>\n",
              "      <th>CUBRIR_DEUDA_CONSUMO_SF_RENOVA_PLD</th>\n",
              "      <th>ANTIGUEDAD_MES_ls</th>\n",
              "      <th>SUELDO_ESTIMADO_ls</th>\n",
              "      <th>EDAD_ls</th>\n",
              "      <th>SEXO_ls</th>\n",
              "      <th>EST_CIVIL_ls</th>\n",
              "      <th>REGION_ls</th>\n",
              "    </tr>\n",
              "  </thead>\n",
              "  <tbody>\n",
              "    <tr>\n",
              "      <th>0</th>\n",
              "      <td>6</td>\n",
              "      <td>3770</td>\n",
              "      <td>12</td>\n",
              "      <td>0</td>\n",
              "      <td>0.0</td>\n",
              "      <td>0.0</td>\n",
              "      <td>1</td>\n",
              "      <td>-1</td>\n",
              "      <td>271.12</td>\n",
              "      <td>21.0</td>\n",
              "      <td>...</td>\n",
              "      <td>457</td>\n",
              "      <td>3754.333333</td>\n",
              "      <td>1</td>\n",
              "      <td>0.071915</td>\n",
              "      <td>23</td>\n",
              "      <td>3531.0</td>\n",
              "      <td>25</td>\n",
              "      <td>1</td>\n",
              "      <td>2</td>\n",
              "      <td>6</td>\n",
              "    </tr>\n",
              "    <tr>\n",
              "      <th>1</th>\n",
              "      <td>6</td>\n",
              "      <td>1300</td>\n",
              "      <td>6</td>\n",
              "      <td>0</td>\n",
              "      <td>0.0</td>\n",
              "      <td>0.0</td>\n",
              "      <td>1</td>\n",
              "      <td>0</td>\n",
              "      <td>11200.00</td>\n",
              "      <td>9.0</td>\n",
              "      <td>...</td>\n",
              "      <td>11200</td>\n",
              "      <td>1581.333333</td>\n",
              "      <td>1</td>\n",
              "      <td>8.615380</td>\n",
              "      <td>56</td>\n",
              "      <td>1322.0</td>\n",
              "      <td>33</td>\n",
              "      <td>1</td>\n",
              "      <td>2</td>\n",
              "      <td>4</td>\n",
              "    </tr>\n",
              "  </tbody>\n",
              "</table>\n",
              "<p>2 rows × 21 columns</p>\n",
              "</div>\n",
              "    <div class=\"colab-df-buttons\">\n",
              "\n",
              "  <div class=\"colab-df-container\">\n",
              "    <button class=\"colab-df-convert\" onclick=\"convertToInteractive('df-89533a81-7a2b-4da1-9da1-33306fc40e5a')\"\n",
              "            title=\"Convert this dataframe to an interactive table.\"\n",
              "            style=\"display:none;\">\n",
              "\n",
              "  <svg xmlns=\"http://www.w3.org/2000/svg\" height=\"24px\" viewBox=\"0 -960 960 960\">\n",
              "    <path d=\"M120-120v-720h720v720H120Zm60-500h600v-160H180v160Zm220 220h160v-160H400v160Zm0 220h160v-160H400v160ZM180-400h160v-160H180v160Zm440 0h160v-160H620v160ZM180-180h160v-160H180v160Zm440 0h160v-160H620v160Z\"/>\n",
              "  </svg>\n",
              "    </button>\n",
              "\n",
              "  <style>\n",
              "    .colab-df-container {\n",
              "      display:flex;\n",
              "      gap: 12px;\n",
              "    }\n",
              "\n",
              "    .colab-df-convert {\n",
              "      background-color: #E8F0FE;\n",
              "      border: none;\n",
              "      border-radius: 50%;\n",
              "      cursor: pointer;\n",
              "      display: none;\n",
              "      fill: #1967D2;\n",
              "      height: 32px;\n",
              "      padding: 0 0 0 0;\n",
              "      width: 32px;\n",
              "    }\n",
              "\n",
              "    .colab-df-convert:hover {\n",
              "      background-color: #E2EBFA;\n",
              "      box-shadow: 0px 1px 2px rgba(60, 64, 67, 0.3), 0px 1px 3px 1px rgba(60, 64, 67, 0.15);\n",
              "      fill: #174EA6;\n",
              "    }\n",
              "\n",
              "    .colab-df-buttons div {\n",
              "      margin-bottom: 4px;\n",
              "    }\n",
              "\n",
              "    [theme=dark] .colab-df-convert {\n",
              "      background-color: #3B4455;\n",
              "      fill: #D2E3FC;\n",
              "    }\n",
              "\n",
              "    [theme=dark] .colab-df-convert:hover {\n",
              "      background-color: #434B5C;\n",
              "      box-shadow: 0px 1px 3px 1px rgba(0, 0, 0, 0.15);\n",
              "      filter: drop-shadow(0px 1px 2px rgba(0, 0, 0, 0.3));\n",
              "      fill: #FFFFFF;\n",
              "    }\n",
              "  </style>\n",
              "\n",
              "    <script>\n",
              "      const buttonEl =\n",
              "        document.querySelector('#df-89533a81-7a2b-4da1-9da1-33306fc40e5a button.colab-df-convert');\n",
              "      buttonEl.style.display =\n",
              "        google.colab.kernel.accessAllowed ? 'block' : 'none';\n",
              "\n",
              "      async function convertToInteractive(key) {\n",
              "        const element = document.querySelector('#df-89533a81-7a2b-4da1-9da1-33306fc40e5a');\n",
              "        const dataTable =\n",
              "          await google.colab.kernel.invokeFunction('convertToInteractive',\n",
              "                                                    [key], {});\n",
              "        if (!dataTable) return;\n",
              "\n",
              "        const docLinkHtml = 'Like what you see? Visit the ' +\n",
              "          '<a target=\"_blank\" href=https://colab.research.google.com/notebooks/data_table.ipynb>data table notebook</a>'\n",
              "          + ' to learn more about interactive tables.';\n",
              "        element.innerHTML = '';\n",
              "        dataTable['output_type'] = 'display_data';\n",
              "        await google.colab.output.renderOutput(dataTable, element);\n",
              "        const docLink = document.createElement('div');\n",
              "        docLink.innerHTML = docLinkHtml;\n",
              "        element.appendChild(docLink);\n",
              "      }\n",
              "    </script>\n",
              "  </div>\n",
              "\n",
              "\n",
              "<div id=\"df-49484b33-3c2a-4e13-b1e3-077e47844bd4\">\n",
              "  <button class=\"colab-df-quickchart\" onclick=\"quickchart('df-49484b33-3c2a-4e13-b1e3-077e47844bd4')\"\n",
              "            title=\"Suggest charts\"\n",
              "            style=\"display:none;\">\n",
              "\n",
              "<svg xmlns=\"http://www.w3.org/2000/svg\" height=\"24px\"viewBox=\"0 0 24 24\"\n",
              "     width=\"24px\">\n",
              "    <g>\n",
              "        <path d=\"M19 3H5c-1.1 0-2 .9-2 2v14c0 1.1.9 2 2 2h14c1.1 0 2-.9 2-2V5c0-1.1-.9-2-2-2zM9 17H7v-7h2v7zm4 0h-2V7h2v10zm4 0h-2v-4h2v4z\"/>\n",
              "    </g>\n",
              "</svg>\n",
              "  </button>\n",
              "\n",
              "<style>\n",
              "  .colab-df-quickchart {\n",
              "      --bg-color: #E8F0FE;\n",
              "      --fill-color: #1967D2;\n",
              "      --hover-bg-color: #E2EBFA;\n",
              "      --hover-fill-color: #174EA6;\n",
              "      --disabled-fill-color: #AAA;\n",
              "      --disabled-bg-color: #DDD;\n",
              "  }\n",
              "\n",
              "  [theme=dark] .colab-df-quickchart {\n",
              "      --bg-color: #3B4455;\n",
              "      --fill-color: #D2E3FC;\n",
              "      --hover-bg-color: #434B5C;\n",
              "      --hover-fill-color: #FFFFFF;\n",
              "      --disabled-bg-color: #3B4455;\n",
              "      --disabled-fill-color: #666;\n",
              "  }\n",
              "\n",
              "  .colab-df-quickchart {\n",
              "    background-color: var(--bg-color);\n",
              "    border: none;\n",
              "    border-radius: 50%;\n",
              "    cursor: pointer;\n",
              "    display: none;\n",
              "    fill: var(--fill-color);\n",
              "    height: 32px;\n",
              "    padding: 0;\n",
              "    width: 32px;\n",
              "  }\n",
              "\n",
              "  .colab-df-quickchart:hover {\n",
              "    background-color: var(--hover-bg-color);\n",
              "    box-shadow: 0 1px 2px rgba(60, 64, 67, 0.3), 0 1px 3px 1px rgba(60, 64, 67, 0.15);\n",
              "    fill: var(--button-hover-fill-color);\n",
              "  }\n",
              "\n",
              "  .colab-df-quickchart-complete:disabled,\n",
              "  .colab-df-quickchart-complete:disabled:hover {\n",
              "    background-color: var(--disabled-bg-color);\n",
              "    fill: var(--disabled-fill-color);\n",
              "    box-shadow: none;\n",
              "  }\n",
              "\n",
              "  .colab-df-spinner {\n",
              "    border: 2px solid var(--fill-color);\n",
              "    border-color: transparent;\n",
              "    border-bottom-color: var(--fill-color);\n",
              "    animation:\n",
              "      spin 1s steps(1) infinite;\n",
              "  }\n",
              "\n",
              "  @keyframes spin {\n",
              "    0% {\n",
              "      border-color: transparent;\n",
              "      border-bottom-color: var(--fill-color);\n",
              "      border-left-color: var(--fill-color);\n",
              "    }\n",
              "    20% {\n",
              "      border-color: transparent;\n",
              "      border-left-color: var(--fill-color);\n",
              "      border-top-color: var(--fill-color);\n",
              "    }\n",
              "    30% {\n",
              "      border-color: transparent;\n",
              "      border-left-color: var(--fill-color);\n",
              "      border-top-color: var(--fill-color);\n",
              "      border-right-color: var(--fill-color);\n",
              "    }\n",
              "    40% {\n",
              "      border-color: transparent;\n",
              "      border-right-color: var(--fill-color);\n",
              "      border-top-color: var(--fill-color);\n",
              "    }\n",
              "    60% {\n",
              "      border-color: transparent;\n",
              "      border-right-color: var(--fill-color);\n",
              "    }\n",
              "    80% {\n",
              "      border-color: transparent;\n",
              "      border-right-color: var(--fill-color);\n",
              "      border-bottom-color: var(--fill-color);\n",
              "    }\n",
              "    90% {\n",
              "      border-color: transparent;\n",
              "      border-bottom-color: var(--fill-color);\n",
              "    }\n",
              "  }\n",
              "</style>\n",
              "\n",
              "  <script>\n",
              "    async function quickchart(key) {\n",
              "      const quickchartButtonEl =\n",
              "        document.querySelector('#' + key + ' button');\n",
              "      quickchartButtonEl.disabled = true;  // To prevent multiple clicks.\n",
              "      quickchartButtonEl.classList.add('colab-df-spinner');\n",
              "      try {\n",
              "        const charts = await google.colab.kernel.invokeFunction(\n",
              "            'suggestCharts', [key], {});\n",
              "      } catch (error) {\n",
              "        console.error('Error during call to suggestCharts:', error);\n",
              "      }\n",
              "      quickchartButtonEl.classList.remove('colab-df-spinner');\n",
              "      quickchartButtonEl.classList.add('colab-df-quickchart-complete');\n",
              "    }\n",
              "    (() => {\n",
              "      let quickchartButtonEl =\n",
              "        document.querySelector('#df-49484b33-3c2a-4e13-b1e3-077e47844bd4 button');\n",
              "      quickchartButtonEl.style.display =\n",
              "        google.colab.kernel.accessAllowed ? 'block' : 'none';\n",
              "    })();\n",
              "  </script>\n",
              "</div>\n",
              "    </div>\n",
              "  </div>\n"
            ]
          },
          "metadata": {},
          "execution_count": 345
        }
      ]
    },
    {
      "cell_type": "code",
      "source": [
        "rp_.isna().sum()"
      ],
      "metadata": {
        "colab": {
          "base_uri": "https://localhost:8080/"
        },
        "id": "wmtsA6HpTUbG",
        "outputId": "2f944c7b-0db0-44d2-a896-21e3f2b1c9cc"
      },
      "execution_count": 346,
      "outputs": [
        {
          "output_type": "execute_result",
          "data": {
            "text/plain": [
              "MES                                       0\n",
              "LINEA_RENOVADO                            0\n",
              "PLAZO_RENOVADO                            0\n",
              "FLAG_VENTA                                0\n",
              "USO_LINEA_TOTAL_TC_T2                 19189\n",
              "USO_TRIM_LINEA_BBVA                   19189\n",
              "NR_ENTIDADES_TOTAL_T2                     0\n",
              "DIFF_NRO_ENTIDA_TOTALES_T2_T12            0\n",
              "SDO_CONSUMO_T2                         5186\n",
              "RESENCIA_OFERTA_PLD_RENOVADO          13855\n",
              "Ahorro_Sldo_Bco_T1                        0\n",
              "PConsumo_Sldo_Bco_T1                      0\n",
              "SDO_BCO_tot_sm_pasivo_Bco_6M              0\n",
              "FLAG_LIMA_PROVINCIA                       0\n",
              "CUBRIR_DEUDA_CONSUMO_SF_RENOVA_PLD        0\n",
              "ANTIGUEDAD_MES_ls                         0\n",
              "SUELDO_ESTIMADO_ls                        0\n",
              "EDAD_ls                                   0\n",
              "SEXO_ls                                   0\n",
              "EST_CIVIL_ls                              0\n",
              "REGION_ls                                 0\n",
              "dtype: int64"
            ]
          },
          "metadata": {},
          "execution_count": 346
        }
      ]
    },
    {
      "cell_type": "code",
      "source": [
        "rp_.to_excel('rp_ml.xlsx', index=False)"
      ],
      "metadata": {
        "id": "fckNVi5cDBKO"
      },
      "execution_count": 347,
      "outputs": []
    },
    {
      "cell_type": "markdown",
      "source": [
        "# 3.- DIVISION DE DATOS PARA ENTRENAMIENTO Y PRUEBAS"
      ],
      "metadata": {
        "id": "xLrpj0o1B1gu"
      }
    },
    {
      "cell_type": "code",
      "source": [
        "rp_ml=pd.read_excel(\"/content/rp_ml.xlsx\")\n",
        "rp_ml"
      ],
      "metadata": {
        "colab": {
          "base_uri": "https://localhost:8080/",
          "height": 443
        },
        "id": "Bf3AoG_jDx7E",
        "outputId": "cb83947a-5a3a-4f98-9e0e-f7d329021da4"
      },
      "execution_count": 348,
      "outputs": [
        {
          "output_type": "execute_result",
          "data": {
            "text/plain": [
              "       MES  LINEA_RENOVADO  PLAZO_RENOVADO  FLAG_VENTA  USO_LINEA_TOTAL_TC_T2  \\\n",
              "0        6            3770              12           0               0.000000   \n",
              "1        6            1300               6           0               0.000000   \n",
              "2        6            7800              36           0               0.429507   \n",
              "3        6            6630              12           0               0.000000   \n",
              "4        6           15497              36           1                    NaN   \n",
              "...    ...             ...             ...         ...                    ...   \n",
              "87533    8           32500              36           0               0.225158   \n",
              "87534    7           19500              18           0               0.133990   \n",
              "87535    6           20800              24           0                    NaN   \n",
              "87536    8           22816              36           0               0.015731   \n",
              "87537    8           13845              36           0                    NaN   \n",
              "\n",
              "       USO_TRIM_LINEA_BBVA  NR_ENTIDADES_TOTAL_T2  \\\n",
              "0                 0.000000                      1   \n",
              "1                 0.000000                      1   \n",
              "2                 0.225615                      5   \n",
              "3                 0.000000                      1   \n",
              "4                      NaN                      1   \n",
              "...                    ...                    ...   \n",
              "87533             0.448000                      1   \n",
              "87534             0.096868                      3   \n",
              "87535                  NaN                      2   \n",
              "87536             0.084942                      1   \n",
              "87537                  NaN                      2   \n",
              "\n",
              "       DIFF_NRO_ENTIDA_TOTALES_T2_T12  SDO_CONSUMO_T2  \\\n",
              "0                                  -1          271.12   \n",
              "1                                   0        11200.00   \n",
              "2                                  -2        20156.45   \n",
              "3                                   1        20485.14   \n",
              "4                                   0         1682.83   \n",
              "...                               ...             ...   \n",
              "87533                               0        20450.26   \n",
              "87534                              -1        22128.11   \n",
              "87535                               0            0.00   \n",
              "87536                               0        16716.47   \n",
              "87537                              -1         2018.52   \n",
              "\n",
              "       RESENCIA_OFERTA_PLD_RENOVADO  ...  PConsumo_Sldo_Bco_T1  \\\n",
              "0                              21.0  ...                   457   \n",
              "1                               9.0  ...                 11200   \n",
              "2                               NaN  ...                  4778   \n",
              "3                              20.0  ...                     0   \n",
              "4                              11.0  ...                  1935   \n",
              "...                             ...  ...                   ...   \n",
              "87533                          15.0  ...                 35820   \n",
              "87534                           NaN  ...                 11880   \n",
              "87535                           NaN  ...                 12688   \n",
              "87536                           NaN  ...                 33950   \n",
              "87537                          21.0  ...                  3698   \n",
              "\n",
              "       SDO_BCO_tot_sm_pasivo_Bco_6M  FLAG_LIMA_PROVINCIA  \\\n",
              "0                       3754.333333                    1   \n",
              "1                       1581.333333                    1   \n",
              "2                      10241.000000                    1   \n",
              "3                       5797.333333                    0   \n",
              "4                      16755.333330                    0   \n",
              "...                             ...                  ...   \n",
              "87533                   6914.000000                    1   \n",
              "87534                   5740.333333                    1   \n",
              "87535                   1717.166666                    1   \n",
              "87536                    291.750000                    0   \n",
              "87537                      1.500000                    1   \n",
              "\n",
              "       CUBRIR_DEUDA_CONSUMO_SF_RENOVA_PLD  ANTIGUEDAD_MES_ls  \\\n",
              "0                                0.071915                 23   \n",
              "1                                8.615380                 56   \n",
              "2                                2.584160                 20   \n",
              "3                                3.089760                166   \n",
              "4                                0.108590                 55   \n",
              "...                                   ...                ...   \n",
              "87533                            0.629238                 43   \n",
              "87534                            1.134770                203   \n",
              "87535                            0.000000                149   \n",
              "87536                            0.732664                 33   \n",
              "87537                            0.145794                161   \n",
              "\n",
              "       SUELDO_ESTIMADO_ls  EDAD_ls  SEXO_ls  EST_CIVIL_ls  REGION_ls  \n",
              "0                3531.000       25        1             2          6  \n",
              "1                1322.000       33        1             2          4  \n",
              "2                4234.000       26        1             2          5  \n",
              "3                6647.000       51        1             2          9  \n",
              "4                2094.000       35        1             0          9  \n",
              "...                   ...      ...      ...           ...        ...  \n",
              "87533            3277.000       25        1             2          6  \n",
              "87534            9804.000       48        1             0          6  \n",
              "87535           10722.265       35        0             0          5  \n",
              "87536            1500.000       40        1             2         12  \n",
              "87537            2104.000       38        1             2          4  \n",
              "\n",
              "[87538 rows x 21 columns]"
            ],
            "text/html": [
              "\n",
              "  <div id=\"df-180f59c1-9cef-4509-900c-58f0147886b3\" class=\"colab-df-container\">\n",
              "    <div>\n",
              "<style scoped>\n",
              "    .dataframe tbody tr th:only-of-type {\n",
              "        vertical-align: middle;\n",
              "    }\n",
              "\n",
              "    .dataframe tbody tr th {\n",
              "        vertical-align: top;\n",
              "    }\n",
              "\n",
              "    .dataframe thead th {\n",
              "        text-align: right;\n",
              "    }\n",
              "</style>\n",
              "<table border=\"1\" class=\"dataframe\">\n",
              "  <thead>\n",
              "    <tr style=\"text-align: right;\">\n",
              "      <th></th>\n",
              "      <th>MES</th>\n",
              "      <th>LINEA_RENOVADO</th>\n",
              "      <th>PLAZO_RENOVADO</th>\n",
              "      <th>FLAG_VENTA</th>\n",
              "      <th>USO_LINEA_TOTAL_TC_T2</th>\n",
              "      <th>USO_TRIM_LINEA_BBVA</th>\n",
              "      <th>NR_ENTIDADES_TOTAL_T2</th>\n",
              "      <th>DIFF_NRO_ENTIDA_TOTALES_T2_T12</th>\n",
              "      <th>SDO_CONSUMO_T2</th>\n",
              "      <th>RESENCIA_OFERTA_PLD_RENOVADO</th>\n",
              "      <th>...</th>\n",
              "      <th>PConsumo_Sldo_Bco_T1</th>\n",
              "      <th>SDO_BCO_tot_sm_pasivo_Bco_6M</th>\n",
              "      <th>FLAG_LIMA_PROVINCIA</th>\n",
              "      <th>CUBRIR_DEUDA_CONSUMO_SF_RENOVA_PLD</th>\n",
              "      <th>ANTIGUEDAD_MES_ls</th>\n",
              "      <th>SUELDO_ESTIMADO_ls</th>\n",
              "      <th>EDAD_ls</th>\n",
              "      <th>SEXO_ls</th>\n",
              "      <th>EST_CIVIL_ls</th>\n",
              "      <th>REGION_ls</th>\n",
              "    </tr>\n",
              "  </thead>\n",
              "  <tbody>\n",
              "    <tr>\n",
              "      <th>0</th>\n",
              "      <td>6</td>\n",
              "      <td>3770</td>\n",
              "      <td>12</td>\n",
              "      <td>0</td>\n",
              "      <td>0.000000</td>\n",
              "      <td>0.000000</td>\n",
              "      <td>1</td>\n",
              "      <td>-1</td>\n",
              "      <td>271.12</td>\n",
              "      <td>21.0</td>\n",
              "      <td>...</td>\n",
              "      <td>457</td>\n",
              "      <td>3754.333333</td>\n",
              "      <td>1</td>\n",
              "      <td>0.071915</td>\n",
              "      <td>23</td>\n",
              "      <td>3531.000</td>\n",
              "      <td>25</td>\n",
              "      <td>1</td>\n",
              "      <td>2</td>\n",
              "      <td>6</td>\n",
              "    </tr>\n",
              "    <tr>\n",
              "      <th>1</th>\n",
              "      <td>6</td>\n",
              "      <td>1300</td>\n",
              "      <td>6</td>\n",
              "      <td>0</td>\n",
              "      <td>0.000000</td>\n",
              "      <td>0.000000</td>\n",
              "      <td>1</td>\n",
              "      <td>0</td>\n",
              "      <td>11200.00</td>\n",
              "      <td>9.0</td>\n",
              "      <td>...</td>\n",
              "      <td>11200</td>\n",
              "      <td>1581.333333</td>\n",
              "      <td>1</td>\n",
              "      <td>8.615380</td>\n",
              "      <td>56</td>\n",
              "      <td>1322.000</td>\n",
              "      <td>33</td>\n",
              "      <td>1</td>\n",
              "      <td>2</td>\n",
              "      <td>4</td>\n",
              "    </tr>\n",
              "    <tr>\n",
              "      <th>2</th>\n",
              "      <td>6</td>\n",
              "      <td>7800</td>\n",
              "      <td>36</td>\n",
              "      <td>0</td>\n",
              "      <td>0.429507</td>\n",
              "      <td>0.225615</td>\n",
              "      <td>5</td>\n",
              "      <td>-2</td>\n",
              "      <td>20156.45</td>\n",
              "      <td>NaN</td>\n",
              "      <td>...</td>\n",
              "      <td>4778</td>\n",
              "      <td>10241.000000</td>\n",
              "      <td>1</td>\n",
              "      <td>2.584160</td>\n",
              "      <td>20</td>\n",
              "      <td>4234.000</td>\n",
              "      <td>26</td>\n",
              "      <td>1</td>\n",
              "      <td>2</td>\n",
              "      <td>5</td>\n",
              "    </tr>\n",
              "    <tr>\n",
              "      <th>3</th>\n",
              "      <td>6</td>\n",
              "      <td>6630</td>\n",
              "      <td>12</td>\n",
              "      <td>0</td>\n",
              "      <td>0.000000</td>\n",
              "      <td>0.000000</td>\n",
              "      <td>1</td>\n",
              "      <td>1</td>\n",
              "      <td>20485.14</td>\n",
              "      <td>20.0</td>\n",
              "      <td>...</td>\n",
              "      <td>0</td>\n",
              "      <td>5797.333333</td>\n",
              "      <td>0</td>\n",
              "      <td>3.089760</td>\n",
              "      <td>166</td>\n",
              "      <td>6647.000</td>\n",
              "      <td>51</td>\n",
              "      <td>1</td>\n",
              "      <td>2</td>\n",
              "      <td>9</td>\n",
              "    </tr>\n",
              "    <tr>\n",
              "      <th>4</th>\n",
              "      <td>6</td>\n",
              "      <td>15497</td>\n",
              "      <td>36</td>\n",
              "      <td>1</td>\n",
              "      <td>NaN</td>\n",
              "      <td>NaN</td>\n",
              "      <td>1</td>\n",
              "      <td>0</td>\n",
              "      <td>1682.83</td>\n",
              "      <td>11.0</td>\n",
              "      <td>...</td>\n",
              "      <td>1935</td>\n",
              "      <td>16755.333330</td>\n",
              "      <td>0</td>\n",
              "      <td>0.108590</td>\n",
              "      <td>55</td>\n",
              "      <td>2094.000</td>\n",
              "      <td>35</td>\n",
              "      <td>1</td>\n",
              "      <td>0</td>\n",
              "      <td>9</td>\n",
              "    </tr>\n",
              "    <tr>\n",
              "      <th>...</th>\n",
              "      <td>...</td>\n",
              "      <td>...</td>\n",
              "      <td>...</td>\n",
              "      <td>...</td>\n",
              "      <td>...</td>\n",
              "      <td>...</td>\n",
              "      <td>...</td>\n",
              "      <td>...</td>\n",
              "      <td>...</td>\n",
              "      <td>...</td>\n",
              "      <td>...</td>\n",
              "      <td>...</td>\n",
              "      <td>...</td>\n",
              "      <td>...</td>\n",
              "      <td>...</td>\n",
              "      <td>...</td>\n",
              "      <td>...</td>\n",
              "      <td>...</td>\n",
              "      <td>...</td>\n",
              "      <td>...</td>\n",
              "      <td>...</td>\n",
              "    </tr>\n",
              "    <tr>\n",
              "      <th>87533</th>\n",
              "      <td>8</td>\n",
              "      <td>32500</td>\n",
              "      <td>36</td>\n",
              "      <td>0</td>\n",
              "      <td>0.225158</td>\n",
              "      <td>0.448000</td>\n",
              "      <td>1</td>\n",
              "      <td>0</td>\n",
              "      <td>20450.26</td>\n",
              "      <td>15.0</td>\n",
              "      <td>...</td>\n",
              "      <td>35820</td>\n",
              "      <td>6914.000000</td>\n",
              "      <td>1</td>\n",
              "      <td>0.629238</td>\n",
              "      <td>43</td>\n",
              "      <td>3277.000</td>\n",
              "      <td>25</td>\n",
              "      <td>1</td>\n",
              "      <td>2</td>\n",
              "      <td>6</td>\n",
              "    </tr>\n",
              "    <tr>\n",
              "      <th>87534</th>\n",
              "      <td>7</td>\n",
              "      <td>19500</td>\n",
              "      <td>18</td>\n",
              "      <td>0</td>\n",
              "      <td>0.133990</td>\n",
              "      <td>0.096868</td>\n",
              "      <td>3</td>\n",
              "      <td>-1</td>\n",
              "      <td>22128.11</td>\n",
              "      <td>NaN</td>\n",
              "      <td>...</td>\n",
              "      <td>11880</td>\n",
              "      <td>5740.333333</td>\n",
              "      <td>1</td>\n",
              "      <td>1.134770</td>\n",
              "      <td>203</td>\n",
              "      <td>9804.000</td>\n",
              "      <td>48</td>\n",
              "      <td>1</td>\n",
              "      <td>0</td>\n",
              "      <td>6</td>\n",
              "    </tr>\n",
              "    <tr>\n",
              "      <th>87535</th>\n",
              "      <td>6</td>\n",
              "      <td>20800</td>\n",
              "      <td>24</td>\n",
              "      <td>0</td>\n",
              "      <td>NaN</td>\n",
              "      <td>NaN</td>\n",
              "      <td>2</td>\n",
              "      <td>0</td>\n",
              "      <td>0.00</td>\n",
              "      <td>NaN</td>\n",
              "      <td>...</td>\n",
              "      <td>12688</td>\n",
              "      <td>1717.166666</td>\n",
              "      <td>1</td>\n",
              "      <td>0.000000</td>\n",
              "      <td>149</td>\n",
              "      <td>10722.265</td>\n",
              "      <td>35</td>\n",
              "      <td>0</td>\n",
              "      <td>0</td>\n",
              "      <td>5</td>\n",
              "    </tr>\n",
              "    <tr>\n",
              "      <th>87536</th>\n",
              "      <td>8</td>\n",
              "      <td>22816</td>\n",
              "      <td>36</td>\n",
              "      <td>0</td>\n",
              "      <td>0.015731</td>\n",
              "      <td>0.084942</td>\n",
              "      <td>1</td>\n",
              "      <td>0</td>\n",
              "      <td>16716.47</td>\n",
              "      <td>NaN</td>\n",
              "      <td>...</td>\n",
              "      <td>33950</td>\n",
              "      <td>291.750000</td>\n",
              "      <td>0</td>\n",
              "      <td>0.732664</td>\n",
              "      <td>33</td>\n",
              "      <td>1500.000</td>\n",
              "      <td>40</td>\n",
              "      <td>1</td>\n",
              "      <td>2</td>\n",
              "      <td>12</td>\n",
              "    </tr>\n",
              "    <tr>\n",
              "      <th>87537</th>\n",
              "      <td>8</td>\n",
              "      <td>13845</td>\n",
              "      <td>36</td>\n",
              "      <td>0</td>\n",
              "      <td>NaN</td>\n",
              "      <td>NaN</td>\n",
              "      <td>2</td>\n",
              "      <td>-1</td>\n",
              "      <td>2018.52</td>\n",
              "      <td>21.0</td>\n",
              "      <td>...</td>\n",
              "      <td>3698</td>\n",
              "      <td>1.500000</td>\n",
              "      <td>1</td>\n",
              "      <td>0.145794</td>\n",
              "      <td>161</td>\n",
              "      <td>2104.000</td>\n",
              "      <td>38</td>\n",
              "      <td>1</td>\n",
              "      <td>2</td>\n",
              "      <td>4</td>\n",
              "    </tr>\n",
              "  </tbody>\n",
              "</table>\n",
              "<p>87538 rows × 21 columns</p>\n",
              "</div>\n",
              "    <div class=\"colab-df-buttons\">\n",
              "\n",
              "  <div class=\"colab-df-container\">\n",
              "    <button class=\"colab-df-convert\" onclick=\"convertToInteractive('df-180f59c1-9cef-4509-900c-58f0147886b3')\"\n",
              "            title=\"Convert this dataframe to an interactive table.\"\n",
              "            style=\"display:none;\">\n",
              "\n",
              "  <svg xmlns=\"http://www.w3.org/2000/svg\" height=\"24px\" viewBox=\"0 -960 960 960\">\n",
              "    <path d=\"M120-120v-720h720v720H120Zm60-500h600v-160H180v160Zm220 220h160v-160H400v160Zm0 220h160v-160H400v160ZM180-400h160v-160H180v160Zm440 0h160v-160H620v160ZM180-180h160v-160H180v160Zm440 0h160v-160H620v160Z\"/>\n",
              "  </svg>\n",
              "    </button>\n",
              "\n",
              "  <style>\n",
              "    .colab-df-container {\n",
              "      display:flex;\n",
              "      gap: 12px;\n",
              "    }\n",
              "\n",
              "    .colab-df-convert {\n",
              "      background-color: #E8F0FE;\n",
              "      border: none;\n",
              "      border-radius: 50%;\n",
              "      cursor: pointer;\n",
              "      display: none;\n",
              "      fill: #1967D2;\n",
              "      height: 32px;\n",
              "      padding: 0 0 0 0;\n",
              "      width: 32px;\n",
              "    }\n",
              "\n",
              "    .colab-df-convert:hover {\n",
              "      background-color: #E2EBFA;\n",
              "      box-shadow: 0px 1px 2px rgba(60, 64, 67, 0.3), 0px 1px 3px 1px rgba(60, 64, 67, 0.15);\n",
              "      fill: #174EA6;\n",
              "    }\n",
              "\n",
              "    .colab-df-buttons div {\n",
              "      margin-bottom: 4px;\n",
              "    }\n",
              "\n",
              "    [theme=dark] .colab-df-convert {\n",
              "      background-color: #3B4455;\n",
              "      fill: #D2E3FC;\n",
              "    }\n",
              "\n",
              "    [theme=dark] .colab-df-convert:hover {\n",
              "      background-color: #434B5C;\n",
              "      box-shadow: 0px 1px 3px 1px rgba(0, 0, 0, 0.15);\n",
              "      filter: drop-shadow(0px 1px 2px rgba(0, 0, 0, 0.3));\n",
              "      fill: #FFFFFF;\n",
              "    }\n",
              "  </style>\n",
              "\n",
              "    <script>\n",
              "      const buttonEl =\n",
              "        document.querySelector('#df-180f59c1-9cef-4509-900c-58f0147886b3 button.colab-df-convert');\n",
              "      buttonEl.style.display =\n",
              "        google.colab.kernel.accessAllowed ? 'block' : 'none';\n",
              "\n",
              "      async function convertToInteractive(key) {\n",
              "        const element = document.querySelector('#df-180f59c1-9cef-4509-900c-58f0147886b3');\n",
              "        const dataTable =\n",
              "          await google.colab.kernel.invokeFunction('convertToInteractive',\n",
              "                                                    [key], {});\n",
              "        if (!dataTable) return;\n",
              "\n",
              "        const docLinkHtml = 'Like what you see? Visit the ' +\n",
              "          '<a target=\"_blank\" href=https://colab.research.google.com/notebooks/data_table.ipynb>data table notebook</a>'\n",
              "          + ' to learn more about interactive tables.';\n",
              "        element.innerHTML = '';\n",
              "        dataTable['output_type'] = 'display_data';\n",
              "        await google.colab.output.renderOutput(dataTable, element);\n",
              "        const docLink = document.createElement('div');\n",
              "        docLink.innerHTML = docLinkHtml;\n",
              "        element.appendChild(docLink);\n",
              "      }\n",
              "    </script>\n",
              "  </div>\n",
              "\n",
              "\n",
              "<div id=\"df-748be102-e496-485a-b2f0-ecbb485e4ca9\">\n",
              "  <button class=\"colab-df-quickchart\" onclick=\"quickchart('df-748be102-e496-485a-b2f0-ecbb485e4ca9')\"\n",
              "            title=\"Suggest charts\"\n",
              "            style=\"display:none;\">\n",
              "\n",
              "<svg xmlns=\"http://www.w3.org/2000/svg\" height=\"24px\"viewBox=\"0 0 24 24\"\n",
              "     width=\"24px\">\n",
              "    <g>\n",
              "        <path d=\"M19 3H5c-1.1 0-2 .9-2 2v14c0 1.1.9 2 2 2h14c1.1 0 2-.9 2-2V5c0-1.1-.9-2-2-2zM9 17H7v-7h2v7zm4 0h-2V7h2v10zm4 0h-2v-4h2v4z\"/>\n",
              "    </g>\n",
              "</svg>\n",
              "  </button>\n",
              "\n",
              "<style>\n",
              "  .colab-df-quickchart {\n",
              "      --bg-color: #E8F0FE;\n",
              "      --fill-color: #1967D2;\n",
              "      --hover-bg-color: #E2EBFA;\n",
              "      --hover-fill-color: #174EA6;\n",
              "      --disabled-fill-color: #AAA;\n",
              "      --disabled-bg-color: #DDD;\n",
              "  }\n",
              "\n",
              "  [theme=dark] .colab-df-quickchart {\n",
              "      --bg-color: #3B4455;\n",
              "      --fill-color: #D2E3FC;\n",
              "      --hover-bg-color: #434B5C;\n",
              "      --hover-fill-color: #FFFFFF;\n",
              "      --disabled-bg-color: #3B4455;\n",
              "      --disabled-fill-color: #666;\n",
              "  }\n",
              "\n",
              "  .colab-df-quickchart {\n",
              "    background-color: var(--bg-color);\n",
              "    border: none;\n",
              "    border-radius: 50%;\n",
              "    cursor: pointer;\n",
              "    display: none;\n",
              "    fill: var(--fill-color);\n",
              "    height: 32px;\n",
              "    padding: 0;\n",
              "    width: 32px;\n",
              "  }\n",
              "\n",
              "  .colab-df-quickchart:hover {\n",
              "    background-color: var(--hover-bg-color);\n",
              "    box-shadow: 0 1px 2px rgba(60, 64, 67, 0.3), 0 1px 3px 1px rgba(60, 64, 67, 0.15);\n",
              "    fill: var(--button-hover-fill-color);\n",
              "  }\n",
              "\n",
              "  .colab-df-quickchart-complete:disabled,\n",
              "  .colab-df-quickchart-complete:disabled:hover {\n",
              "    background-color: var(--disabled-bg-color);\n",
              "    fill: var(--disabled-fill-color);\n",
              "    box-shadow: none;\n",
              "  }\n",
              "\n",
              "  .colab-df-spinner {\n",
              "    border: 2px solid var(--fill-color);\n",
              "    border-color: transparent;\n",
              "    border-bottom-color: var(--fill-color);\n",
              "    animation:\n",
              "      spin 1s steps(1) infinite;\n",
              "  }\n",
              "\n",
              "  @keyframes spin {\n",
              "    0% {\n",
              "      border-color: transparent;\n",
              "      border-bottom-color: var(--fill-color);\n",
              "      border-left-color: var(--fill-color);\n",
              "    }\n",
              "    20% {\n",
              "      border-color: transparent;\n",
              "      border-left-color: var(--fill-color);\n",
              "      border-top-color: var(--fill-color);\n",
              "    }\n",
              "    30% {\n",
              "      border-color: transparent;\n",
              "      border-left-color: var(--fill-color);\n",
              "      border-top-color: var(--fill-color);\n",
              "      border-right-color: var(--fill-color);\n",
              "    }\n",
              "    40% {\n",
              "      border-color: transparent;\n",
              "      border-right-color: var(--fill-color);\n",
              "      border-top-color: var(--fill-color);\n",
              "    }\n",
              "    60% {\n",
              "      border-color: transparent;\n",
              "      border-right-color: var(--fill-color);\n",
              "    }\n",
              "    80% {\n",
              "      border-color: transparent;\n",
              "      border-right-color: var(--fill-color);\n",
              "      border-bottom-color: var(--fill-color);\n",
              "    }\n",
              "    90% {\n",
              "      border-color: transparent;\n",
              "      border-bottom-color: var(--fill-color);\n",
              "    }\n",
              "  }\n",
              "</style>\n",
              "\n",
              "  <script>\n",
              "    async function quickchart(key) {\n",
              "      const quickchartButtonEl =\n",
              "        document.querySelector('#' + key + ' button');\n",
              "      quickchartButtonEl.disabled = true;  // To prevent multiple clicks.\n",
              "      quickchartButtonEl.classList.add('colab-df-spinner');\n",
              "      try {\n",
              "        const charts = await google.colab.kernel.invokeFunction(\n",
              "            'suggestCharts', [key], {});\n",
              "      } catch (error) {\n",
              "        console.error('Error during call to suggestCharts:', error);\n",
              "      }\n",
              "      quickchartButtonEl.classList.remove('colab-df-spinner');\n",
              "      quickchartButtonEl.classList.add('colab-df-quickchart-complete');\n",
              "    }\n",
              "    (() => {\n",
              "      let quickchartButtonEl =\n",
              "        document.querySelector('#df-748be102-e496-485a-b2f0-ecbb485e4ca9 button');\n",
              "      quickchartButtonEl.style.display =\n",
              "        google.colab.kernel.accessAllowed ? 'block' : 'none';\n",
              "    })();\n",
              "  </script>\n",
              "</div>\n",
              "    </div>\n",
              "  </div>\n"
            ]
          },
          "metadata": {},
          "execution_count": 348
        }
      ]
    },
    {
      "cell_type": "code",
      "source": [
        "rp_ml.isna().sum()"
      ],
      "metadata": {
        "colab": {
          "base_uri": "https://localhost:8080/"
        },
        "id": "4ZLNR6cmNizu",
        "outputId": "f89efe3b-6156-493c-edf6-eba506300858"
      },
      "execution_count": 374,
      "outputs": [
        {
          "output_type": "execute_result",
          "data": {
            "text/plain": [
              "MES                                       0\n",
              "LINEA_RENOVADO                            0\n",
              "PLAZO_RENOVADO                            0\n",
              "FLAG_VENTA                                0\n",
              "USO_LINEA_TOTAL_TC_T2                 19189\n",
              "USO_TRIM_LINEA_BBVA                   19189\n",
              "NR_ENTIDADES_TOTAL_T2                     0\n",
              "DIFF_NRO_ENTIDA_TOTALES_T2_T12            0\n",
              "SDO_CONSUMO_T2                         5186\n",
              "RESENCIA_OFERTA_PLD_RENOVADO          13855\n",
              "Ahorro_Sldo_Bco_T1                        0\n",
              "PConsumo_Sldo_Bco_T1                      0\n",
              "SDO_BCO_tot_sm_pasivo_Bco_6M              0\n",
              "FLAG_LIMA_PROVINCIA                       0\n",
              "CUBRIR_DEUDA_CONSUMO_SF_RENOVA_PLD        0\n",
              "ANTIGUEDAD_MES_ls                         0\n",
              "SUELDO_ESTIMADO_ls                        0\n",
              "EDAD_ls                                   0\n",
              "SEXO_ls                                   0\n",
              "EST_CIVIL_ls                              0\n",
              "REGION_ls                                 0\n",
              "dtype: int64"
            ]
          },
          "metadata": {},
          "execution_count": 374
        }
      ]
    },
    {
      "cell_type": "code",
      "source": [
        "rp_ml[\"FLAG_VENTA\"].value_counts()/len(rp_ml)*100"
      ],
      "metadata": {
        "colab": {
          "base_uri": "https://localhost:8080/"
        },
        "id": "rZO6_BoGbDLR",
        "outputId": "898ab0d0-3b12-463c-e960-307466f4ee8e"
      },
      "execution_count": 375,
      "outputs": [
        {
          "output_type": "execute_result",
          "data": {
            "text/plain": [
              "0    96.01316\n",
              "1     3.98684\n",
              "Name: FLAG_VENTA, dtype: float64"
            ]
          },
          "metadata": {},
          "execution_count": 375
        }
      ]
    },
    {
      "cell_type": "code",
      "source": [
        "X = rp_ml.drop(\"FLAG_VENTA\", axis=1)\n",
        "y = rp_ml[\"FLAG_VENTA\"]"
      ],
      "metadata": {
        "id": "WcK0Lg9KK8qC"
      },
      "execution_count": 376,
      "outputs": []
    },
    {
      "cell_type": "code",
      "source": [
        "# Nuestros datos estan desequilibrados, aplicamos la tecnica de muestreo \"oversampling\"\n",
        "from imblearn.over_sampling import RandomOverSampler\n",
        "\n",
        "oversample = RandomOverSampler(sampling_strategy='minority')\n",
        "X_over, y_over = oversample.fit_resample(X, y)\n",
        "y_over.value_counts()"
      ],
      "metadata": {
        "colab": {
          "base_uri": "https://localhost:8080/"
        },
        "id": "bjh-hD1wB4EK",
        "outputId": "e1c0be69-76bc-4888-e10d-c585b6b1816d"
      },
      "execution_count": 377,
      "outputs": [
        {
          "output_type": "execute_result",
          "data": {
            "text/plain": [
              "0    84048\n",
              "1    84048\n",
              "Name: FLAG_VENTA, dtype: int64"
            ]
          },
          "metadata": {},
          "execution_count": 377
        }
      ]
    },
    {
      "cell_type": "code",
      "source": [
        "# Divide el conjunto de datos en conjuntos de entrenamiento y prueba\n",
        "X_train, X_test, y_train, y_test = train_test_split(X_over, y_over, test_size=0.2, random_state=42)"
      ],
      "metadata": {
        "id": "U8QzZa5aB3jB"
      },
      "execution_count": 378,
      "outputs": []
    },
    {
      "cell_type": "markdown",
      "source": [
        "# 4.- PREPARAR, ENTRENAR Y EVALUAR EL MODELO"
      ],
      "metadata": {
        "id": "69k9C5R5B5Ch"
      }
    },
    {
      "cell_type": "code",
      "source": [
        "# Importamos el clsificador\n",
        "xgbc = XGBClassifier(random_state=42)\n",
        "\n",
        "# Entrena el modelo en el conjunto de entrenamiento\n",
        "xgbc.fit(X_train, y_train)\n",
        "\n",
        "print(\"accuracy on training set: \", xgbc.score(X_train, y_train))\n",
        "print(\"accuracy on test set: \", xgbc.score(X_test, y_test))"
      ],
      "metadata": {
        "colab": {
          "base_uri": "https://localhost:8080/"
        },
        "id": "8YeEEsQIDi9t",
        "outputId": "8c0c976d-ef06-43ea-a94e-34e562c297c5"
      },
      "execution_count": 379,
      "outputs": [
        {
          "output_type": "stream",
          "name": "stdout",
          "text": [
            "accuracy on training set:  0.918505904399298\n",
            "accuracy on test set:  0.9009220701963118\n"
          ]
        }
      ]
    },
    {
      "cell_type": "code",
      "source": [
        "confusion_matrix(y_test, xgbc.predict(X_test))"
      ],
      "metadata": {
        "colab": {
          "base_uri": "https://localhost:8080/"
        },
        "id": "PSi-T1JB3VHt",
        "outputId": "091caec1-bd83-41f4-be1c-12bf24cd2bc7"
      },
      "execution_count": 380,
      "outputs": [
        {
          "output_type": "execute_result",
          "data": {
            "text/plain": [
              "array([[14251,  2428],\n",
              "       [  903, 16038]])"
            ]
          },
          "metadata": {},
          "execution_count": 380
        }
      ]
    },
    {
      "cell_type": "code",
      "source": [
        "from sklearn import metrics\n",
        "\n",
        "print(\"Accuracy: \", metrics.accuracy_score(y_test, xgbc.predict(X_test)))\n",
        "print(\"Sensitivity_recall: \", metrics.recall_score(y_test, xgbc.predict(X_test)))\n",
        "print(\"Precision: \", metrics.precision_score(y_test, xgbc.predict(X_test)))\n",
        "print(\"F1_score: \", metrics.f1_score(y_test, xgbc.predict(X_test)))"
      ],
      "metadata": {
        "id": "JjBtH5YfF8Wj",
        "colab": {
          "base_uri": "https://localhost:8080/"
        },
        "outputId": "35a4458b-04c6-4992-fffa-bb79de2f3000"
      },
      "execution_count": 381,
      "outputs": [
        {
          "output_type": "stream",
          "name": "stdout",
          "text": [
            "Accuracy:  0.9009220701963118\n",
            "Sensitivity_recall:  0.9466973614308483\n",
            "Precision:  0.8685151088486949\n",
            "F1_score:  0.9059225576863331\n"
          ]
        }
      ]
    }
  ]
}